{
  "nbformat": 4,
  "nbformat_minor": 0,
  "metadata": {
    "colab": {
      "name": "Diabetes_v2.ipynb",
      "provenance": [],
      "collapsed_sections": [],
      "include_colab_link": true
    },
    "kernelspec": {
      "name": "python3",
      "display_name": "Python 3"
    }
  },
  "cells": [
    {
      "cell_type": "markdown",
      "metadata": {
        "id": "view-in-github",
        "colab_type": "text"
      },
      "source": [
        "<a href=\"https://colab.research.google.com/github/anthonyforde/diabetes/blob/main/Diabetes_Predictions.ipynb\" target=\"_parent\"><img src=\"https://colab.research.google.com/assets/colab-badge.svg\" alt=\"Open In Colab\"/></a>"
      ]
    },
    {
      "cell_type": "markdown",
      "metadata": {
        "id": "Fye5EuXIXY6l"
      },
      "source": [
        "\n",
        "## Import the libraries"
      ]
    },
    {
      "cell_type": "code",
      "source": [
        "import pandas as pd \n",
        "from pandas_profiling import ProfileReport\n",
        "import numpy as np\n",
        "import seaborn as sns\n",
        "from scipy import stats\n",
        "from patsy import dmatrices\n",
        "from xgboost import XGBClassifier\n",
        "\n",
        "from statsmodels.compat import lzip\n",
        "from statsmodels.stats.outliers_influence import variance_inflation_factor\n",
        "import statsmodels.formula.api as sm\n",
        "import statsmodels.stats.stattools as st\n",
        "import statsmodels.stats.api as sms\n",
        "from statsmodels.api import add_constant\n",
        "\n",
        "from sklearn import preprocessing\n",
        "from sklearn.model_selection import train_test_split\n",
        "from sklearn.linear_model import LogisticRegression\n",
        "from sklearn.linear_model import LinearRegression\n",
        "from sklearn.metrics import r2_score\n",
        "\n",
        "import matplotlib.pyplot as plt\n",
        "import matplotlib.patches as mpatches\n",
        "%matplotlib inline\n",
        "\n",
        "from sklearn.preprocessing import LabelEncoder\n",
        "from sklearn.preprocessing import StandardScaler\n",
        "from sklearn.model_selection import KFold, cross_val_score, train_test_split, StratifiedKFold, GridSearchCV\n",
        "from sklearn.metrics import confusion_matrix, accuracy_score, precision_score, recall_score, f1_score, log_loss\n",
        "from sklearn.metrics import roc_curve, roc_auc_score, auc"
      ],
      "metadata": {
        "id": "B84jXQduEoRJ"
      },
      "execution_count": 308,
      "outputs": []
    },
    {
      "cell_type": "markdown",
      "source": [
        "## Bring in the data"
      ],
      "metadata": {
        "id": "VH8d25g-8K04"
      }
    },
    {
      "cell_type": "markdown",
      "source": [
        "### Mount Google Drive for analysis output"
      ],
      "metadata": {
        "id": "O_auHW079e5W"
      }
    },
    {
      "cell_type": "code",
      "source": [
        "from google.colab import drive\n",
        "drive.mount('/content/drive')\n",
        "import os\n",
        "os.chdir(\"/content/drive/My Drive/CA683I_DADM_Assignment\")\n",
        "!ls"
      ],
      "metadata": {
        "colab": {
          "base_uri": "https://localhost:8080/"
        },
        "id": "EO2b29GbOftD",
        "outputId": "49d0d2d7-0cff-4899-c276-54845f9a7b64"
      },
      "execution_count": 309,
      "outputs": [
        {
          "output_type": "stream",
          "name": "stdout",
          "text": [
            "Drive already mounted at /content/drive; to attempt to forcibly remount, call drive.mount(\"/content/drive\", force_remount=True).\n",
            "Correlations.csv  Diabetes_v1.ipynb  pimaHist.jpg\n",
            "count_plot.png\t  Diabetes_v2.ipynb  ProfileReport.html\n"
          ]
        }
      ]
    },
    {
      "cell_type": "markdown",
      "source": [
        "### Get raw data from Github"
      ],
      "metadata": {
        "id": "3C8Ez0549lcm"
      }
    },
    {
      "cell_type": "code",
      "source": [
        "url = 'https://raw.githubusercontent.com/anthonyforde/diabetes/main/diabetes_binary_5050split_health_indicators_BRFSS2015.csv'\n",
        "data_raw = pd.read_csv(url)\n",
        "data_raw.head()"
      ],
      "metadata": {
        "id": "KHxbd7APn2qW",
        "colab": {
          "base_uri": "https://localhost:8080/",
          "height": 299
        },
        "outputId": "c2803a3d-aa60-43cd-e682-1f887c2d0bac"
      },
      "execution_count": 310,
      "outputs": [
        {
          "output_type": "execute_result",
          "data": {
            "text/plain": [
              "   Diabetes_binary  HighBP  HighChol  CholCheck   BMI  Smoker  Stroke  \\\n",
              "0              0.0     1.0       0.0        1.0  26.0     0.0     0.0   \n",
              "1              0.0     1.0       1.0        1.0  26.0     1.0     1.0   \n",
              "2              0.0     0.0       0.0        1.0  26.0     0.0     0.0   \n",
              "3              0.0     1.0       1.0        1.0  28.0     1.0     0.0   \n",
              "4              0.0     0.0       0.0        1.0  29.0     1.0     0.0   \n",
              "\n",
              "   HeartDiseaseorAttack  PhysActivity  Fruits  ...  AnyHealthcare  \\\n",
              "0                   0.0           1.0     0.0  ...            1.0   \n",
              "1                   0.0           0.0     1.0  ...            1.0   \n",
              "2                   0.0           1.0     1.0  ...            1.0   \n",
              "3                   0.0           1.0     1.0  ...            1.0   \n",
              "4                   0.0           1.0     1.0  ...            1.0   \n",
              "\n",
              "   NoDocbcCost  GenHlth  MentHlth  PhysHlth  DiffWalk  Sex   Age  Education  \\\n",
              "0          0.0      3.0       5.0      30.0       0.0  1.0   4.0        6.0   \n",
              "1          0.0      3.0       0.0       0.0       0.0  1.0  12.0        6.0   \n",
              "2          0.0      1.0       0.0      10.0       0.0  1.0  13.0        6.0   \n",
              "3          0.0      3.0       0.0       3.0       0.0  1.0  11.0        6.0   \n",
              "4          0.0      2.0       0.0       0.0       0.0  0.0   8.0        5.0   \n",
              "\n",
              "   Income  \n",
              "0     8.0  \n",
              "1     8.0  \n",
              "2     8.0  \n",
              "3     8.0  \n",
              "4     8.0  \n",
              "\n",
              "[5 rows x 22 columns]"
            ],
            "text/html": [
              "\n",
              "  <div id=\"df-b541cac2-b63c-433d-8e41-7d090fdcf0d3\">\n",
              "    <div class=\"colab-df-container\">\n",
              "      <div>\n",
              "<style scoped>\n",
              "    .dataframe tbody tr th:only-of-type {\n",
              "        vertical-align: middle;\n",
              "    }\n",
              "\n",
              "    .dataframe tbody tr th {\n",
              "        vertical-align: top;\n",
              "    }\n",
              "\n",
              "    .dataframe thead th {\n",
              "        text-align: right;\n",
              "    }\n",
              "</style>\n",
              "<table border=\"1\" class=\"dataframe\">\n",
              "  <thead>\n",
              "    <tr style=\"text-align: right;\">\n",
              "      <th></th>\n",
              "      <th>Diabetes_binary</th>\n",
              "      <th>HighBP</th>\n",
              "      <th>HighChol</th>\n",
              "      <th>CholCheck</th>\n",
              "      <th>BMI</th>\n",
              "      <th>Smoker</th>\n",
              "      <th>Stroke</th>\n",
              "      <th>HeartDiseaseorAttack</th>\n",
              "      <th>PhysActivity</th>\n",
              "      <th>Fruits</th>\n",
              "      <th>...</th>\n",
              "      <th>AnyHealthcare</th>\n",
              "      <th>NoDocbcCost</th>\n",
              "      <th>GenHlth</th>\n",
              "      <th>MentHlth</th>\n",
              "      <th>PhysHlth</th>\n",
              "      <th>DiffWalk</th>\n",
              "      <th>Sex</th>\n",
              "      <th>Age</th>\n",
              "      <th>Education</th>\n",
              "      <th>Income</th>\n",
              "    </tr>\n",
              "  </thead>\n",
              "  <tbody>\n",
              "    <tr>\n",
              "      <th>0</th>\n",
              "      <td>0.0</td>\n",
              "      <td>1.0</td>\n",
              "      <td>0.0</td>\n",
              "      <td>1.0</td>\n",
              "      <td>26.0</td>\n",
              "      <td>0.0</td>\n",
              "      <td>0.0</td>\n",
              "      <td>0.0</td>\n",
              "      <td>1.0</td>\n",
              "      <td>0.0</td>\n",
              "      <td>...</td>\n",
              "      <td>1.0</td>\n",
              "      <td>0.0</td>\n",
              "      <td>3.0</td>\n",
              "      <td>5.0</td>\n",
              "      <td>30.0</td>\n",
              "      <td>0.0</td>\n",
              "      <td>1.0</td>\n",
              "      <td>4.0</td>\n",
              "      <td>6.0</td>\n",
              "      <td>8.0</td>\n",
              "    </tr>\n",
              "    <tr>\n",
              "      <th>1</th>\n",
              "      <td>0.0</td>\n",
              "      <td>1.0</td>\n",
              "      <td>1.0</td>\n",
              "      <td>1.0</td>\n",
              "      <td>26.0</td>\n",
              "      <td>1.0</td>\n",
              "      <td>1.0</td>\n",
              "      <td>0.0</td>\n",
              "      <td>0.0</td>\n",
              "      <td>1.0</td>\n",
              "      <td>...</td>\n",
              "      <td>1.0</td>\n",
              "      <td>0.0</td>\n",
              "      <td>3.0</td>\n",
              "      <td>0.0</td>\n",
              "      <td>0.0</td>\n",
              "      <td>0.0</td>\n",
              "      <td>1.0</td>\n",
              "      <td>12.0</td>\n",
              "      <td>6.0</td>\n",
              "      <td>8.0</td>\n",
              "    </tr>\n",
              "    <tr>\n",
              "      <th>2</th>\n",
              "      <td>0.0</td>\n",
              "      <td>0.0</td>\n",
              "      <td>0.0</td>\n",
              "      <td>1.0</td>\n",
              "      <td>26.0</td>\n",
              "      <td>0.0</td>\n",
              "      <td>0.0</td>\n",
              "      <td>0.0</td>\n",
              "      <td>1.0</td>\n",
              "      <td>1.0</td>\n",
              "      <td>...</td>\n",
              "      <td>1.0</td>\n",
              "      <td>0.0</td>\n",
              "      <td>1.0</td>\n",
              "      <td>0.0</td>\n",
              "      <td>10.0</td>\n",
              "      <td>0.0</td>\n",
              "      <td>1.0</td>\n",
              "      <td>13.0</td>\n",
              "      <td>6.0</td>\n",
              "      <td>8.0</td>\n",
              "    </tr>\n",
              "    <tr>\n",
              "      <th>3</th>\n",
              "      <td>0.0</td>\n",
              "      <td>1.0</td>\n",
              "      <td>1.0</td>\n",
              "      <td>1.0</td>\n",
              "      <td>28.0</td>\n",
              "      <td>1.0</td>\n",
              "      <td>0.0</td>\n",
              "      <td>0.0</td>\n",
              "      <td>1.0</td>\n",
              "      <td>1.0</td>\n",
              "      <td>...</td>\n",
              "      <td>1.0</td>\n",
              "      <td>0.0</td>\n",
              "      <td>3.0</td>\n",
              "      <td>0.0</td>\n",
              "      <td>3.0</td>\n",
              "      <td>0.0</td>\n",
              "      <td>1.0</td>\n",
              "      <td>11.0</td>\n",
              "      <td>6.0</td>\n",
              "      <td>8.0</td>\n",
              "    </tr>\n",
              "    <tr>\n",
              "      <th>4</th>\n",
              "      <td>0.0</td>\n",
              "      <td>0.0</td>\n",
              "      <td>0.0</td>\n",
              "      <td>1.0</td>\n",
              "      <td>29.0</td>\n",
              "      <td>1.0</td>\n",
              "      <td>0.0</td>\n",
              "      <td>0.0</td>\n",
              "      <td>1.0</td>\n",
              "      <td>1.0</td>\n",
              "      <td>...</td>\n",
              "      <td>1.0</td>\n",
              "      <td>0.0</td>\n",
              "      <td>2.0</td>\n",
              "      <td>0.0</td>\n",
              "      <td>0.0</td>\n",
              "      <td>0.0</td>\n",
              "      <td>0.0</td>\n",
              "      <td>8.0</td>\n",
              "      <td>5.0</td>\n",
              "      <td>8.0</td>\n",
              "    </tr>\n",
              "  </tbody>\n",
              "</table>\n",
              "<p>5 rows × 22 columns</p>\n",
              "</div>\n",
              "      <button class=\"colab-df-convert\" onclick=\"convertToInteractive('df-b541cac2-b63c-433d-8e41-7d090fdcf0d3')\"\n",
              "              title=\"Convert this dataframe to an interactive table.\"\n",
              "              style=\"display:none;\">\n",
              "        \n",
              "  <svg xmlns=\"http://www.w3.org/2000/svg\" height=\"24px\"viewBox=\"0 0 24 24\"\n",
              "       width=\"24px\">\n",
              "    <path d=\"M0 0h24v24H0V0z\" fill=\"none\"/>\n",
              "    <path d=\"M18.56 5.44l.94 2.06.94-2.06 2.06-.94-2.06-.94-.94-2.06-.94 2.06-2.06.94zm-11 1L8.5 8.5l.94-2.06 2.06-.94-2.06-.94L8.5 2.5l-.94 2.06-2.06.94zm10 10l.94 2.06.94-2.06 2.06-.94-2.06-.94-.94-2.06-.94 2.06-2.06.94z\"/><path d=\"M17.41 7.96l-1.37-1.37c-.4-.4-.92-.59-1.43-.59-.52 0-1.04.2-1.43.59L10.3 9.45l-7.72 7.72c-.78.78-.78 2.05 0 2.83L4 21.41c.39.39.9.59 1.41.59.51 0 1.02-.2 1.41-.59l7.78-7.78 2.81-2.81c.8-.78.8-2.07 0-2.86zM5.41 20L4 18.59l7.72-7.72 1.47 1.35L5.41 20z\"/>\n",
              "  </svg>\n",
              "      </button>\n",
              "      \n",
              "  <style>\n",
              "    .colab-df-container {\n",
              "      display:flex;\n",
              "      flex-wrap:wrap;\n",
              "      gap: 12px;\n",
              "    }\n",
              "\n",
              "    .colab-df-convert {\n",
              "      background-color: #E8F0FE;\n",
              "      border: none;\n",
              "      border-radius: 50%;\n",
              "      cursor: pointer;\n",
              "      display: none;\n",
              "      fill: #1967D2;\n",
              "      height: 32px;\n",
              "      padding: 0 0 0 0;\n",
              "      width: 32px;\n",
              "    }\n",
              "\n",
              "    .colab-df-convert:hover {\n",
              "      background-color: #E2EBFA;\n",
              "      box-shadow: 0px 1px 2px rgba(60, 64, 67, 0.3), 0px 1px 3px 1px rgba(60, 64, 67, 0.15);\n",
              "      fill: #174EA6;\n",
              "    }\n",
              "\n",
              "    [theme=dark] .colab-df-convert {\n",
              "      background-color: #3B4455;\n",
              "      fill: #D2E3FC;\n",
              "    }\n",
              "\n",
              "    [theme=dark] .colab-df-convert:hover {\n",
              "      background-color: #434B5C;\n",
              "      box-shadow: 0px 1px 3px 1px rgba(0, 0, 0, 0.15);\n",
              "      filter: drop-shadow(0px 1px 2px rgba(0, 0, 0, 0.3));\n",
              "      fill: #FFFFFF;\n",
              "    }\n",
              "  </style>\n",
              "\n",
              "      <script>\n",
              "        const buttonEl =\n",
              "          document.querySelector('#df-b541cac2-b63c-433d-8e41-7d090fdcf0d3 button.colab-df-convert');\n",
              "        buttonEl.style.display =\n",
              "          google.colab.kernel.accessAllowed ? 'block' : 'none';\n",
              "\n",
              "        async function convertToInteractive(key) {\n",
              "          const element = document.querySelector('#df-b541cac2-b63c-433d-8e41-7d090fdcf0d3');\n",
              "          const dataTable =\n",
              "            await google.colab.kernel.invokeFunction('convertToInteractive',\n",
              "                                                     [key], {});\n",
              "          if (!dataTable) return;\n",
              "\n",
              "          const docLinkHtml = 'Like what you see? Visit the ' +\n",
              "            '<a target=\"_blank\" href=https://colab.research.google.com/notebooks/data_table.ipynb>data table notebook</a>'\n",
              "            + ' to learn more about interactive tables.';\n",
              "          element.innerHTML = '';\n",
              "          dataTable['output_type'] = 'display_data';\n",
              "          await google.colab.output.renderOutput(dataTable, element);\n",
              "          const docLink = document.createElement('div');\n",
              "          docLink.innerHTML = docLinkHtml;\n",
              "          element.appendChild(docLink);\n",
              "        }\n",
              "      </script>\n",
              "    </div>\n",
              "  </div>\n",
              "  "
            ]
          },
          "metadata": {},
          "execution_count": 310
        }
      ]
    },
    {
      "cell_type": "code",
      "source": [
        "data_raw.describe(include='all')"
      ],
      "metadata": {
        "colab": {
          "base_uri": "https://localhost:8080/",
          "height": 394
        },
        "id": "ECWoy0s9FC5A",
        "outputId": "1f554d5a-f9ab-49cb-cbbe-9b4593b182c6"
      },
      "execution_count": 311,
      "outputs": [
        {
          "output_type": "execute_result",
          "data": {
            "text/plain": [
              "       Diabetes_binary        HighBP      HighChol     CholCheck  \\\n",
              "count     70692.000000  70692.000000  70692.000000  70692.000000   \n",
              "mean          0.500000      0.563458      0.525703      0.975259   \n",
              "std           0.500004      0.495960      0.499342      0.155336   \n",
              "min           0.000000      0.000000      0.000000      0.000000   \n",
              "25%           0.000000      0.000000      0.000000      1.000000   \n",
              "50%           0.500000      1.000000      1.000000      1.000000   \n",
              "75%           1.000000      1.000000      1.000000      1.000000   \n",
              "max           1.000000      1.000000      1.000000      1.000000   \n",
              "\n",
              "                BMI        Smoker        Stroke  HeartDiseaseorAttack  \\\n",
              "count  70692.000000  70692.000000  70692.000000          70692.000000   \n",
              "mean      29.856985      0.475273      0.062171              0.147810   \n",
              "std        7.113954      0.499392      0.241468              0.354914   \n",
              "min       12.000000      0.000000      0.000000              0.000000   \n",
              "25%       25.000000      0.000000      0.000000              0.000000   \n",
              "50%       29.000000      0.000000      0.000000              0.000000   \n",
              "75%       33.000000      1.000000      0.000000              0.000000   \n",
              "max       98.000000      1.000000      1.000000              1.000000   \n",
              "\n",
              "       PhysActivity        Fruits  ...  AnyHealthcare   NoDocbcCost  \\\n",
              "count  70692.000000  70692.000000  ...   70692.000000  70692.000000   \n",
              "mean       0.703036      0.611795  ...       0.954960      0.093914   \n",
              "std        0.456924      0.487345  ...       0.207394      0.291712   \n",
              "min        0.000000      0.000000  ...       0.000000      0.000000   \n",
              "25%        0.000000      0.000000  ...       1.000000      0.000000   \n",
              "50%        1.000000      1.000000  ...       1.000000      0.000000   \n",
              "75%        1.000000      1.000000  ...       1.000000      0.000000   \n",
              "max        1.000000      1.000000  ...       1.000000      1.000000   \n",
              "\n",
              "            GenHlth      MentHlth      PhysHlth      DiffWalk           Sex  \\\n",
              "count  70692.000000  70692.000000  70692.000000  70692.000000  70692.000000   \n",
              "mean       2.837082      3.752037      5.810417      0.252730      0.456997   \n",
              "std        1.113565      8.155627     10.062261      0.434581      0.498151   \n",
              "min        1.000000      0.000000      0.000000      0.000000      0.000000   \n",
              "25%        2.000000      0.000000      0.000000      0.000000      0.000000   \n",
              "50%        3.000000      0.000000      0.000000      0.000000      0.000000   \n",
              "75%        4.000000      2.000000      6.000000      1.000000      1.000000   \n",
              "max        5.000000     30.000000     30.000000      1.000000      1.000000   \n",
              "\n",
              "                Age     Education        Income  \n",
              "count  70692.000000  70692.000000  70692.000000  \n",
              "mean       8.584055      4.920953      5.698311  \n",
              "std        2.852153      1.029081      2.175196  \n",
              "min        1.000000      1.000000      1.000000  \n",
              "25%        7.000000      4.000000      4.000000  \n",
              "50%        9.000000      5.000000      6.000000  \n",
              "75%       11.000000      6.000000      8.000000  \n",
              "max       13.000000      6.000000      8.000000  \n",
              "\n",
              "[8 rows x 22 columns]"
            ],
            "text/html": [
              "\n",
              "  <div id=\"df-8c4e8414-8bd6-401c-9bbd-6fe3bd65eb6b\">\n",
              "    <div class=\"colab-df-container\">\n",
              "      <div>\n",
              "<style scoped>\n",
              "    .dataframe tbody tr th:only-of-type {\n",
              "        vertical-align: middle;\n",
              "    }\n",
              "\n",
              "    .dataframe tbody tr th {\n",
              "        vertical-align: top;\n",
              "    }\n",
              "\n",
              "    .dataframe thead th {\n",
              "        text-align: right;\n",
              "    }\n",
              "</style>\n",
              "<table border=\"1\" class=\"dataframe\">\n",
              "  <thead>\n",
              "    <tr style=\"text-align: right;\">\n",
              "      <th></th>\n",
              "      <th>Diabetes_binary</th>\n",
              "      <th>HighBP</th>\n",
              "      <th>HighChol</th>\n",
              "      <th>CholCheck</th>\n",
              "      <th>BMI</th>\n",
              "      <th>Smoker</th>\n",
              "      <th>Stroke</th>\n",
              "      <th>HeartDiseaseorAttack</th>\n",
              "      <th>PhysActivity</th>\n",
              "      <th>Fruits</th>\n",
              "      <th>...</th>\n",
              "      <th>AnyHealthcare</th>\n",
              "      <th>NoDocbcCost</th>\n",
              "      <th>GenHlth</th>\n",
              "      <th>MentHlth</th>\n",
              "      <th>PhysHlth</th>\n",
              "      <th>DiffWalk</th>\n",
              "      <th>Sex</th>\n",
              "      <th>Age</th>\n",
              "      <th>Education</th>\n",
              "      <th>Income</th>\n",
              "    </tr>\n",
              "  </thead>\n",
              "  <tbody>\n",
              "    <tr>\n",
              "      <th>count</th>\n",
              "      <td>70692.000000</td>\n",
              "      <td>70692.000000</td>\n",
              "      <td>70692.000000</td>\n",
              "      <td>70692.000000</td>\n",
              "      <td>70692.000000</td>\n",
              "      <td>70692.000000</td>\n",
              "      <td>70692.000000</td>\n",
              "      <td>70692.000000</td>\n",
              "      <td>70692.000000</td>\n",
              "      <td>70692.000000</td>\n",
              "      <td>...</td>\n",
              "      <td>70692.000000</td>\n",
              "      <td>70692.000000</td>\n",
              "      <td>70692.000000</td>\n",
              "      <td>70692.000000</td>\n",
              "      <td>70692.000000</td>\n",
              "      <td>70692.000000</td>\n",
              "      <td>70692.000000</td>\n",
              "      <td>70692.000000</td>\n",
              "      <td>70692.000000</td>\n",
              "      <td>70692.000000</td>\n",
              "    </tr>\n",
              "    <tr>\n",
              "      <th>mean</th>\n",
              "      <td>0.500000</td>\n",
              "      <td>0.563458</td>\n",
              "      <td>0.525703</td>\n",
              "      <td>0.975259</td>\n",
              "      <td>29.856985</td>\n",
              "      <td>0.475273</td>\n",
              "      <td>0.062171</td>\n",
              "      <td>0.147810</td>\n",
              "      <td>0.703036</td>\n",
              "      <td>0.611795</td>\n",
              "      <td>...</td>\n",
              "      <td>0.954960</td>\n",
              "      <td>0.093914</td>\n",
              "      <td>2.837082</td>\n",
              "      <td>3.752037</td>\n",
              "      <td>5.810417</td>\n",
              "      <td>0.252730</td>\n",
              "      <td>0.456997</td>\n",
              "      <td>8.584055</td>\n",
              "      <td>4.920953</td>\n",
              "      <td>5.698311</td>\n",
              "    </tr>\n",
              "    <tr>\n",
              "      <th>std</th>\n",
              "      <td>0.500004</td>\n",
              "      <td>0.495960</td>\n",
              "      <td>0.499342</td>\n",
              "      <td>0.155336</td>\n",
              "      <td>7.113954</td>\n",
              "      <td>0.499392</td>\n",
              "      <td>0.241468</td>\n",
              "      <td>0.354914</td>\n",
              "      <td>0.456924</td>\n",
              "      <td>0.487345</td>\n",
              "      <td>...</td>\n",
              "      <td>0.207394</td>\n",
              "      <td>0.291712</td>\n",
              "      <td>1.113565</td>\n",
              "      <td>8.155627</td>\n",
              "      <td>10.062261</td>\n",
              "      <td>0.434581</td>\n",
              "      <td>0.498151</td>\n",
              "      <td>2.852153</td>\n",
              "      <td>1.029081</td>\n",
              "      <td>2.175196</td>\n",
              "    </tr>\n",
              "    <tr>\n",
              "      <th>min</th>\n",
              "      <td>0.000000</td>\n",
              "      <td>0.000000</td>\n",
              "      <td>0.000000</td>\n",
              "      <td>0.000000</td>\n",
              "      <td>12.000000</td>\n",
              "      <td>0.000000</td>\n",
              "      <td>0.000000</td>\n",
              "      <td>0.000000</td>\n",
              "      <td>0.000000</td>\n",
              "      <td>0.000000</td>\n",
              "      <td>...</td>\n",
              "      <td>0.000000</td>\n",
              "      <td>0.000000</td>\n",
              "      <td>1.000000</td>\n",
              "      <td>0.000000</td>\n",
              "      <td>0.000000</td>\n",
              "      <td>0.000000</td>\n",
              "      <td>0.000000</td>\n",
              "      <td>1.000000</td>\n",
              "      <td>1.000000</td>\n",
              "      <td>1.000000</td>\n",
              "    </tr>\n",
              "    <tr>\n",
              "      <th>25%</th>\n",
              "      <td>0.000000</td>\n",
              "      <td>0.000000</td>\n",
              "      <td>0.000000</td>\n",
              "      <td>1.000000</td>\n",
              "      <td>25.000000</td>\n",
              "      <td>0.000000</td>\n",
              "      <td>0.000000</td>\n",
              "      <td>0.000000</td>\n",
              "      <td>0.000000</td>\n",
              "      <td>0.000000</td>\n",
              "      <td>...</td>\n",
              "      <td>1.000000</td>\n",
              "      <td>0.000000</td>\n",
              "      <td>2.000000</td>\n",
              "      <td>0.000000</td>\n",
              "      <td>0.000000</td>\n",
              "      <td>0.000000</td>\n",
              "      <td>0.000000</td>\n",
              "      <td>7.000000</td>\n",
              "      <td>4.000000</td>\n",
              "      <td>4.000000</td>\n",
              "    </tr>\n",
              "    <tr>\n",
              "      <th>50%</th>\n",
              "      <td>0.500000</td>\n",
              "      <td>1.000000</td>\n",
              "      <td>1.000000</td>\n",
              "      <td>1.000000</td>\n",
              "      <td>29.000000</td>\n",
              "      <td>0.000000</td>\n",
              "      <td>0.000000</td>\n",
              "      <td>0.000000</td>\n",
              "      <td>1.000000</td>\n",
              "      <td>1.000000</td>\n",
              "      <td>...</td>\n",
              "      <td>1.000000</td>\n",
              "      <td>0.000000</td>\n",
              "      <td>3.000000</td>\n",
              "      <td>0.000000</td>\n",
              "      <td>0.000000</td>\n",
              "      <td>0.000000</td>\n",
              "      <td>0.000000</td>\n",
              "      <td>9.000000</td>\n",
              "      <td>5.000000</td>\n",
              "      <td>6.000000</td>\n",
              "    </tr>\n",
              "    <tr>\n",
              "      <th>75%</th>\n",
              "      <td>1.000000</td>\n",
              "      <td>1.000000</td>\n",
              "      <td>1.000000</td>\n",
              "      <td>1.000000</td>\n",
              "      <td>33.000000</td>\n",
              "      <td>1.000000</td>\n",
              "      <td>0.000000</td>\n",
              "      <td>0.000000</td>\n",
              "      <td>1.000000</td>\n",
              "      <td>1.000000</td>\n",
              "      <td>...</td>\n",
              "      <td>1.000000</td>\n",
              "      <td>0.000000</td>\n",
              "      <td>4.000000</td>\n",
              "      <td>2.000000</td>\n",
              "      <td>6.000000</td>\n",
              "      <td>1.000000</td>\n",
              "      <td>1.000000</td>\n",
              "      <td>11.000000</td>\n",
              "      <td>6.000000</td>\n",
              "      <td>8.000000</td>\n",
              "    </tr>\n",
              "    <tr>\n",
              "      <th>max</th>\n",
              "      <td>1.000000</td>\n",
              "      <td>1.000000</td>\n",
              "      <td>1.000000</td>\n",
              "      <td>1.000000</td>\n",
              "      <td>98.000000</td>\n",
              "      <td>1.000000</td>\n",
              "      <td>1.000000</td>\n",
              "      <td>1.000000</td>\n",
              "      <td>1.000000</td>\n",
              "      <td>1.000000</td>\n",
              "      <td>...</td>\n",
              "      <td>1.000000</td>\n",
              "      <td>1.000000</td>\n",
              "      <td>5.000000</td>\n",
              "      <td>30.000000</td>\n",
              "      <td>30.000000</td>\n",
              "      <td>1.000000</td>\n",
              "      <td>1.000000</td>\n",
              "      <td>13.000000</td>\n",
              "      <td>6.000000</td>\n",
              "      <td>8.000000</td>\n",
              "    </tr>\n",
              "  </tbody>\n",
              "</table>\n",
              "<p>8 rows × 22 columns</p>\n",
              "</div>\n",
              "      <button class=\"colab-df-convert\" onclick=\"convertToInteractive('df-8c4e8414-8bd6-401c-9bbd-6fe3bd65eb6b')\"\n",
              "              title=\"Convert this dataframe to an interactive table.\"\n",
              "              style=\"display:none;\">\n",
              "        \n",
              "  <svg xmlns=\"http://www.w3.org/2000/svg\" height=\"24px\"viewBox=\"0 0 24 24\"\n",
              "       width=\"24px\">\n",
              "    <path d=\"M0 0h24v24H0V0z\" fill=\"none\"/>\n",
              "    <path d=\"M18.56 5.44l.94 2.06.94-2.06 2.06-.94-2.06-.94-.94-2.06-.94 2.06-2.06.94zm-11 1L8.5 8.5l.94-2.06 2.06-.94-2.06-.94L8.5 2.5l-.94 2.06-2.06.94zm10 10l.94 2.06.94-2.06 2.06-.94-2.06-.94-.94-2.06-.94 2.06-2.06.94z\"/><path d=\"M17.41 7.96l-1.37-1.37c-.4-.4-.92-.59-1.43-.59-.52 0-1.04.2-1.43.59L10.3 9.45l-7.72 7.72c-.78.78-.78 2.05 0 2.83L4 21.41c.39.39.9.59 1.41.59.51 0 1.02-.2 1.41-.59l7.78-7.78 2.81-2.81c.8-.78.8-2.07 0-2.86zM5.41 20L4 18.59l7.72-7.72 1.47 1.35L5.41 20z\"/>\n",
              "  </svg>\n",
              "      </button>\n",
              "      \n",
              "  <style>\n",
              "    .colab-df-container {\n",
              "      display:flex;\n",
              "      flex-wrap:wrap;\n",
              "      gap: 12px;\n",
              "    }\n",
              "\n",
              "    .colab-df-convert {\n",
              "      background-color: #E8F0FE;\n",
              "      border: none;\n",
              "      border-radius: 50%;\n",
              "      cursor: pointer;\n",
              "      display: none;\n",
              "      fill: #1967D2;\n",
              "      height: 32px;\n",
              "      padding: 0 0 0 0;\n",
              "      width: 32px;\n",
              "    }\n",
              "\n",
              "    .colab-df-convert:hover {\n",
              "      background-color: #E2EBFA;\n",
              "      box-shadow: 0px 1px 2px rgba(60, 64, 67, 0.3), 0px 1px 3px 1px rgba(60, 64, 67, 0.15);\n",
              "      fill: #174EA6;\n",
              "    }\n",
              "\n",
              "    [theme=dark] .colab-df-convert {\n",
              "      background-color: #3B4455;\n",
              "      fill: #D2E3FC;\n",
              "    }\n",
              "\n",
              "    [theme=dark] .colab-df-convert:hover {\n",
              "      background-color: #434B5C;\n",
              "      box-shadow: 0px 1px 3px 1px rgba(0, 0, 0, 0.15);\n",
              "      filter: drop-shadow(0px 1px 2px rgba(0, 0, 0, 0.3));\n",
              "      fill: #FFFFFF;\n",
              "    }\n",
              "  </style>\n",
              "\n",
              "      <script>\n",
              "        const buttonEl =\n",
              "          document.querySelector('#df-8c4e8414-8bd6-401c-9bbd-6fe3bd65eb6b button.colab-df-convert');\n",
              "        buttonEl.style.display =\n",
              "          google.colab.kernel.accessAllowed ? 'block' : 'none';\n",
              "\n",
              "        async function convertToInteractive(key) {\n",
              "          const element = document.querySelector('#df-8c4e8414-8bd6-401c-9bbd-6fe3bd65eb6b');\n",
              "          const dataTable =\n",
              "            await google.colab.kernel.invokeFunction('convertToInteractive',\n",
              "                                                     [key], {});\n",
              "          if (!dataTable) return;\n",
              "\n",
              "          const docLinkHtml = 'Like what you see? Visit the ' +\n",
              "            '<a target=\"_blank\" href=https://colab.research.google.com/notebooks/data_table.ipynb>data table notebook</a>'\n",
              "            + ' to learn more about interactive tables.';\n",
              "          element.innerHTML = '';\n",
              "          dataTable['output_type'] = 'display_data';\n",
              "          await google.colab.output.renderOutput(dataTable, element);\n",
              "          const docLink = document.createElement('div');\n",
              "          docLink.innerHTML = docLinkHtml;\n",
              "          element.appendChild(docLink);\n",
              "        }\n",
              "      </script>\n",
              "    </div>\n",
              "  </div>\n",
              "  "
            ]
          },
          "metadata": {},
          "execution_count": 311
        }
      ]
    },
    {
      "cell_type": "markdown",
      "source": [
        "### Check for missing data"
      ],
      "metadata": {
        "id": "ThdyVqogmuuY"
      }
    },
    {
      "cell_type": "code",
      "source": [
        "data_raw.isna().sum()"
      ],
      "metadata": {
        "colab": {
          "base_uri": "https://localhost:8080/"
        },
        "id": "l9BqOhH5mqFN",
        "outputId": "6088339b-18f3-4d3a-aa16-6132b98470ae"
      },
      "execution_count": 312,
      "outputs": [
        {
          "output_type": "execute_result",
          "data": {
            "text/plain": [
              "Diabetes_binary         0\n",
              "HighBP                  0\n",
              "HighChol                0\n",
              "CholCheck               0\n",
              "BMI                     0\n",
              "Smoker                  0\n",
              "Stroke                  0\n",
              "HeartDiseaseorAttack    0\n",
              "PhysActivity            0\n",
              "Fruits                  0\n",
              "Veggies                 0\n",
              "HvyAlcoholConsump       0\n",
              "AnyHealthcare           0\n",
              "NoDocbcCost             0\n",
              "GenHlth                 0\n",
              "MentHlth                0\n",
              "PhysHlth                0\n",
              "DiffWalk                0\n",
              "Sex                     0\n",
              "Age                     0\n",
              "Education               0\n",
              "Income                  0\n",
              "dtype: int64"
            ]
          },
          "metadata": {},
          "execution_count": 312
        }
      ]
    },
    {
      "cell_type": "markdown",
      "source": [
        "## Initial analysis - profile report"
      ],
      "metadata": {
        "id": "4ifVzYrT8aEA"
      }
    },
    {
      "cell_type": "code",
      "source": [
        "## pip install pandas-profiling[notebook]\n",
        "## !pip3 install pandas_profiling --upgrade\n",
        "#!pip install pandas-profiling==2.7.1 "
      ],
      "metadata": {
        "id": "FRsvDb3jI-21"
      },
      "execution_count": 313,
      "outputs": []
    },
    {
      "cell_type": "code",
      "source": [
        "#from pandas_profiling import ProfileReport\n",
        "\n",
        "#profile = ProfileReport(data_raw)\n",
        "##profile.to_notebook_iframe()\n",
        "#profile.to_file(output_file=\"ProfileReport.html\")"
      ],
      "metadata": {
        "id": "YeL_5fLtDsC2"
      },
      "execution_count": 314,
      "outputs": []
    },
    {
      "cell_type": "markdown",
      "source": [
        "## Correlations"
      ],
      "metadata": {
        "id": "juczTbH5BaoG"
      }
    },
    {
      "cell_type": "code",
      "source": [
        "plt.figure(figsize=(7,7)) \n",
        "sns.heatmap(data_raw.corr(),annot=False,cmap='cubehelix_r')\n",
        "plt.title('Correlation')\n",
        "plt.show()"
      ],
      "metadata": {
        "colab": {
          "base_uri": "https://localhost:8080/",
          "height": 558
        },
        "id": "l7kqMUlqfHPf",
        "outputId": "0c2850d2-9c93-4a65-b7fb-8a6eee03c09c"
      },
      "execution_count": 315,
      "outputs": [
        {
          "output_type": "display_data",
          "data": {
            "text/plain": [
              "<Figure size 504x504 with 2 Axes>"
            ],
            "image/png": "[encoded data removed]"
          },
          "metadata": {
            "needs_background": "light"
          }
        }
      ]
    },
    {
      "cell_type": "code",
      "source": [
        "data_raw.corr()"
      ],
      "metadata": {
        "colab": {
          "base_uri": "https://localhost:8080/",
          "height": 833
        },
        "id": "FNTdmPE9iZ_b",
        "outputId": "20df5caa-574d-478a-8563-167378c93d2c"
      },
      "execution_count": 316,
      "outputs": [
        {
          "output_type": "execute_result",
          "data": {
            "text/plain": [
              "                      Diabetes_binary    HighBP  HighChol  CholCheck  \\\n",
              "Diabetes_binary              1.000000  0.381516  0.289213   0.115382   \n",
              "HighBP                       0.381516  1.000000  0.316515   0.103283   \n",
              "HighChol                     0.289213  0.316515  1.000000   0.085981   \n",
              "CholCheck                    0.115382  0.103283  0.085981   1.000000   \n",
              "BMI                          0.293373  0.241019  0.131309   0.045648   \n",
              "Smoker                       0.085999  0.087438  0.093398  -0.004331   \n",
              "Stroke                       0.125427  0.129060  0.099786   0.022529   \n",
              "HeartDiseaseorAttack         0.211523  0.210750  0.181187   0.043497   \n",
              "PhysActivity                -0.158666 -0.136102 -0.090453  -0.008249   \n",
              "Fruits                      -0.054077 -0.040852 -0.047384   0.017384   \n",
              "Veggies                     -0.079293 -0.066624 -0.042836   0.000349   \n",
              "HvyAlcoholConsump           -0.094853 -0.027030 -0.025443  -0.027146   \n",
              "AnyHealthcare                0.023191  0.035764  0.031532   0.106800   \n",
              "NoDocbcCost                  0.040977  0.026517  0.033199  -0.062669   \n",
              "GenHlth                      0.407612  0.320540  0.237778   0.059213   \n",
              "MentHlth                     0.087029  0.064294  0.083881  -0.010660   \n",
              "PhysHlth                     0.213081  0.173922  0.142610   0.034540   \n",
              "DiffWalk                     0.272646  0.234784  0.162043   0.044430   \n",
              "Sex                          0.044413  0.040819  0.017324  -0.007991   \n",
              "Age                          0.278738  0.338132  0.240338   0.101743   \n",
              "Education                   -0.170481 -0.141643 -0.084386  -0.008695   \n",
              "Income                      -0.224449 -0.187657 -0.107777   0.007550   \n",
              "\n",
              "                           BMI    Smoker    Stroke  HeartDiseaseorAttack  \\\n",
              "Diabetes_binary       0.293373  0.085999  0.125427              0.211523   \n",
              "HighBP                0.241019  0.087438  0.129060              0.210750   \n",
              "HighChol              0.131309  0.093398  0.099786              0.181187   \n",
              "CholCheck             0.045648 -0.004331  0.022529              0.043497   \n",
              "BMI                   1.000000  0.011551  0.022931              0.060355   \n",
              "Smoker                0.011551  1.000000  0.064658              0.124418   \n",
              "Stroke                0.022931  0.064658  1.000000              0.223394   \n",
              "HeartDiseaseorAttack  0.060355  0.124418  0.223394              1.000000   \n",
              "PhysActivity         -0.170936 -0.079823 -0.079985             -0.098223   \n",
              "Fruits               -0.084505 -0.074811 -0.008996             -0.019436   \n",
              "Veggies              -0.056528 -0.029926 -0.047601             -0.036315   \n",
              "HvyAlcoholConsump    -0.058232  0.077835 -0.023395             -0.037130   \n",
              "AnyHealthcare        -0.013417 -0.012939  0.006484              0.015687   \n",
              "NoDocbcCost           0.065832  0.035799  0.036198              0.036029   \n",
              "GenHlth               0.267888  0.152416  0.189447              0.275868   \n",
              "MentHlth              0.104682  0.091257  0.087303              0.075057   \n",
              "PhysHlth              0.161862  0.120698  0.164488              0.198416   \n",
              "DiffWalk              0.246094  0.119789  0.192266              0.232611   \n",
              "Sex                   0.000827  0.112125  0.003822              0.098161   \n",
              "Age                  -0.038648  0.105424  0.123879              0.221878   \n",
              "Education            -0.100233 -0.140966 -0.073926             -0.096559   \n",
              "Income               -0.124878 -0.104725 -0.136577             -0.146748   \n",
              "\n",
              "                      PhysActivity    Fruits  ...  AnyHealthcare  NoDocbcCost  \\\n",
              "Diabetes_binary          -0.158666 -0.054077  ...       0.023191     0.040977   \n",
              "HighBP                   -0.136102 -0.040852  ...       0.035764     0.026517   \n",
              "HighChol                 -0.090453 -0.047384  ...       0.031532     0.033199   \n",
              "CholCheck                -0.008249  0.017384  ...       0.106800    -0.062669   \n",
              "BMI                      -0.170936 -0.084505  ...      -0.013417     0.065832   \n",
              "Smoker                   -0.079823 -0.074811  ...      -0.012939     0.035799   \n",
              "Stroke                   -0.079985 -0.008996  ...       0.006484     0.036198   \n",
              "HeartDiseaseorAttack     -0.098223 -0.019436  ...       0.015687     0.036029   \n",
              "PhysActivity              1.000000  0.133813  ...       0.027089    -0.063302   \n",
              "Fruits                    0.133813  1.000000  ...       0.029385    -0.045843   \n",
              "Veggies                   0.149322  0.238605  ...       0.029152    -0.037146   \n",
              "HvyAlcoholConsump         0.019111 -0.033246  ...      -0.013484     0.009683   \n",
              "AnyHealthcare             0.027089  0.029385  ...       1.000000    -0.221658   \n",
              "NoDocbcCost              -0.063302 -0.045843  ...      -0.221658     1.000000   \n",
              "GenHlth                  -0.273548 -0.098687  ...      -0.033060     0.169515   \n",
              "MentHlth                 -0.130090 -0.062102  ...      -0.049850     0.193877   \n",
              "PhysHlth                 -0.234500 -0.048572  ...      -0.003285     0.157451   \n",
              "DiffWalk                 -0.276868 -0.050784  ...       0.008113     0.127111   \n",
              "Sex                       0.051753 -0.088723  ...      -0.006562    -0.048187   \n",
              "Age                      -0.100753  0.061096  ...       0.136975    -0.129839   \n",
              "Education                 0.190271  0.098715  ...       0.106601    -0.096989   \n",
              "Income                    0.196551  0.079009  ...       0.130492    -0.198171   \n",
              "\n",
              "                       GenHlth  MentHlth  PhysHlth  DiffWalk       Sex  \\\n",
              "Diabetes_binary       0.407612  0.087029  0.213081  0.272646  0.044413   \n",
              "HighBP                0.320540  0.064294  0.173922  0.234784  0.040819   \n",
              "HighChol              0.237778  0.083881  0.142610  0.162043  0.017324   \n",
              "CholCheck             0.059213 -0.010660  0.034540  0.044430 -0.007991   \n",
              "BMI                   0.267888  0.104682  0.161862  0.246094  0.000827   \n",
              "Smoker                0.152416  0.091257  0.120698  0.119789  0.112125   \n",
              "Stroke                0.189447  0.087303  0.164488  0.192266  0.003822   \n",
              "HeartDiseaseorAttack  0.275868  0.075057  0.198416  0.232611  0.098161   \n",
              "PhysActivity         -0.273548 -0.130090 -0.234500 -0.276868  0.051753   \n",
              "Fruits               -0.098687 -0.062102 -0.048572 -0.050784 -0.088723   \n",
              "Veggies              -0.115795 -0.052359 -0.066896 -0.084072 -0.052604   \n",
              "HvyAlcoholConsump    -0.058796  0.015626 -0.036257 -0.049294  0.014164   \n",
              "AnyHealthcare        -0.033060 -0.049850 -0.003285  0.008113 -0.006562   \n",
              "NoDocbcCost           0.169515  0.193877  0.157451  0.127111 -0.048187   \n",
              "GenHlth               1.000000  0.315077  0.552757  0.476639 -0.014555   \n",
              "MentHlth              0.315077  1.000000  0.380272  0.251489 -0.089204   \n",
              "PhysHlth              0.552757  0.380272  1.000000  0.487976 -0.045957   \n",
              "DiffWalk              0.476639  0.251489  0.487976  1.000000 -0.082248   \n",
              "Sex                  -0.014555 -0.089204 -0.045957 -0.082248  1.000000   \n",
              "Age                   0.155624 -0.101746  0.084852  0.195265 -0.002315   \n",
              "Education            -0.285420 -0.107005 -0.159317 -0.202590  0.043564   \n",
              "Income               -0.382969 -0.219070 -0.279326 -0.343245  0.159654   \n",
              "\n",
              "                           Age  Education    Income  \n",
              "Diabetes_binary       0.278738  -0.170481 -0.224449  \n",
              "HighBP                0.338132  -0.141643 -0.187657  \n",
              "HighChol              0.240338  -0.084386 -0.107777  \n",
              "CholCheck             0.101743  -0.008695  0.007550  \n",
              "BMI                  -0.038648  -0.100233 -0.124878  \n",
              "Smoker                0.105424  -0.140966 -0.104725  \n",
              "Stroke                0.123879  -0.073926 -0.136577  \n",
              "HeartDiseaseorAttack  0.221878  -0.096559 -0.146748  \n",
              "PhysActivity         -0.100753   0.190271  0.196551  \n",
              "Fruits                0.061096   0.098715  0.079009  \n",
              "Veggies              -0.018893   0.152512  0.154899  \n",
              "HvyAlcoholConsump    -0.057705   0.036279  0.064095  \n",
              "AnyHealthcare         0.136975   0.106601  0.130492  \n",
              "NoDocbcCost          -0.129839  -0.096989 -0.198171  \n",
              "GenHlth               0.155624  -0.285420 -0.382969  \n",
              "MentHlth             -0.101746  -0.107005 -0.219070  \n",
              "PhysHlth              0.084852  -0.159317 -0.279326  \n",
              "DiffWalk              0.195265  -0.202590 -0.343245  \n",
              "Sex                  -0.002315   0.043564  0.159654  \n",
              "Age                   1.000000  -0.107127 -0.130140  \n",
              "Education            -0.107127   1.000000  0.460565  \n",
              "Income               -0.130140   0.460565  1.000000  \n",
              "\n",
              "[22 rows x 22 columns]"
            ],
            "text/html": [
              "\n",
              "  <div id=\"df-89cf6aa3-9666-4bd3-b33f-e7f64035f199\">\n",
              "    <div class=\"colab-df-container\">\n",
              "      <div>\n",
              "<style scoped>\n",
              "    .dataframe tbody tr th:only-of-type {\n",
              "        vertical-align: middle;\n",
              "    }\n",
              "\n",
              "    .dataframe tbody tr th {\n",
              "        vertical-align: top;\n",
              "    }\n",
              "\n",
              "    .dataframe thead th {\n",
              "        text-align: right;\n",
              "    }\n",
              "</style>\n",
              "<table border=\"1\" class=\"dataframe\">\n",
              "  <thead>\n",
              "    <tr style=\"text-align: right;\">\n",
              "      <th></th>\n",
              "      <th>Diabetes_binary</th>\n",
              "      <th>HighBP</th>\n",
              "      <th>HighChol</th>\n",
              "      <th>CholCheck</th>\n",
              "      <th>BMI</th>\n",
              "      <th>Smoker</th>\n",
              "      <th>Stroke</th>\n",
              "      <th>HeartDiseaseorAttack</th>\n",
              "      <th>PhysActivity</th>\n",
              "      <th>Fruits</th>\n",
              "      <th>...</th>\n",
              "      <th>AnyHealthcare</th>\n",
              "      <th>NoDocbcCost</th>\n",
              "      <th>GenHlth</th>\n",
              "      <th>MentHlth</th>\n",
              "      <th>PhysHlth</th>\n",
              "      <th>DiffWalk</th>\n",
              "      <th>Sex</th>\n",
              "      <th>Age</th>\n",
              "      <th>Education</th>\n",
              "      <th>Income</th>\n",
              "    </tr>\n",
              "  </thead>\n",
              "  <tbody>\n",
              "    <tr>\n",
              "      <th>Diabetes_binary</th>\n",
              "      <td>1.000000</td>\n",
              "      <td>0.381516</td>\n",
              "      <td>0.289213</td>\n",
              "      <td>0.115382</td>\n",
              "      <td>0.293373</td>\n",
              "      <td>0.085999</td>\n",
              "      <td>0.125427</td>\n",
              "      <td>0.211523</td>\n",
              "      <td>-0.158666</td>\n",
              "      <td>-0.054077</td>\n",
              "      <td>...</td>\n",
              "      <td>0.023191</td>\n",
              "      <td>0.040977</td>\n",
              "      <td>0.407612</td>\n",
              "      <td>0.087029</td>\n",
              "      <td>0.213081</td>\n",
              "      <td>0.272646</td>\n",
              "      <td>0.044413</td>\n",
              "      <td>0.278738</td>\n",
              "      <td>-0.170481</td>\n",
              "      <td>-0.224449</td>\n",
              "    </tr>\n",
              "    <tr>\n",
              "      <th>HighBP</th>\n",
              "      <td>0.381516</td>\n",
              "      <td>1.000000</td>\n",
              "      <td>0.316515</td>\n",
              "      <td>0.103283</td>\n",
              "      <td>0.241019</td>\n",
              "      <td>0.087438</td>\n",
              "      <td>0.129060</td>\n",
              "      <td>0.210750</td>\n",
              "      <td>-0.136102</td>\n",
              "      <td>-0.040852</td>\n",
              "      <td>...</td>\n",
              "      <td>0.035764</td>\n",
              "      <td>0.026517</td>\n",
              "      <td>0.320540</td>\n",
              "      <td>0.064294</td>\n",
              "      <td>0.173922</td>\n",
              "      <td>0.234784</td>\n",
              "      <td>0.040819</td>\n",
              "      <td>0.338132</td>\n",
              "      <td>-0.141643</td>\n",
              "      <td>-0.187657</td>\n",
              "    </tr>\n",
              "    <tr>\n",
              "      <th>HighChol</th>\n",
              "      <td>0.289213</td>\n",
              "      <td>0.316515</td>\n",
              "      <td>1.000000</td>\n",
              "      <td>0.085981</td>\n",
              "      <td>0.131309</td>\n",
              "      <td>0.093398</td>\n",
              "      <td>0.099786</td>\n",
              "      <td>0.181187</td>\n",
              "      <td>-0.090453</td>\n",
              "      <td>-0.047384</td>\n",
              "      <td>...</td>\n",
              "      <td>0.031532</td>\n",
              "      <td>0.033199</td>\n",
              "      <td>0.237778</td>\n",
              "      <td>0.083881</td>\n",
              "      <td>0.142610</td>\n",
              "      <td>0.162043</td>\n",
              "      <td>0.017324</td>\n",
              "      <td>0.240338</td>\n",
              "      <td>-0.084386</td>\n",
              "      <td>-0.107777</td>\n",
              "    </tr>\n",
              "    <tr>\n",
              "      <th>CholCheck</th>\n",
              "      <td>0.115382</td>\n",
              "      <td>0.103283</td>\n",
              "      <td>0.085981</td>\n",
              "      <td>1.000000</td>\n",
              "      <td>0.045648</td>\n",
              "      <td>-0.004331</td>\n",
              "      <td>0.022529</td>\n",
              "      <td>0.043497</td>\n",
              "      <td>-0.008249</td>\n",
              "      <td>0.017384</td>\n",
              "      <td>...</td>\n",
              "      <td>0.106800</td>\n",
              "      <td>-0.062669</td>\n",
              "      <td>0.059213</td>\n",
              "      <td>-0.010660</td>\n",
              "      <td>0.034540</td>\n",
              "      <td>0.044430</td>\n",
              "      <td>-0.007991</td>\n",
              "      <td>0.101743</td>\n",
              "      <td>-0.008695</td>\n",
              "      <td>0.007550</td>\n",
              "    </tr>\n",
              "    <tr>\n",
              "      <th>BMI</th>\n",
              "      <td>0.293373</td>\n",
              "      <td>0.241019</td>\n",
              "      <td>0.131309</td>\n",
              "      <td>0.045648</td>\n",
              "      <td>1.000000</td>\n",
              "      <td>0.011551</td>\n",
              "      <td>0.022931</td>\n",
              "      <td>0.060355</td>\n",
              "      <td>-0.170936</td>\n",
              "      <td>-0.084505</td>\n",
              "      <td>...</td>\n",
              "      <td>-0.013417</td>\n",
              "      <td>0.065832</td>\n",
              "      <td>0.267888</td>\n",
              "      <td>0.104682</td>\n",
              "      <td>0.161862</td>\n",
              "      <td>0.246094</td>\n",
              "      <td>0.000827</td>\n",
              "      <td>-0.038648</td>\n",
              "      <td>-0.100233</td>\n",
              "      <td>-0.124878</td>\n",
              "    </tr>\n",
              "    <tr>\n",
              "      <th>Smoker</th>\n",
              "      <td>0.085999</td>\n",
              "      <td>0.087438</td>\n",
              "      <td>0.093398</td>\n",
              "      <td>-0.004331</td>\n",
              "      <td>0.011551</td>\n",
              "      <td>1.000000</td>\n",
              "      <td>0.064658</td>\n",
              "      <td>0.124418</td>\n",
              "      <td>-0.079823</td>\n",
              "      <td>-0.074811</td>\n",
              "      <td>...</td>\n",
              "      <td>-0.012939</td>\n",
              "      <td>0.035799</td>\n",
              "      <td>0.152416</td>\n",
              "      <td>0.091257</td>\n",
              "      <td>0.120698</td>\n",
              "      <td>0.119789</td>\n",
              "      <td>0.112125</td>\n",
              "      <td>0.105424</td>\n",
              "      <td>-0.140966</td>\n",
              "      <td>-0.104725</td>\n",
              "    </tr>\n",
              "    <tr>\n",
              "      <th>Stroke</th>\n",
              "      <td>0.125427</td>\n",
              "      <td>0.129060</td>\n",
              "      <td>0.099786</td>\n",
              "      <td>0.022529</td>\n",
              "      <td>0.022931</td>\n",
              "      <td>0.064658</td>\n",
              "      <td>1.000000</td>\n",
              "      <td>0.223394</td>\n",
              "      <td>-0.079985</td>\n",
              "      <td>-0.008996</td>\n",
              "      <td>...</td>\n",
              "      <td>0.006484</td>\n",
              "      <td>0.036198</td>\n",
              "      <td>0.189447</td>\n",
              "      <td>0.087303</td>\n",
              "      <td>0.164488</td>\n",
              "      <td>0.192266</td>\n",
              "      <td>0.003822</td>\n",
              "      <td>0.123879</td>\n",
              "      <td>-0.073926</td>\n",
              "      <td>-0.136577</td>\n",
              "    </tr>\n",
              "    <tr>\n",
              "      <th>HeartDiseaseorAttack</th>\n",
              "      <td>0.211523</td>\n",
              "      <td>0.210750</td>\n",
              "      <td>0.181187</td>\n",
              "      <td>0.043497</td>\n",
              "      <td>0.060355</td>\n",
              "      <td>0.124418</td>\n",
              "      <td>0.223394</td>\n",
              "      <td>1.000000</td>\n",
              "      <td>-0.098223</td>\n",
              "      <td>-0.019436</td>\n",
              "      <td>...</td>\n",
              "      <td>0.015687</td>\n",
              "      <td>0.036029</td>\n",
              "      <td>0.275868</td>\n",
              "      <td>0.075057</td>\n",
              "      <td>0.198416</td>\n",
              "      <td>0.232611</td>\n",
              "      <td>0.098161</td>\n",
              "      <td>0.221878</td>\n",
              "      <td>-0.096559</td>\n",
              "      <td>-0.146748</td>\n",
              "    </tr>\n",
              "    <tr>\n",
              "      <th>PhysActivity</th>\n",
              "      <td>-0.158666</td>\n",
              "      <td>-0.136102</td>\n",
              "      <td>-0.090453</td>\n",
              "      <td>-0.008249</td>\n",
              "      <td>-0.170936</td>\n",
              "      <td>-0.079823</td>\n",
              "      <td>-0.079985</td>\n",
              "      <td>-0.098223</td>\n",
              "      <td>1.000000</td>\n",
              "      <td>0.133813</td>\n",
              "      <td>...</td>\n",
              "      <td>0.027089</td>\n",
              "      <td>-0.063302</td>\n",
              "      <td>-0.273548</td>\n",
              "      <td>-0.130090</td>\n",
              "      <td>-0.234500</td>\n",
              "      <td>-0.276868</td>\n",
              "      <td>0.051753</td>\n",
              "      <td>-0.100753</td>\n",
              "      <td>0.190271</td>\n",
              "      <td>0.196551</td>\n",
              "    </tr>\n",
              "    <tr>\n",
              "      <th>Fruits</th>\n",
              "      <td>-0.054077</td>\n",
              "      <td>-0.040852</td>\n",
              "      <td>-0.047384</td>\n",
              "      <td>0.017384</td>\n",
              "      <td>-0.084505</td>\n",
              "      <td>-0.074811</td>\n",
              "      <td>-0.008996</td>\n",
              "      <td>-0.019436</td>\n",
              "      <td>0.133813</td>\n",
              "      <td>1.000000</td>\n",
              "      <td>...</td>\n",
              "      <td>0.029385</td>\n",
              "      <td>-0.045843</td>\n",
              "      <td>-0.098687</td>\n",
              "      <td>-0.062102</td>\n",
              "      <td>-0.048572</td>\n",
              "      <td>-0.050784</td>\n",
              "      <td>-0.088723</td>\n",
              "      <td>0.061096</td>\n",
              "      <td>0.098715</td>\n",
              "      <td>0.079009</td>\n",
              "    </tr>\n",
              "    <tr>\n",
              "      <th>Veggies</th>\n",
              "      <td>-0.079293</td>\n",
              "      <td>-0.066624</td>\n",
              "      <td>-0.042836</td>\n",
              "      <td>0.000349</td>\n",
              "      <td>-0.056528</td>\n",
              "      <td>-0.029926</td>\n",
              "      <td>-0.047601</td>\n",
              "      <td>-0.036315</td>\n",
              "      <td>0.149322</td>\n",
              "      <td>0.238605</td>\n",
              "      <td>...</td>\n",
              "      <td>0.029152</td>\n",
              "      <td>-0.037146</td>\n",
              "      <td>-0.115795</td>\n",
              "      <td>-0.052359</td>\n",
              "      <td>-0.066896</td>\n",
              "      <td>-0.084072</td>\n",
              "      <td>-0.052604</td>\n",
              "      <td>-0.018893</td>\n",
              "      <td>0.152512</td>\n",
              "      <td>0.154899</td>\n",
              "    </tr>\n",
              "    <tr>\n",
              "      <th>HvyAlcoholConsump</th>\n",
              "      <td>-0.094853</td>\n",
              "      <td>-0.027030</td>\n",
              "      <td>-0.025443</td>\n",
              "      <td>-0.027146</td>\n",
              "      <td>-0.058232</td>\n",
              "      <td>0.077835</td>\n",
              "      <td>-0.023395</td>\n",
              "      <td>-0.037130</td>\n",
              "      <td>0.019111</td>\n",
              "      <td>-0.033246</td>\n",
              "      <td>...</td>\n",
              "      <td>-0.013484</td>\n",
              "      <td>0.009683</td>\n",
              "      <td>-0.058796</td>\n",
              "      <td>0.015626</td>\n",
              "      <td>-0.036257</td>\n",
              "      <td>-0.049294</td>\n",
              "      <td>0.014164</td>\n",
              "      <td>-0.057705</td>\n",
              "      <td>0.036279</td>\n",
              "      <td>0.064095</td>\n",
              "    </tr>\n",
              "    <tr>\n",
              "      <th>AnyHealthcare</th>\n",
              "      <td>0.023191</td>\n",
              "      <td>0.035764</td>\n",
              "      <td>0.031532</td>\n",
              "      <td>0.106800</td>\n",
              "      <td>-0.013417</td>\n",
              "      <td>-0.012939</td>\n",
              "      <td>0.006484</td>\n",
              "      <td>0.015687</td>\n",
              "      <td>0.027089</td>\n",
              "      <td>0.029385</td>\n",
              "      <td>...</td>\n",
              "      <td>1.000000</td>\n",
              "      <td>-0.221658</td>\n",
              "      <td>-0.033060</td>\n",
              "      <td>-0.049850</td>\n",
              "      <td>-0.003285</td>\n",
              "      <td>0.008113</td>\n",
              "      <td>-0.006562</td>\n",
              "      <td>0.136975</td>\n",
              "      <td>0.106601</td>\n",
              "      <td>0.130492</td>\n",
              "    </tr>\n",
              "    <tr>\n",
              "      <th>NoDocbcCost</th>\n",
              "      <td>0.040977</td>\n",
              "      <td>0.026517</td>\n",
              "      <td>0.033199</td>\n",
              "      <td>-0.062669</td>\n",
              "      <td>0.065832</td>\n",
              "      <td>0.035799</td>\n",
              "      <td>0.036198</td>\n",
              "      <td>0.036029</td>\n",
              "      <td>-0.063302</td>\n",
              "      <td>-0.045843</td>\n",
              "      <td>...</td>\n",
              "      <td>-0.221658</td>\n",
              "      <td>1.000000</td>\n",
              "      <td>0.169515</td>\n",
              "      <td>0.193877</td>\n",
              "      <td>0.157451</td>\n",
              "      <td>0.127111</td>\n",
              "      <td>-0.048187</td>\n",
              "      <td>-0.129839</td>\n",
              "      <td>-0.096989</td>\n",
              "      <td>-0.198171</td>\n",
              "    </tr>\n",
              "    <tr>\n",
              "      <th>GenHlth</th>\n",
              "      <td>0.407612</td>\n",
              "      <td>0.320540</td>\n",
              "      <td>0.237778</td>\n",
              "      <td>0.059213</td>\n",
              "      <td>0.267888</td>\n",
              "      <td>0.152416</td>\n",
              "      <td>0.189447</td>\n",
              "      <td>0.275868</td>\n",
              "      <td>-0.273548</td>\n",
              "      <td>-0.098687</td>\n",
              "      <td>...</td>\n",
              "      <td>-0.033060</td>\n",
              "      <td>0.169515</td>\n",
              "      <td>1.000000</td>\n",
              "      <td>0.315077</td>\n",
              "      <td>0.552757</td>\n",
              "      <td>0.476639</td>\n",
              "      <td>-0.014555</td>\n",
              "      <td>0.155624</td>\n",
              "      <td>-0.285420</td>\n",
              "      <td>-0.382969</td>\n",
              "    </tr>\n",
              "    <tr>\n",
              "      <th>MentHlth</th>\n",
              "      <td>0.087029</td>\n",
              "      <td>0.064294</td>\n",
              "      <td>0.083881</td>\n",
              "      <td>-0.010660</td>\n",
              "      <td>0.104682</td>\n",
              "      <td>0.091257</td>\n",
              "      <td>0.087303</td>\n",
              "      <td>0.075057</td>\n",
              "      <td>-0.130090</td>\n",
              "      <td>-0.062102</td>\n",
              "      <td>...</td>\n",
              "      <td>-0.049850</td>\n",
              "      <td>0.193877</td>\n",
              "      <td>0.315077</td>\n",
              "      <td>1.000000</td>\n",
              "      <td>0.380272</td>\n",
              "      <td>0.251489</td>\n",
              "      <td>-0.089204</td>\n",
              "      <td>-0.101746</td>\n",
              "      <td>-0.107005</td>\n",
              "      <td>-0.219070</td>\n",
              "    </tr>\n",
              "    <tr>\n",
              "      <th>PhysHlth</th>\n",
              "      <td>0.213081</td>\n",
              "      <td>0.173922</td>\n",
              "      <td>0.142610</td>\n",
              "      <td>0.034540</td>\n",
              "      <td>0.161862</td>\n",
              "      <td>0.120698</td>\n",
              "      <td>0.164488</td>\n",
              "      <td>0.198416</td>\n",
              "      <td>-0.234500</td>\n",
              "      <td>-0.048572</td>\n",
              "      <td>...</td>\n",
              "      <td>-0.003285</td>\n",
              "      <td>0.157451</td>\n",
              "      <td>0.552757</td>\n",
              "      <td>0.380272</td>\n",
              "      <td>1.000000</td>\n",
              "      <td>0.487976</td>\n",
              "      <td>-0.045957</td>\n",
              "      <td>0.084852</td>\n",
              "      <td>-0.159317</td>\n",
              "      <td>-0.279326</td>\n",
              "    </tr>\n",
              "    <tr>\n",
              "      <th>DiffWalk</th>\n",
              "      <td>0.272646</td>\n",
              "      <td>0.234784</td>\n",
              "      <td>0.162043</td>\n",
              "      <td>0.044430</td>\n",
              "      <td>0.246094</td>\n",
              "      <td>0.119789</td>\n",
              "      <td>0.192266</td>\n",
              "      <td>0.232611</td>\n",
              "      <td>-0.276868</td>\n",
              "      <td>-0.050784</td>\n",
              "      <td>...</td>\n",
              "      <td>0.008113</td>\n",
              "      <td>0.127111</td>\n",
              "      <td>0.476639</td>\n",
              "      <td>0.251489</td>\n",
              "      <td>0.487976</td>\n",
              "      <td>1.000000</td>\n",
              "      <td>-0.082248</td>\n",
              "      <td>0.195265</td>\n",
              "      <td>-0.202590</td>\n",
              "      <td>-0.343245</td>\n",
              "    </tr>\n",
              "    <tr>\n",
              "      <th>Sex</th>\n",
              "      <td>0.044413</td>\n",
              "      <td>0.040819</td>\n",
              "      <td>0.017324</td>\n",
              "      <td>-0.007991</td>\n",
              "      <td>0.000827</td>\n",
              "      <td>0.112125</td>\n",
              "      <td>0.003822</td>\n",
              "      <td>0.098161</td>\n",
              "      <td>0.051753</td>\n",
              "      <td>-0.088723</td>\n",
              "      <td>...</td>\n",
              "      <td>-0.006562</td>\n",
              "      <td>-0.048187</td>\n",
              "      <td>-0.014555</td>\n",
              "      <td>-0.089204</td>\n",
              "      <td>-0.045957</td>\n",
              "      <td>-0.082248</td>\n",
              "      <td>1.000000</td>\n",
              "      <td>-0.002315</td>\n",
              "      <td>0.043564</td>\n",
              "      <td>0.159654</td>\n",
              "    </tr>\n",
              "    <tr>\n",
              "      <th>Age</th>\n",
              "      <td>0.278738</td>\n",
              "      <td>0.338132</td>\n",
              "      <td>0.240338</td>\n",
              "      <td>0.101743</td>\n",
              "      <td>-0.038648</td>\n",
              "      <td>0.105424</td>\n",
              "      <td>0.123879</td>\n",
              "      <td>0.221878</td>\n",
              "      <td>-0.100753</td>\n",
              "      <td>0.061096</td>\n",
              "      <td>...</td>\n",
              "      <td>0.136975</td>\n",
              "      <td>-0.129839</td>\n",
              "      <td>0.155624</td>\n",
              "      <td>-0.101746</td>\n",
              "      <td>0.084852</td>\n",
              "      <td>0.195265</td>\n",
              "      <td>-0.002315</td>\n",
              "      <td>1.000000</td>\n",
              "      <td>-0.107127</td>\n",
              "      <td>-0.130140</td>\n",
              "    </tr>\n",
              "    <tr>\n",
              "      <th>Education</th>\n",
              "      <td>-0.170481</td>\n",
              "      <td>-0.141643</td>\n",
              "      <td>-0.084386</td>\n",
              "      <td>-0.008695</td>\n",
              "      <td>-0.100233</td>\n",
              "      <td>-0.140966</td>\n",
              "      <td>-0.073926</td>\n",
              "      <td>-0.096559</td>\n",
              "      <td>0.190271</td>\n",
              "      <td>0.098715</td>\n",
              "      <td>...</td>\n",
              "      <td>0.106601</td>\n",
              "      <td>-0.096989</td>\n",
              "      <td>-0.285420</td>\n",
              "      <td>-0.107005</td>\n",
              "      <td>-0.159317</td>\n",
              "      <td>-0.202590</td>\n",
              "      <td>0.043564</td>\n",
              "      <td>-0.107127</td>\n",
              "      <td>1.000000</td>\n",
              "      <td>0.460565</td>\n",
              "    </tr>\n",
              "    <tr>\n",
              "      <th>Income</th>\n",
              "      <td>-0.224449</td>\n",
              "      <td>-0.187657</td>\n",
              "      <td>-0.107777</td>\n",
              "      <td>0.007550</td>\n",
              "      <td>-0.124878</td>\n",
              "      <td>-0.104725</td>\n",
              "      <td>-0.136577</td>\n",
              "      <td>-0.146748</td>\n",
              "      <td>0.196551</td>\n",
              "      <td>0.079009</td>\n",
              "      <td>...</td>\n",
              "      <td>0.130492</td>\n",
              "      <td>-0.198171</td>\n",
              "      <td>-0.382969</td>\n",
              "      <td>-0.219070</td>\n",
              "      <td>-0.279326</td>\n",
              "      <td>-0.343245</td>\n",
              "      <td>0.159654</td>\n",
              "      <td>-0.130140</td>\n",
              "      <td>0.460565</td>\n",
              "      <td>1.000000</td>\n",
              "    </tr>\n",
              "  </tbody>\n",
              "</table>\n",
              "<p>22 rows × 22 columns</p>\n",
              "</div>\n",
              "      <button class=\"colab-df-convert\" onclick=\"convertToInteractive('df-89cf6aa3-9666-4bd3-b33f-e7f64035f199')\"\n",
              "              title=\"Convert this dataframe to an interactive table.\"\n",
              "              style=\"display:none;\">\n",
              "        \n",
              "  <svg xmlns=\"http://www.w3.org/2000/svg\" height=\"24px\"viewBox=\"0 0 24 24\"\n",
              "       width=\"24px\">\n",
              "    <path d=\"M0 0h24v24H0V0z\" fill=\"none\"/>\n",
              "    <path d=\"M18.56 5.44l.94 2.06.94-2.06 2.06-.94-2.06-.94-.94-2.06-.94 2.06-2.06.94zm-11 1L8.5 8.5l.94-2.06 2.06-.94-2.06-.94L8.5 2.5l-.94 2.06-2.06.94zm10 10l.94 2.06.94-2.06 2.06-.94-2.06-.94-.94-2.06-.94 2.06-2.06.94z\"/><path d=\"M17.41 7.96l-1.37-1.37c-.4-.4-.92-.59-1.43-.59-.52 0-1.04.2-1.43.59L10.3 9.45l-7.72 7.72c-.78.78-.78 2.05 0 2.83L4 21.41c.39.39.9.59 1.41.59.51 0 1.02-.2 1.41-.59l7.78-7.78 2.81-2.81c.8-.78.8-2.07 0-2.86zM5.41 20L4 18.59l7.72-7.72 1.47 1.35L5.41 20z\"/>\n",
              "  </svg>\n",
              "      </button>\n",
              "      \n",
              "  <style>\n",
              "    .colab-df-container {\n",
              "      display:flex;\n",
              "      flex-wrap:wrap;\n",
              "      gap: 12px;\n",
              "    }\n",
              "\n",
              "    .colab-df-convert {\n",
              "      background-color: #E8F0FE;\n",
              "      border: none;\n",
              "      border-radius: 50%;\n",
              "      cursor: pointer;\n",
              "      display: none;\n",
              "      fill: #1967D2;\n",
              "      height: 32px;\n",
              "      padding: 0 0 0 0;\n",
              "      width: 32px;\n",
              "    }\n",
              "\n",
              "    .colab-df-convert:hover {\n",
              "      background-color: #E2EBFA;\n",
              "      box-shadow: 0px 1px 2px rgba(60, 64, 67, 0.3), 0px 1px 3px 1px rgba(60, 64, 67, 0.15);\n",
              "      fill: #174EA6;\n",
              "    }\n",
              "\n",
              "    [theme=dark] .colab-df-convert {\n",
              "      background-color: #3B4455;\n",
              "      fill: #D2E3FC;\n",
              "    }\n",
              "\n",
              "    [theme=dark] .colab-df-convert:hover {\n",
              "      background-color: #434B5C;\n",
              "      box-shadow: 0px 1px 3px 1px rgba(0, 0, 0, 0.15);\n",
              "      filter: drop-shadow(0px 1px 2px rgba(0, 0, 0, 0.3));\n",
              "      fill: #FFFFFF;\n",
              "    }\n",
              "  </style>\n",
              "\n",
              "      <script>\n",
              "        const buttonEl =\n",
              "          document.querySelector('#df-89cf6aa3-9666-4bd3-b33f-e7f64035f199 button.colab-df-convert');\n",
              "        buttonEl.style.display =\n",
              "          google.colab.kernel.accessAllowed ? 'block' : 'none';\n",
              "\n",
              "        async function convertToInteractive(key) {\n",
              "          const element = document.querySelector('#df-89cf6aa3-9666-4bd3-b33f-e7f64035f199');\n",
              "          const dataTable =\n",
              "            await google.colab.kernel.invokeFunction('convertToInteractive',\n",
              "                                                     [key], {});\n",
              "          if (!dataTable) return;\n",
              "\n",
              "          const docLinkHtml = 'Like what you see? Visit the ' +\n",
              "            '<a target=\"_blank\" href=https://colab.research.google.com/notebooks/data_table.ipynb>data table notebook</a>'\n",
              "            + ' to learn more about interactive tables.';\n",
              "          element.innerHTML = '';\n",
              "          dataTable['output_type'] = 'display_data';\n",
              "          await google.colab.output.renderOutput(dataTable, element);\n",
              "          const docLink = document.createElement('div');\n",
              "          docLink.innerHTML = docLinkHtml;\n",
              "          element.appendChild(docLink);\n",
              "        }\n",
              "      </script>\n",
              "    </div>\n",
              "  </div>\n",
              "  "
            ]
          },
          "metadata": {},
          "execution_count": 316
        }
      ]
    },
    {
      "cell_type": "code",
      "source": [
        "data_raw.corr().to_csv(\"Correlations.csv\")"
      ],
      "metadata": {
        "id": "NFFbm_0pkybX"
      },
      "execution_count": 317,
      "outputs": []
    },
    {
      "cell_type": "markdown",
      "source": [
        "## Check for multicollinearity"
      ],
      "metadata": {
        "id": "A3HRLLBfTFpe"
      }
    },
    {
      "cell_type": "markdown",
      "source": [
        "### Check for features with VIF > 10 and eliminate highest, one by one, until all VIF scores are < 10"
      ],
      "metadata": {
        "id": "3j2jijz2_LmG"
      }
    },
    {
      "cell_type": "code",
      "source": [
        "# the independent variables set\n",
        "data_temp = data_raw[['HighBP',\t'HighChol',\t'CholCheck',\t'BMI', 'Smoker',\t'Stroke',\t'HeartDiseaseorAttack', 'PhysActivity', 'Fruits', 'Veggies', 'HvyAlcoholConsump', 'AnyHealthcare', 'NoDocbcCost', 'GenHlth', 'MentHlth', 'PhysHlth', 'DiffWalk', 'Sex', 'Age']]\n",
        "\n",
        "# VIF dataframe\n",
        "vif_data = pd.DataFrame()\n",
        "vif_data[\"feature\"] = data_temp.columns\n",
        "  \n",
        "# calculating VIF for each feature\n",
        "vif_data[\"VIF\"] = [variance_inflation_factor(data_temp.values, i)\n",
        "                          for i in range(len(data_temp.columns))]\n",
        "vif_data = vif_data.sort_values(by=['VIF'])  \n",
        "print(vif_data)"
      ],
      "metadata": {
        "colab": {
          "base_uri": "https://localhost:8080/"
        },
        "id": "vJPaNbFbS1Vi",
        "outputId": "822b8b31-cb69-4004-9d58-fc38d7889cc2"
      },
      "execution_count": 318,
      "outputs": [
        {
          "output_type": "stream",
          "name": "stdout",
          "text": [
            "                 feature        VIF\n",
            "10     HvyAlcoholConsump   1.060520\n",
            "5                 Stroke   1.164938\n",
            "12           NoDocbcCost   1.213267\n",
            "6   HeartDiseaseorAttack   1.393475\n",
            "14              MentHlth   1.522342\n",
            "17                   Sex   1.927069\n",
            "4                 Smoker   2.032476\n",
            "16              DiffWalk   2.068375\n",
            "15              PhysHlth   2.252134\n",
            "1               HighChol   2.479329\n",
            "8                 Fruits   2.811279\n",
            "0                 HighBP   3.034079\n",
            "7           PhysActivity   3.726380\n",
            "9                Veggies   4.993737\n",
            "18                   Age  12.274687\n",
            "13               GenHlth  12.946536\n",
            "3                    BMI  17.752276\n",
            "11         AnyHealthcare  20.097987\n",
            "2              CholCheck  28.899936\n"
          ]
        }
      ]
    },
    {
      "cell_type": "markdown",
      "source": [
        "#### Results show that, in descending order of VIF, the following features are > 10: CholCheck, AnyHealthcare, BMI, GenHlth, Age"
      ],
      "metadata": {
        "id": "RciGqIXG_qaW"
      }
    },
    {
      "cell_type": "markdown",
      "source": [
        "### 1. Drop the highest VIF feature: CholCheck"
      ],
      "metadata": {
        "id": "Sum9wntnJRHA"
      }
    },
    {
      "cell_type": "code",
      "source": [
        "data_temp = data_temp.drop(['CholCheck'], axis=1)\n",
        "\n",
        "# VIF dataframe\n",
        "vif_data = pd.DataFrame()\n",
        "vif_data[\"feature\"] = data_temp.columns\n",
        "  \n",
        "# calculating VIF for each feature\n",
        "vif_data[\"VIF\"] = [variance_inflation_factor(data_temp.values, i)\n",
        "                          for i in range(len(data_temp.columns))]\n",
        "vif_data = vif_data.sort_values(by=['VIF'])\n",
        "print(vif_data)"
      ],
      "metadata": {
        "colab": {
          "base_uri": "https://localhost:8080/"
        },
        "outputId": "44c331c3-2f1d-40c6-9572-f8d9dcf1acfe",
        "id": "v70xUlD6JRHN"
      },
      "execution_count": 319,
      "outputs": [
        {
          "output_type": "stream",
          "name": "stdout",
          "text": [
            "                 feature        VIF\n",
            "9      HvyAlcoholConsump   1.059547\n",
            "4                 Stroke   1.164938\n",
            "11           NoDocbcCost   1.208946\n",
            "5   HeartDiseaseorAttack   1.391307\n",
            "13              MentHlth   1.521362\n",
            "16                   Sex   1.919719\n",
            "3                 Smoker   2.030934\n",
            "15              DiffWalk   2.058478\n",
            "14              PhysHlth   2.248227\n",
            "1               HighChol   2.478179\n",
            "7                 Fruits   2.796165\n",
            "0                 HighBP   3.029276\n",
            "6           PhysActivity   3.628317\n",
            "8                Veggies   4.925922\n",
            "17                   Age  11.499691\n",
            "12               GenHlth  12.532249\n",
            "2                    BMI  15.481397\n",
            "10         AnyHealthcare  16.877671\n"
          ]
        }
      ]
    },
    {
      "cell_type": "markdown",
      "source": [
        "#### Having dropped CholCheck, results show that, in descending order of VIF,  the following features are still > 10: AnyHealthcare, BMI, GenHlth, Age"
      ],
      "metadata": {
        "id": "QokLIzghJRHO"
      }
    },
    {
      "cell_type": "markdown",
      "source": [
        "### 2. Drop the next highest VIF feature: AnyHealthcare"
      ],
      "metadata": {
        "id": "Pl4VjSKiNcfR"
      }
    },
    {
      "cell_type": "code",
      "source": [
        "data_temp = data_temp.drop(['AnyHealthcare'], axis=1)\n",
        "\n",
        "# VIF dataframe\n",
        "vif_data = pd.DataFrame()\n",
        "vif_data[\"feature\"] = data_temp.columns\n",
        "  \n",
        "# calculating VIF for each feature\n",
        "vif_data[\"VIF\"] = [variance_inflation_factor(data_temp.values, i)\n",
        "                          for i in range(len(data_temp.columns))]\n",
        "vif_data = vif_data.sort_values(by=['VIF'])\n",
        "print(vif_data)"
      ],
      "metadata": {
        "colab": {
          "base_uri": "https://localhost:8080/"
        },
        "outputId": "3d88be4f-289a-415a-dda4-cd21cea4e1e1",
        "id": "hXcDZB_PNcfS"
      },
      "execution_count": 320,
      "outputs": [
        {
          "output_type": "stream",
          "name": "stdout",
          "text": [
            "                 feature        VIF\n",
            "9      HvyAlcoholConsump   1.057489\n",
            "4                 Stroke   1.164938\n",
            "10           NoDocbcCost   1.187602\n",
            "5   HeartDiseaseorAttack   1.387735\n",
            "12              MentHlth   1.519254\n",
            "15                   Sex   1.911404\n",
            "3                 Smoker   2.029087\n",
            "14              DiffWalk   2.050368\n",
            "13              PhysHlth   2.247509\n",
            "1               HighChol   2.478179\n",
            "7                 Fruits   2.780487\n",
            "0                 HighBP   3.006960\n",
            "6           PhysActivity   3.471542\n",
            "8                Veggies   4.806806\n",
            "16                   Age   9.857512\n",
            "11               GenHlth  12.255252\n",
            "2                    BMI  12.729904\n"
          ]
        }
      ]
    },
    {
      "cell_type": "markdown",
      "source": [
        "#### Having dropped CholCheck and AnyHealthcare, results show that, in descending order of VIF, the following features are still > 10: BMI, GenHlth and Age"
      ],
      "metadata": {
        "id": "nh4XzSlDDQoK"
      }
    },
    {
      "cell_type": "markdown",
      "source": [
        "### 3. Drop the next highest VIF feature: BMI"
      ],
      "metadata": {
        "id": "SN1fZFzoNtpB"
      }
    },
    {
      "cell_type": "code",
      "source": [
        "data_temp = data_temp.drop(['BMI'], axis=1)\n",
        "\n",
        "# VIF dataframe\n",
        "vif_data = pd.DataFrame()\n",
        "vif_data[\"feature\"] = data_temp.columns\n",
        "  \n",
        "# calculating VIF for each feature\n",
        "vif_data[\"VIF\"] = [variance_inflation_factor(data_temp.values, i)\n",
        "                          for i in range(len(data_temp.columns))]\n",
        "vif_data = vif_data.sort_values(by=['VIF'])\n",
        "print(vif_data)"
      ],
      "metadata": {
        "colab": {
          "base_uri": "https://localhost:8080/"
        },
        "outputId": "36cc1ea3-df7b-406d-ec09-2afa65256b98",
        "id": "aksNoH70NtpO"
      },
      "execution_count": 321,
      "outputs": [
        {
          "output_type": "stream",
          "name": "stdout",
          "text": [
            "                 feature       VIF\n",
            "8      HvyAlcoholConsump  1.057335\n",
            "3                 Stroke  1.161159\n",
            "9            NoDocbcCost  1.183737\n",
            "4   HeartDiseaseorAttack  1.369851\n",
            "11              MentHlth  1.515010\n",
            "14                   Sex  1.874174\n",
            "2                 Smoker  2.028026\n",
            "13              DiffWalk  2.041711\n",
            "12              PhysHlth  2.223003\n",
            "1               HighChol  2.471990\n",
            "6                 Fruits  2.768614\n",
            "0                 HighBP  2.974816\n",
            "5           PhysActivity  3.354099\n",
            "7                Veggies  4.556035\n",
            "15                   Age  9.211652\n",
            "10               GenHlth  9.748393\n"
          ]
        }
      ]
    },
    {
      "cell_type": "markdown",
      "source": [
        "#### Having dropped CholCheck, AnyHealthcare and BMI, this has brought all VIF scores under 10 - let's go with this as the first cut of the dataset."
      ],
      "metadata": {
        "id": "NjbbkODBD9rS"
      }
    },
    {
      "cell_type": "code",
      "source": [
        "data_cut = data_raw.drop(['CholCheck', 'AnyHealthcare', 'BMI'], axis=1)\n",
        "data_cut"
      ],
      "metadata": {
        "colab": {
          "base_uri": "https://localhost:8080/",
          "height": 487
        },
        "id": "r-J5PxefEZQE",
        "outputId": "4550d74e-c37c-4630-e036-4e9129f3a024"
      },
      "execution_count": 322,
      "outputs": [
        {
          "output_type": "execute_result",
          "data": {
            "text/plain": [
              "       Diabetes_binary  HighBP  HighChol  Smoker  Stroke  \\\n",
              "0                  0.0     1.0       0.0     0.0     0.0   \n",
              "1                  0.0     1.0       1.0     1.0     1.0   \n",
              "2                  0.0     0.0       0.0     0.0     0.0   \n",
              "3                  0.0     1.0       1.0     1.0     0.0   \n",
              "4                  0.0     0.0       0.0     1.0     0.0   \n",
              "...                ...     ...       ...     ...     ...   \n",
              "70687              1.0     0.0       1.0     0.0     0.0   \n",
              "70688              1.0     0.0       1.0     1.0     0.0   \n",
              "70689              1.0     1.0       1.0     0.0     0.0   \n",
              "70690              1.0     1.0       1.0     0.0     0.0   \n",
              "70691              1.0     1.0       1.0     0.0     0.0   \n",
              "\n",
              "       HeartDiseaseorAttack  PhysActivity  Fruits  Veggies  HvyAlcoholConsump  \\\n",
              "0                       0.0           1.0     0.0      1.0                0.0   \n",
              "1                       0.0           0.0     1.0      0.0                0.0   \n",
              "2                       0.0           1.0     1.0      1.0                0.0   \n",
              "3                       0.0           1.0     1.0      1.0                0.0   \n",
              "4                       0.0           1.0     1.0      1.0                0.0   \n",
              "...                     ...           ...     ...      ...                ...   \n",
              "70687                   0.0           0.0     0.0      1.0                0.0   \n",
              "70688                   1.0           0.0     1.0      1.0                0.0   \n",
              "70689                   1.0           0.0     1.0      0.0                0.0   \n",
              "70690                   0.0           0.0     0.0      0.0                0.0   \n",
              "70691                   1.0           1.0     1.0      0.0                0.0   \n",
              "\n",
              "       NoDocbcCost  GenHlth  MentHlth  PhysHlth  DiffWalk  Sex   Age  \\\n",
              "0              0.0      3.0       5.0      30.0       0.0  1.0   4.0   \n",
              "1              0.0      3.0       0.0       0.0       0.0  1.0  12.0   \n",
              "2              0.0      1.0       0.0      10.0       0.0  1.0  13.0   \n",
              "3              0.0      3.0       0.0       3.0       0.0  1.0  11.0   \n",
              "4              0.0      2.0       0.0       0.0       0.0  0.0   8.0   \n",
              "...            ...      ...       ...       ...       ...  ...   ...   \n",
              "70687          0.0      4.0       0.0       0.0       0.0  0.0   6.0   \n",
              "70688          0.0      2.0       0.0       0.0       1.0  1.0  10.0   \n",
              "70689          0.0      5.0      15.0       0.0       1.0  0.0  13.0   \n",
              "70690          0.0      4.0       0.0       0.0       1.0  0.0  11.0   \n",
              "70691          0.0      2.0       0.0       0.0       0.0  0.0   9.0   \n",
              "\n",
              "       Education  Income  \n",
              "0            6.0     8.0  \n",
              "1            6.0     8.0  \n",
              "2            6.0     8.0  \n",
              "3            6.0     8.0  \n",
              "4            5.0     8.0  \n",
              "...          ...     ...  \n",
              "70687        4.0     1.0  \n",
              "70688        3.0     6.0  \n",
              "70689        6.0     4.0  \n",
              "70690        2.0     4.0  \n",
              "70691        6.0     2.0  \n",
              "\n",
              "[70692 rows x 19 columns]"
            ],
            "text/html": [
              "\n",
              "  <div id=\"df-34755da5-c820-4648-b313-480ee3528c47\">\n",
              "    <div class=\"colab-df-container\">\n",
              "      <div>\n",
              "<style scoped>\n",
              "    .dataframe tbody tr th:only-of-type {\n",
              "        vertical-align: middle;\n",
              "    }\n",
              "\n",
              "    .dataframe tbody tr th {\n",
              "        vertical-align: top;\n",
              "    }\n",
              "\n",
              "    .dataframe thead th {\n",
              "        text-align: right;\n",
              "    }\n",
              "</style>\n",
              "<table border=\"1\" class=\"dataframe\">\n",
              "  <thead>\n",
              "    <tr style=\"text-align: right;\">\n",
              "      <th></th>\n",
              "      <th>Diabetes_binary</th>\n",
              "      <th>HighBP</th>\n",
              "      <th>HighChol</th>\n",
              "      <th>Smoker</th>\n",
              "      <th>Stroke</th>\n",
              "      <th>HeartDiseaseorAttack</th>\n",
              "      <th>PhysActivity</th>\n",
              "      <th>Fruits</th>\n",
              "      <th>Veggies</th>\n",
              "      <th>HvyAlcoholConsump</th>\n",
              "      <th>NoDocbcCost</th>\n",
              "      <th>GenHlth</th>\n",
              "      <th>MentHlth</th>\n",
              "      <th>PhysHlth</th>\n",
              "      <th>DiffWalk</th>\n",
              "      <th>Sex</th>\n",
              "      <th>Age</th>\n",
              "      <th>Education</th>\n",
              "      <th>Income</th>\n",
              "    </tr>\n",
              "  </thead>\n",
              "  <tbody>\n",
              "    <tr>\n",
              "      <th>0</th>\n",
              "      <td>0.0</td>\n",
              "      <td>1.0</td>\n",
              "      <td>0.0</td>\n",
              "      <td>0.0</td>\n",
              "      <td>0.0</td>\n",
              "      <td>0.0</td>\n",
              "      <td>1.0</td>\n",
              "      <td>0.0</td>\n",
              "      <td>1.0</td>\n",
              "      <td>0.0</td>\n",
              "      <td>0.0</td>\n",
              "      <td>3.0</td>\n",
              "      <td>5.0</td>\n",
              "      <td>30.0</td>\n",
              "      <td>0.0</td>\n",
              "      <td>1.0</td>\n",
              "      <td>4.0</td>\n",
              "      <td>6.0</td>\n",
              "      <td>8.0</td>\n",
              "    </tr>\n",
              "    <tr>\n",
              "      <th>1</th>\n",
              "      <td>0.0</td>\n",
              "      <td>1.0</td>\n",
              "      <td>1.0</td>\n",
              "      <td>1.0</td>\n",
              "      <td>1.0</td>\n",
              "      <td>0.0</td>\n",
              "      <td>0.0</td>\n",
              "      <td>1.0</td>\n",
              "      <td>0.0</td>\n",
              "      <td>0.0</td>\n",
              "      <td>0.0</td>\n",
              "      <td>3.0</td>\n",
              "      <td>0.0</td>\n",
              "      <td>0.0</td>\n",
              "      <td>0.0</td>\n",
              "      <td>1.0</td>\n",
              "      <td>12.0</td>\n",
              "      <td>6.0</td>\n",
              "      <td>8.0</td>\n",
              "    </tr>\n",
              "    <tr>\n",
              "      <th>2</th>\n",
              "      <td>0.0</td>\n",
              "      <td>0.0</td>\n",
              "      <td>0.0</td>\n",
              "      <td>0.0</td>\n",
              "      <td>0.0</td>\n",
              "      <td>0.0</td>\n",
              "      <td>1.0</td>\n",
              "      <td>1.0</td>\n",
              "      <td>1.0</td>\n",
              "      <td>0.0</td>\n",
              "      <td>0.0</td>\n",
              "      <td>1.0</td>\n",
              "      <td>0.0</td>\n",
              "      <td>10.0</td>\n",
              "      <td>0.0</td>\n",
              "      <td>1.0</td>\n",
              "      <td>13.0</td>\n",
              "      <td>6.0</td>\n",
              "      <td>8.0</td>\n",
              "    </tr>\n",
              "    <tr>\n",
              "      <th>3</th>\n",
              "      <td>0.0</td>\n",
              "      <td>1.0</td>\n",
              "      <td>1.0</td>\n",
              "      <td>1.0</td>\n",
              "      <td>0.0</td>\n",
              "      <td>0.0</td>\n",
              "      <td>1.0</td>\n",
              "      <td>1.0</td>\n",
              "      <td>1.0</td>\n",
              "      <td>0.0</td>\n",
              "      <td>0.0</td>\n",
              "      <td>3.0</td>\n",
              "      <td>0.0</td>\n",
              "      <td>3.0</td>\n",
              "      <td>0.0</td>\n",
              "      <td>1.0</td>\n",
              "      <td>11.0</td>\n",
              "      <td>6.0</td>\n",
              "      <td>8.0</td>\n",
              "    </tr>\n",
              "    <tr>\n",
              "      <th>4</th>\n",
              "      <td>0.0</td>\n",
              "      <td>0.0</td>\n",
              "      <td>0.0</td>\n",
              "      <td>1.0</td>\n",
              "      <td>0.0</td>\n",
              "      <td>0.0</td>\n",
              "      <td>1.0</td>\n",
              "      <td>1.0</td>\n",
              "      <td>1.0</td>\n",
              "      <td>0.0</td>\n",
              "      <td>0.0</td>\n",
              "      <td>2.0</td>\n",
              "      <td>0.0</td>\n",
              "      <td>0.0</td>\n",
              "      <td>0.0</td>\n",
              "      <td>0.0</td>\n",
              "      <td>8.0</td>\n",
              "      <td>5.0</td>\n",
              "      <td>8.0</td>\n",
              "    </tr>\n",
              "    <tr>\n",
              "      <th>...</th>\n",
              "      <td>...</td>\n",
              "      <td>...</td>\n",
              "      <td>...</td>\n",
              "      <td>...</td>\n",
              "      <td>...</td>\n",
              "      <td>...</td>\n",
              "      <td>...</td>\n",
              "      <td>...</td>\n",
              "      <td>...</td>\n",
              "      <td>...</td>\n",
              "      <td>...</td>\n",
              "      <td>...</td>\n",
              "      <td>...</td>\n",
              "      <td>...</td>\n",
              "      <td>...</td>\n",
              "      <td>...</td>\n",
              "      <td>...</td>\n",
              "      <td>...</td>\n",
              "      <td>...</td>\n",
              "    </tr>\n",
              "    <tr>\n",
              "      <th>70687</th>\n",
              "      <td>1.0</td>\n",
              "      <td>0.0</td>\n",
              "      <td>1.0</td>\n",
              "      <td>0.0</td>\n",
              "      <td>0.0</td>\n",
              "      <td>0.0</td>\n",
              "      <td>0.0</td>\n",
              "      <td>0.0</td>\n",
              "      <td>1.0</td>\n",
              "      <td>0.0</td>\n",
              "      <td>0.0</td>\n",
              "      <td>4.0</td>\n",
              "      <td>0.0</td>\n",
              "      <td>0.0</td>\n",
              "      <td>0.0</td>\n",
              "      <td>0.0</td>\n",
              "      <td>6.0</td>\n",
              "      <td>4.0</td>\n",
              "      <td>1.0</td>\n",
              "    </tr>\n",
              "    <tr>\n",
              "      <th>70688</th>\n",
              "      <td>1.0</td>\n",
              "      <td>0.0</td>\n",
              "      <td>1.0</td>\n",
              "      <td>1.0</td>\n",
              "      <td>0.0</td>\n",
              "      <td>1.0</td>\n",
              "      <td>0.0</td>\n",
              "      <td>1.0</td>\n",
              "      <td>1.0</td>\n",
              "      <td>0.0</td>\n",
              "      <td>0.0</td>\n",
              "      <td>2.0</td>\n",
              "      <td>0.0</td>\n",
              "      <td>0.0</td>\n",
              "      <td>1.0</td>\n",
              "      <td>1.0</td>\n",
              "      <td>10.0</td>\n",
              "      <td>3.0</td>\n",
              "      <td>6.0</td>\n",
              "    </tr>\n",
              "    <tr>\n",
              "      <th>70689</th>\n",
              "      <td>1.0</td>\n",
              "      <td>1.0</td>\n",
              "      <td>1.0</td>\n",
              "      <td>0.0</td>\n",
              "      <td>0.0</td>\n",
              "      <td>1.0</td>\n",
              "      <td>0.0</td>\n",
              "      <td>1.0</td>\n",
              "      <td>0.0</td>\n",
              "      <td>0.0</td>\n",
              "      <td>0.0</td>\n",
              "      <td>5.0</td>\n",
              "      <td>15.0</td>\n",
              "      <td>0.0</td>\n",
              "      <td>1.0</td>\n",
              "      <td>0.0</td>\n",
              "      <td>13.0</td>\n",
              "      <td>6.0</td>\n",
              "      <td>4.0</td>\n",
              "    </tr>\n",
              "    <tr>\n",
              "      <th>70690</th>\n",
              "      <td>1.0</td>\n",
              "      <td>1.0</td>\n",
              "      <td>1.0</td>\n",
              "      <td>0.0</td>\n",
              "      <td>0.0</td>\n",
              "      <td>0.0</td>\n",
              "      <td>0.0</td>\n",
              "      <td>0.0</td>\n",
              "      <td>0.0</td>\n",
              "      <td>0.0</td>\n",
              "      <td>0.0</td>\n",
              "      <td>4.0</td>\n",
              "      <td>0.0</td>\n",
              "      <td>0.0</td>\n",
              "      <td>1.0</td>\n",
              "      <td>0.0</td>\n",
              "      <td>11.0</td>\n",
              "      <td>2.0</td>\n",
              "      <td>4.0</td>\n",
              "    </tr>\n",
              "    <tr>\n",
              "      <th>70691</th>\n",
              "      <td>1.0</td>\n",
              "      <td>1.0</td>\n",
              "      <td>1.0</td>\n",
              "      <td>0.0</td>\n",
              "      <td>0.0</td>\n",
              "      <td>1.0</td>\n",
              "      <td>1.0</td>\n",
              "      <td>1.0</td>\n",
              "      <td>0.0</td>\n",
              "      <td>0.0</td>\n",
              "      <td>0.0</td>\n",
              "      <td>2.0</td>\n",
              "      <td>0.0</td>\n",
              "      <td>0.0</td>\n",
              "      <td>0.0</td>\n",
              "      <td>0.0</td>\n",
              "      <td>9.0</td>\n",
              "      <td>6.0</td>\n",
              "      <td>2.0</td>\n",
              "    </tr>\n",
              "  </tbody>\n",
              "</table>\n",
              "<p>70692 rows × 19 columns</p>\n",
              "</div>\n",
              "      <button class=\"colab-df-convert\" onclick=\"convertToInteractive('df-34755da5-c820-4648-b313-480ee3528c47')\"\n",
              "              title=\"Convert this dataframe to an interactive table.\"\n",
              "              style=\"display:none;\">\n",
              "        \n",
              "  <svg xmlns=\"http://www.w3.org/2000/svg\" height=\"24px\"viewBox=\"0 0 24 24\"\n",
              "       width=\"24px\">\n",
              "    <path d=\"M0 0h24v24H0V0z\" fill=\"none\"/>\n",
              "    <path d=\"M18.56 5.44l.94 2.06.94-2.06 2.06-.94-2.06-.94-.94-2.06-.94 2.06-2.06.94zm-11 1L8.5 8.5l.94-2.06 2.06-.94-2.06-.94L8.5 2.5l-.94 2.06-2.06.94zm10 10l.94 2.06.94-2.06 2.06-.94-2.06-.94-.94-2.06-.94 2.06-2.06.94z\"/><path d=\"M17.41 7.96l-1.37-1.37c-.4-.4-.92-.59-1.43-.59-.52 0-1.04.2-1.43.59L10.3 9.45l-7.72 7.72c-.78.78-.78 2.05 0 2.83L4 21.41c.39.39.9.59 1.41.59.51 0 1.02-.2 1.41-.59l7.78-7.78 2.81-2.81c.8-.78.8-2.07 0-2.86zM5.41 20L4 18.59l7.72-7.72 1.47 1.35L5.41 20z\"/>\n",
              "  </svg>\n",
              "      </button>\n",
              "      \n",
              "  <style>\n",
              "    .colab-df-container {\n",
              "      display:flex;\n",
              "      flex-wrap:wrap;\n",
              "      gap: 12px;\n",
              "    }\n",
              "\n",
              "    .colab-df-convert {\n",
              "      background-color: #E8F0FE;\n",
              "      border: none;\n",
              "      border-radius: 50%;\n",
              "      cursor: pointer;\n",
              "      display: none;\n",
              "      fill: #1967D2;\n",
              "      height: 32px;\n",
              "      padding: 0 0 0 0;\n",
              "      width: 32px;\n",
              "    }\n",
              "\n",
              "    .colab-df-convert:hover {\n",
              "      background-color: #E2EBFA;\n",
              "      box-shadow: 0px 1px 2px rgba(60, 64, 67, 0.3), 0px 1px 3px 1px rgba(60, 64, 67, 0.15);\n",
              "      fill: #174EA6;\n",
              "    }\n",
              "\n",
              "    [theme=dark] .colab-df-convert {\n",
              "      background-color: #3B4455;\n",
              "      fill: #D2E3FC;\n",
              "    }\n",
              "\n",
              "    [theme=dark] .colab-df-convert:hover {\n",
              "      background-color: #434B5C;\n",
              "      box-shadow: 0px 1px 3px 1px rgba(0, 0, 0, 0.15);\n",
              "      filter: drop-shadow(0px 1px 2px rgba(0, 0, 0, 0.3));\n",
              "      fill: #FFFFFF;\n",
              "    }\n",
              "  </style>\n",
              "\n",
              "      <script>\n",
              "        const buttonEl =\n",
              "          document.querySelector('#df-34755da5-c820-4648-b313-480ee3528c47 button.colab-df-convert');\n",
              "        buttonEl.style.display =\n",
              "          google.colab.kernel.accessAllowed ? 'block' : 'none';\n",
              "\n",
              "        async function convertToInteractive(key) {\n",
              "          const element = document.querySelector('#df-34755da5-c820-4648-b313-480ee3528c47');\n",
              "          const dataTable =\n",
              "            await google.colab.kernel.invokeFunction('convertToInteractive',\n",
              "                                                     [key], {});\n",
              "          if (!dataTable) return;\n",
              "\n",
              "          const docLinkHtml = 'Like what you see? Visit the ' +\n",
              "            '<a target=\"_blank\" href=https://colab.research.google.com/notebooks/data_table.ipynb>data table notebook</a>'\n",
              "            + ' to learn more about interactive tables.';\n",
              "          element.innerHTML = '';\n",
              "          dataTable['output_type'] = 'display_data';\n",
              "          await google.colab.output.renderOutput(dataTable, element);\n",
              "          const docLink = document.createElement('div');\n",
              "          docLink.innerHTML = docLinkHtml;\n",
              "          element.appendChild(docLink);\n",
              "        }\n",
              "      </script>\n",
              "    </div>\n",
              "  </div>\n",
              "  "
            ]
          },
          "metadata": {},
          "execution_count": 322
        }
      ]
    },
    {
      "cell_type": "markdown",
      "source": [
        "## Split into different data types and categories"
      ],
      "metadata": {
        "id": "iocu030QIfM_"
      }
    },
    {
      "cell_type": "markdown",
      "source": [
        "### Data types"
      ],
      "metadata": {
        "id": "dQV_FCJPXBuY"
      }
    },
    {
      "cell_type": "markdown",
      "source": [
        "Numeric independent variables are:\n",
        "*   DISCRETE: MentHlth, PhysHlth\n",
        "*   INTERVAL: Age\n",
        "*   RATIO: Income"
      ],
      "metadata": {
        "id": "2TuBbNRoIj52"
      }
    },
    {
      "cell_type": "code",
      "source": [
        "data_numeric = data_cut[['Diabetes_binary', 'MentHlth',\t'PhysHlth',\t'Age',\t'Income']]\n",
        "data_numeric"
      ],
      "metadata": {
        "colab": {
          "base_uri": "https://localhost:8080/",
          "height": 423
        },
        "id": "qM5zzl7RRzmN",
        "outputId": "3f1f45e3-90d4-4200-d9cc-065683b0c5da"
      },
      "execution_count": 323,
      "outputs": [
        {
          "output_type": "execute_result",
          "data": {
            "text/plain": [
              "       Diabetes_binary  MentHlth  PhysHlth   Age  Income\n",
              "0                  0.0       5.0      30.0   4.0     8.0\n",
              "1                  0.0       0.0       0.0  12.0     8.0\n",
              "2                  0.0       0.0      10.0  13.0     8.0\n",
              "3                  0.0       0.0       3.0  11.0     8.0\n",
              "4                  0.0       0.0       0.0   8.0     8.0\n",
              "...                ...       ...       ...   ...     ...\n",
              "70687              1.0       0.0       0.0   6.0     1.0\n",
              "70688              1.0       0.0       0.0  10.0     6.0\n",
              "70689              1.0      15.0       0.0  13.0     4.0\n",
              "70690              1.0       0.0       0.0  11.0     4.0\n",
              "70691              1.0       0.0       0.0   9.0     2.0\n",
              "\n",
              "[70692 rows x 5 columns]"
            ],
            "text/html": [
              "\n",
              "  <div id=\"df-cf6d698b-784e-4b1a-bae8-df9247ef8abe\">\n",
              "    <div class=\"colab-df-container\">\n",
              "      <div>\n",
              "<style scoped>\n",
              "    .dataframe tbody tr th:only-of-type {\n",
              "        vertical-align: middle;\n",
              "    }\n",
              "\n",
              "    .dataframe tbody tr th {\n",
              "        vertical-align: top;\n",
              "    }\n",
              "\n",
              "    .dataframe thead th {\n",
              "        text-align: right;\n",
              "    }\n",
              "</style>\n",
              "<table border=\"1\" class=\"dataframe\">\n",
              "  <thead>\n",
              "    <tr style=\"text-align: right;\">\n",
              "      <th></th>\n",
              "      <th>Diabetes_binary</th>\n",
              "      <th>MentHlth</th>\n",
              "      <th>PhysHlth</th>\n",
              "      <th>Age</th>\n",
              "      <th>Income</th>\n",
              "    </tr>\n",
              "  </thead>\n",
              "  <tbody>\n",
              "    <tr>\n",
              "      <th>0</th>\n",
              "      <td>0.0</td>\n",
              "      <td>5.0</td>\n",
              "      <td>30.0</td>\n",
              "      <td>4.0</td>\n",
              "      <td>8.0</td>\n",
              "    </tr>\n",
              "    <tr>\n",
              "      <th>1</th>\n",
              "      <td>0.0</td>\n",
              "      <td>0.0</td>\n",
              "      <td>0.0</td>\n",
              "      <td>12.0</td>\n",
              "      <td>8.0</td>\n",
              "    </tr>\n",
              "    <tr>\n",
              "      <th>2</th>\n",
              "      <td>0.0</td>\n",
              "      <td>0.0</td>\n",
              "      <td>10.0</td>\n",
              "      <td>13.0</td>\n",
              "      <td>8.0</td>\n",
              "    </tr>\n",
              "    <tr>\n",
              "      <th>3</th>\n",
              "      <td>0.0</td>\n",
              "      <td>0.0</td>\n",
              "      <td>3.0</td>\n",
              "      <td>11.0</td>\n",
              "      <td>8.0</td>\n",
              "    </tr>\n",
              "    <tr>\n",
              "      <th>4</th>\n",
              "      <td>0.0</td>\n",
              "      <td>0.0</td>\n",
              "      <td>0.0</td>\n",
              "      <td>8.0</td>\n",
              "      <td>8.0</td>\n",
              "    </tr>\n",
              "    <tr>\n",
              "      <th>...</th>\n",
              "      <td>...</td>\n",
              "      <td>...</td>\n",
              "      <td>...</td>\n",
              "      <td>...</td>\n",
              "      <td>...</td>\n",
              "    </tr>\n",
              "    <tr>\n",
              "      <th>70687</th>\n",
              "      <td>1.0</td>\n",
              "      <td>0.0</td>\n",
              "      <td>0.0</td>\n",
              "      <td>6.0</td>\n",
              "      <td>1.0</td>\n",
              "    </tr>\n",
              "    <tr>\n",
              "      <th>70688</th>\n",
              "      <td>1.0</td>\n",
              "      <td>0.0</td>\n",
              "      <td>0.0</td>\n",
              "      <td>10.0</td>\n",
              "      <td>6.0</td>\n",
              "    </tr>\n",
              "    <tr>\n",
              "      <th>70689</th>\n",
              "      <td>1.0</td>\n",
              "      <td>15.0</td>\n",
              "      <td>0.0</td>\n",
              "      <td>13.0</td>\n",
              "      <td>4.0</td>\n",
              "    </tr>\n",
              "    <tr>\n",
              "      <th>70690</th>\n",
              "      <td>1.0</td>\n",
              "      <td>0.0</td>\n",
              "      <td>0.0</td>\n",
              "      <td>11.0</td>\n",
              "      <td>4.0</td>\n",
              "    </tr>\n",
              "    <tr>\n",
              "      <th>70691</th>\n",
              "      <td>1.0</td>\n",
              "      <td>0.0</td>\n",
              "      <td>0.0</td>\n",
              "      <td>9.0</td>\n",
              "      <td>2.0</td>\n",
              "    </tr>\n",
              "  </tbody>\n",
              "</table>\n",
              "<p>70692 rows × 5 columns</p>\n",
              "</div>\n",
              "      <button class=\"colab-df-convert\" onclick=\"convertToInteractive('df-cf6d698b-784e-4b1a-bae8-df9247ef8abe')\"\n",
              "              title=\"Convert this dataframe to an interactive table.\"\n",
              "              style=\"display:none;\">\n",
              "        \n",
              "  <svg xmlns=\"http://www.w3.org/2000/svg\" height=\"24px\"viewBox=\"0 0 24 24\"\n",
              "       width=\"24px\">\n",
              "    <path d=\"M0 0h24v24H0V0z\" fill=\"none\"/>\n",
              "    <path d=\"M18.56 5.44l.94 2.06.94-2.06 2.06-.94-2.06-.94-.94-2.06-.94 2.06-2.06.94zm-11 1L8.5 8.5l.94-2.06 2.06-.94-2.06-.94L8.5 2.5l-.94 2.06-2.06.94zm10 10l.94 2.06.94-2.06 2.06-.94-2.06-.94-.94-2.06-.94 2.06-2.06.94z\"/><path d=\"M17.41 7.96l-1.37-1.37c-.4-.4-.92-.59-1.43-.59-.52 0-1.04.2-1.43.59L10.3 9.45l-7.72 7.72c-.78.78-.78 2.05 0 2.83L4 21.41c.39.39.9.59 1.41.59.51 0 1.02-.2 1.41-.59l7.78-7.78 2.81-2.81c.8-.78.8-2.07 0-2.86zM5.41 20L4 18.59l7.72-7.72 1.47 1.35L5.41 20z\"/>\n",
              "  </svg>\n",
              "      </button>\n",
              "      \n",
              "  <style>\n",
              "    .colab-df-container {\n",
              "      display:flex;\n",
              "      flex-wrap:wrap;\n",
              "      gap: 12px;\n",
              "    }\n",
              "\n",
              "    .colab-df-convert {\n",
              "      background-color: #E8F0FE;\n",
              "      border: none;\n",
              "      border-radius: 50%;\n",
              "      cursor: pointer;\n",
              "      display: none;\n",
              "      fill: #1967D2;\n",
              "      height: 32px;\n",
              "      padding: 0 0 0 0;\n",
              "      width: 32px;\n",
              "    }\n",
              "\n",
              "    .colab-df-convert:hover {\n",
              "      background-color: #E2EBFA;\n",
              "      box-shadow: 0px 1px 2px rgba(60, 64, 67, 0.3), 0px 1px 3px 1px rgba(60, 64, 67, 0.15);\n",
              "      fill: #174EA6;\n",
              "    }\n",
              "\n",
              "    [theme=dark] .colab-df-convert {\n",
              "      background-color: #3B4455;\n",
              "      fill: #D2E3FC;\n",
              "    }\n",
              "\n",
              "    [theme=dark] .colab-df-convert:hover {\n",
              "      background-color: #434B5C;\n",
              "      box-shadow: 0px 1px 3px 1px rgba(0, 0, 0, 0.15);\n",
              "      filter: drop-shadow(0px 1px 2px rgba(0, 0, 0, 0.3));\n",
              "      fill: #FFFFFF;\n",
              "    }\n",
              "  </style>\n",
              "\n",
              "      <script>\n",
              "        const buttonEl =\n",
              "          document.querySelector('#df-cf6d698b-784e-4b1a-bae8-df9247ef8abe button.colab-df-convert');\n",
              "        buttonEl.style.display =\n",
              "          google.colab.kernel.accessAllowed ? 'block' : 'none';\n",
              "\n",
              "        async function convertToInteractive(key) {\n",
              "          const element = document.querySelector('#df-cf6d698b-784e-4b1a-bae8-df9247ef8abe');\n",
              "          const dataTable =\n",
              "            await google.colab.kernel.invokeFunction('convertToInteractive',\n",
              "                                                     [key], {});\n",
              "          if (!dataTable) return;\n",
              "\n",
              "          const docLinkHtml = 'Like what you see? Visit the ' +\n",
              "            '<a target=\"_blank\" href=https://colab.research.google.com/notebooks/data_table.ipynb>data table notebook</a>'\n",
              "            + ' to learn more about interactive tables.';\n",
              "          element.innerHTML = '';\n",
              "          dataTable['output_type'] = 'display_data';\n",
              "          await google.colab.output.renderOutput(dataTable, element);\n",
              "          const docLink = document.createElement('div');\n",
              "          docLink.innerHTML = docLinkHtml;\n",
              "          element.appendChild(docLink);\n",
              "        }\n",
              "      </script>\n",
              "    </div>\n",
              "  </div>\n",
              "  "
            ]
          },
          "metadata": {},
          "execution_count": 323
        }
      ]
    },
    {
      "cell_type": "markdown",
      "source": [
        "Categorical independent variables are:\n",
        "*   NOMINAL: HighBP, HighChol, CholCheck, Smoker, Stroke, HeartDiseaseorAttack, PhysActivity, Fruits, Veggies, HvyAlcoholConsump, AnyHealthcare, NoDocbcCost, DiffWalk, Sex\n",
        "*   ORDINAL: GenHlth, Education\n"
      ],
      "metadata": {
        "id": "PULSyIUzUx4r"
      }
    },
    {
      "cell_type": "code",
      "source": [
        "data_categorical = data_cut.drop(['MentHlth',\t'PhysHlth',\t'Age',\t'Income'], axis=1)\n",
        "data_categorical"
      ],
      "metadata": {
        "colab": {
          "base_uri": "https://localhost:8080/",
          "height": 423
        },
        "id": "I0_oKFCKSZCu",
        "outputId": "bccad18b-0291-4d22-bfe3-867ae1b7d843"
      },
      "execution_count": 324,
      "outputs": [
        {
          "output_type": "execute_result",
          "data": {
            "text/plain": [
              "       Diabetes_binary  HighBP  HighChol  Smoker  Stroke  \\\n",
              "0                  0.0     1.0       0.0     0.0     0.0   \n",
              "1                  0.0     1.0       1.0     1.0     1.0   \n",
              "2                  0.0     0.0       0.0     0.0     0.0   \n",
              "3                  0.0     1.0       1.0     1.0     0.0   \n",
              "4                  0.0     0.0       0.0     1.0     0.0   \n",
              "...                ...     ...       ...     ...     ...   \n",
              "70687              1.0     0.0       1.0     0.0     0.0   \n",
              "70688              1.0     0.0       1.0     1.0     0.0   \n",
              "70689              1.0     1.0       1.0     0.0     0.0   \n",
              "70690              1.0     1.0       1.0     0.0     0.0   \n",
              "70691              1.0     1.0       1.0     0.0     0.0   \n",
              "\n",
              "       HeartDiseaseorAttack  PhysActivity  Fruits  Veggies  HvyAlcoholConsump  \\\n",
              "0                       0.0           1.0     0.0      1.0                0.0   \n",
              "1                       0.0           0.0     1.0      0.0                0.0   \n",
              "2                       0.0           1.0     1.0      1.0                0.0   \n",
              "3                       0.0           1.0     1.0      1.0                0.0   \n",
              "4                       0.0           1.0     1.0      1.0                0.0   \n",
              "...                     ...           ...     ...      ...                ...   \n",
              "70687                   0.0           0.0     0.0      1.0                0.0   \n",
              "70688                   1.0           0.0     1.0      1.0                0.0   \n",
              "70689                   1.0           0.0     1.0      0.0                0.0   \n",
              "70690                   0.0           0.0     0.0      0.0                0.0   \n",
              "70691                   1.0           1.0     1.0      0.0                0.0   \n",
              "\n",
              "       NoDocbcCost  GenHlth  DiffWalk  Sex  Education  \n",
              "0              0.0      3.0       0.0  1.0        6.0  \n",
              "1              0.0      3.0       0.0  1.0        6.0  \n",
              "2              0.0      1.0       0.0  1.0        6.0  \n",
              "3              0.0      3.0       0.0  1.0        6.0  \n",
              "4              0.0      2.0       0.0  0.0        5.0  \n",
              "...            ...      ...       ...  ...        ...  \n",
              "70687          0.0      4.0       0.0  0.0        4.0  \n",
              "70688          0.0      2.0       1.0  1.0        3.0  \n",
              "70689          0.0      5.0       1.0  0.0        6.0  \n",
              "70690          0.0      4.0       1.0  0.0        2.0  \n",
              "70691          0.0      2.0       0.0  0.0        6.0  \n",
              "\n",
              "[70692 rows x 15 columns]"
            ],
            "text/html": [
              "\n",
              "  <div id=\"df-f1e8b286-c0d2-49ce-844f-899923cab8ce\">\n",
              "    <div class=\"colab-df-container\">\n",
              "      <div>\n",
              "<style scoped>\n",
              "    .dataframe tbody tr th:only-of-type {\n",
              "        vertical-align: middle;\n",
              "    }\n",
              "\n",
              "    .dataframe tbody tr th {\n",
              "        vertical-align: top;\n",
              "    }\n",
              "\n",
              "    .dataframe thead th {\n",
              "        text-align: right;\n",
              "    }\n",
              "</style>\n",
              "<table border=\"1\" class=\"dataframe\">\n",
              "  <thead>\n",
              "    <tr style=\"text-align: right;\">\n",
              "      <th></th>\n",
              "      <th>Diabetes_binary</th>\n",
              "      <th>HighBP</th>\n",
              "      <th>HighChol</th>\n",
              "      <th>Smoker</th>\n",
              "      <th>Stroke</th>\n",
              "      <th>HeartDiseaseorAttack</th>\n",
              "      <th>PhysActivity</th>\n",
              "      <th>Fruits</th>\n",
              "      <th>Veggies</th>\n",
              "      <th>HvyAlcoholConsump</th>\n",
              "      <th>NoDocbcCost</th>\n",
              "      <th>GenHlth</th>\n",
              "      <th>DiffWalk</th>\n",
              "      <th>Sex</th>\n",
              "      <th>Education</th>\n",
              "    </tr>\n",
              "  </thead>\n",
              "  <tbody>\n",
              "    <tr>\n",
              "      <th>0</th>\n",
              "      <td>0.0</td>\n",
              "      <td>1.0</td>\n",
              "      <td>0.0</td>\n",
              "      <td>0.0</td>\n",
              "      <td>0.0</td>\n",
              "      <td>0.0</td>\n",
              "      <td>1.0</td>\n",
              "      <td>0.0</td>\n",
              "      <td>1.0</td>\n",
              "      <td>0.0</td>\n",
              "      <td>0.0</td>\n",
              "      <td>3.0</td>\n",
              "      <td>0.0</td>\n",
              "      <td>1.0</td>\n",
              "      <td>6.0</td>\n",
              "    </tr>\n",
              "    <tr>\n",
              "      <th>1</th>\n",
              "      <td>0.0</td>\n",
              "      <td>1.0</td>\n",
              "      <td>1.0</td>\n",
              "      <td>1.0</td>\n",
              "      <td>1.0</td>\n",
              "      <td>0.0</td>\n",
              "      <td>0.0</td>\n",
              "      <td>1.0</td>\n",
              "      <td>0.0</td>\n",
              "      <td>0.0</td>\n",
              "      <td>0.0</td>\n",
              "      <td>3.0</td>\n",
              "      <td>0.0</td>\n",
              "      <td>1.0</td>\n",
              "      <td>6.0</td>\n",
              "    </tr>\n",
              "    <tr>\n",
              "      <th>2</th>\n",
              "      <td>0.0</td>\n",
              "      <td>0.0</td>\n",
              "      <td>0.0</td>\n",
              "      <td>0.0</td>\n",
              "      <td>0.0</td>\n",
              "      <td>0.0</td>\n",
              "      <td>1.0</td>\n",
              "      <td>1.0</td>\n",
              "      <td>1.0</td>\n",
              "      <td>0.0</td>\n",
              "      <td>0.0</td>\n",
              "      <td>1.0</td>\n",
              "      <td>0.0</td>\n",
              "      <td>1.0</td>\n",
              "      <td>6.0</td>\n",
              "    </tr>\n",
              "    <tr>\n",
              "      <th>3</th>\n",
              "      <td>0.0</td>\n",
              "      <td>1.0</td>\n",
              "      <td>1.0</td>\n",
              "      <td>1.0</td>\n",
              "      <td>0.0</td>\n",
              "      <td>0.0</td>\n",
              "      <td>1.0</td>\n",
              "      <td>1.0</td>\n",
              "      <td>1.0</td>\n",
              "      <td>0.0</td>\n",
              "      <td>0.0</td>\n",
              "      <td>3.0</td>\n",
              "      <td>0.0</td>\n",
              "      <td>1.0</td>\n",
              "      <td>6.0</td>\n",
              "    </tr>\n",
              "    <tr>\n",
              "      <th>4</th>\n",
              "      <td>0.0</td>\n",
              "      <td>0.0</td>\n",
              "      <td>0.0</td>\n",
              "      <td>1.0</td>\n",
              "      <td>0.0</td>\n",
              "      <td>0.0</td>\n",
              "      <td>1.0</td>\n",
              "      <td>1.0</td>\n",
              "      <td>1.0</td>\n",
              "      <td>0.0</td>\n",
              "      <td>0.0</td>\n",
              "      <td>2.0</td>\n",
              "      <td>0.0</td>\n",
              "      <td>0.0</td>\n",
              "      <td>5.0</td>\n",
              "    </tr>\n",
              "    <tr>\n",
              "      <th>...</th>\n",
              "      <td>...</td>\n",
              "      <td>...</td>\n",
              "      <td>...</td>\n",
              "      <td>...</td>\n",
              "      <td>...</td>\n",
              "      <td>...</td>\n",
              "      <td>...</td>\n",
              "      <td>...</td>\n",
              "      <td>...</td>\n",
              "      <td>...</td>\n",
              "      <td>...</td>\n",
              "      <td>...</td>\n",
              "      <td>...</td>\n",
              "      <td>...</td>\n",
              "      <td>...</td>\n",
              "    </tr>\n",
              "    <tr>\n",
              "      <th>70687</th>\n",
              "      <td>1.0</td>\n",
              "      <td>0.0</td>\n",
              "      <td>1.0</td>\n",
              "      <td>0.0</td>\n",
              "      <td>0.0</td>\n",
              "      <td>0.0</td>\n",
              "      <td>0.0</td>\n",
              "      <td>0.0</td>\n",
              "      <td>1.0</td>\n",
              "      <td>0.0</td>\n",
              "      <td>0.0</td>\n",
              "      <td>4.0</td>\n",
              "      <td>0.0</td>\n",
              "      <td>0.0</td>\n",
              "      <td>4.0</td>\n",
              "    </tr>\n",
              "    <tr>\n",
              "      <th>70688</th>\n",
              "      <td>1.0</td>\n",
              "      <td>0.0</td>\n",
              "      <td>1.0</td>\n",
              "      <td>1.0</td>\n",
              "      <td>0.0</td>\n",
              "      <td>1.0</td>\n",
              "      <td>0.0</td>\n",
              "      <td>1.0</td>\n",
              "      <td>1.0</td>\n",
              "      <td>0.0</td>\n",
              "      <td>0.0</td>\n",
              "      <td>2.0</td>\n",
              "      <td>1.0</td>\n",
              "      <td>1.0</td>\n",
              "      <td>3.0</td>\n",
              "    </tr>\n",
              "    <tr>\n",
              "      <th>70689</th>\n",
              "      <td>1.0</td>\n",
              "      <td>1.0</td>\n",
              "      <td>1.0</td>\n",
              "      <td>0.0</td>\n",
              "      <td>0.0</td>\n",
              "      <td>1.0</td>\n",
              "      <td>0.0</td>\n",
              "      <td>1.0</td>\n",
              "      <td>0.0</td>\n",
              "      <td>0.0</td>\n",
              "      <td>0.0</td>\n",
              "      <td>5.0</td>\n",
              "      <td>1.0</td>\n",
              "      <td>0.0</td>\n",
              "      <td>6.0</td>\n",
              "    </tr>\n",
              "    <tr>\n",
              "      <th>70690</th>\n",
              "      <td>1.0</td>\n",
              "      <td>1.0</td>\n",
              "      <td>1.0</td>\n",
              "      <td>0.0</td>\n",
              "      <td>0.0</td>\n",
              "      <td>0.0</td>\n",
              "      <td>0.0</td>\n",
              "      <td>0.0</td>\n",
              "      <td>0.0</td>\n",
              "      <td>0.0</td>\n",
              "      <td>0.0</td>\n",
              "      <td>4.0</td>\n",
              "      <td>1.0</td>\n",
              "      <td>0.0</td>\n",
              "      <td>2.0</td>\n",
              "    </tr>\n",
              "    <tr>\n",
              "      <th>70691</th>\n",
              "      <td>1.0</td>\n",
              "      <td>1.0</td>\n",
              "      <td>1.0</td>\n",
              "      <td>0.0</td>\n",
              "      <td>0.0</td>\n",
              "      <td>1.0</td>\n",
              "      <td>1.0</td>\n",
              "      <td>1.0</td>\n",
              "      <td>0.0</td>\n",
              "      <td>0.0</td>\n",
              "      <td>0.0</td>\n",
              "      <td>2.0</td>\n",
              "      <td>0.0</td>\n",
              "      <td>0.0</td>\n",
              "      <td>6.0</td>\n",
              "    </tr>\n",
              "  </tbody>\n",
              "</table>\n",
              "<p>70692 rows × 15 columns</p>\n",
              "</div>\n",
              "      <button class=\"colab-df-convert\" onclick=\"convertToInteractive('df-f1e8b286-c0d2-49ce-844f-899923cab8ce')\"\n",
              "              title=\"Convert this dataframe to an interactive table.\"\n",
              "              style=\"display:none;\">\n",
              "        \n",
              "  <svg xmlns=\"http://www.w3.org/2000/svg\" height=\"24px\"viewBox=\"0 0 24 24\"\n",
              "       width=\"24px\">\n",
              "    <path d=\"M0 0h24v24H0V0z\" fill=\"none\"/>\n",
              "    <path d=\"M18.56 5.44l.94 2.06.94-2.06 2.06-.94-2.06-.94-.94-2.06-.94 2.06-2.06.94zm-11 1L8.5 8.5l.94-2.06 2.06-.94-2.06-.94L8.5 2.5l-.94 2.06-2.06.94zm10 10l.94 2.06.94-2.06 2.06-.94-2.06-.94-.94-2.06-.94 2.06-2.06.94z\"/><path d=\"M17.41 7.96l-1.37-1.37c-.4-.4-.92-.59-1.43-.59-.52 0-1.04.2-1.43.59L10.3 9.45l-7.72 7.72c-.78.78-.78 2.05 0 2.83L4 21.41c.39.39.9.59 1.41.59.51 0 1.02-.2 1.41-.59l7.78-7.78 2.81-2.81c.8-.78.8-2.07 0-2.86zM5.41 20L4 18.59l7.72-7.72 1.47 1.35L5.41 20z\"/>\n",
              "  </svg>\n",
              "      </button>\n",
              "      \n",
              "  <style>\n",
              "    .colab-df-container {\n",
              "      display:flex;\n",
              "      flex-wrap:wrap;\n",
              "      gap: 12px;\n",
              "    }\n",
              "\n",
              "    .colab-df-convert {\n",
              "      background-color: #E8F0FE;\n",
              "      border: none;\n",
              "      border-radius: 50%;\n",
              "      cursor: pointer;\n",
              "      display: none;\n",
              "      fill: #1967D2;\n",
              "      height: 32px;\n",
              "      padding: 0 0 0 0;\n",
              "      width: 32px;\n",
              "    }\n",
              "\n",
              "    .colab-df-convert:hover {\n",
              "      background-color: #E2EBFA;\n",
              "      box-shadow: 0px 1px 2px rgba(60, 64, 67, 0.3), 0px 1px 3px 1px rgba(60, 64, 67, 0.15);\n",
              "      fill: #174EA6;\n",
              "    }\n",
              "\n",
              "    [theme=dark] .colab-df-convert {\n",
              "      background-color: #3B4455;\n",
              "      fill: #D2E3FC;\n",
              "    }\n",
              "\n",
              "    [theme=dark] .colab-df-convert:hover {\n",
              "      background-color: #434B5C;\n",
              "      box-shadow: 0px 1px 3px 1px rgba(0, 0, 0, 0.15);\n",
              "      filter: drop-shadow(0px 1px 2px rgba(0, 0, 0, 0.3));\n",
              "      fill: #FFFFFF;\n",
              "    }\n",
              "  </style>\n",
              "\n",
              "      <script>\n",
              "        const buttonEl =\n",
              "          document.querySelector('#df-f1e8b286-c0d2-49ce-844f-899923cab8ce button.colab-df-convert');\n",
              "        buttonEl.style.display =\n",
              "          google.colab.kernel.accessAllowed ? 'block' : 'none';\n",
              "\n",
              "        async function convertToInteractive(key) {\n",
              "          const element = document.querySelector('#df-f1e8b286-c0d2-49ce-844f-899923cab8ce');\n",
              "          const dataTable =\n",
              "            await google.colab.kernel.invokeFunction('convertToInteractive',\n",
              "                                                     [key], {});\n",
              "          if (!dataTable) return;\n",
              "\n",
              "          const docLinkHtml = 'Like what you see? Visit the ' +\n",
              "            '<a target=\"_blank\" href=https://colab.research.google.com/notebooks/data_table.ipynb>data table notebook</a>'\n",
              "            + ' to learn more about interactive tables.';\n",
              "          element.innerHTML = '';\n",
              "          dataTable['output_type'] = 'display_data';\n",
              "          await google.colab.output.renderOutput(dataTable, element);\n",
              "          const docLink = document.createElement('div');\n",
              "          docLink.innerHTML = docLinkHtml;\n",
              "          element.appendChild(docLink);\n",
              "        }\n",
              "      </script>\n",
              "    </div>\n",
              "  </div>\n",
              "  "
            ]
          },
          "metadata": {},
          "execution_count": 324
        }
      ]
    },
    {
      "cell_type": "markdown",
      "source": [
        "### Data Categories"
      ],
      "metadata": {
        "id": "AJIcOqmqXPGx"
      }
    },
    {
      "cell_type": "markdown",
      "source": [
        "#### Now let's categorise our variables into different groups"
      ],
      "metadata": {
        "id": "mKANMo9DXW2S"
      }
    },
    {
      "cell_type": "markdown",
      "source": [
        "HEALTH: GenHlth, MentHlth, PhysHlth, DiffWalk\n"
      ],
      "metadata": {
        "id": "IGCabOcDXl9S"
      }
    },
    {
      "cell_type": "code",
      "source": [
        "data_health = data_cut[['GenHlth',\t'MentHlth',\t'PhysHlth',\t'DiffWalk']]\n",
        "data_health"
      ],
      "metadata": {
        "colab": {
          "base_uri": "https://localhost:8080/",
          "height": 423
        },
        "id": "ypdLgHp6h31k",
        "outputId": "a4618fa4-e15a-4034-dfd1-e58067bcd711"
      },
      "execution_count": 325,
      "outputs": [
        {
          "output_type": "execute_result",
          "data": {
            "text/plain": [
              "       GenHlth  MentHlth  PhysHlth  DiffWalk\n",
              "0          3.0       5.0      30.0       0.0\n",
              "1          3.0       0.0       0.0       0.0\n",
              "2          1.0       0.0      10.0       0.0\n",
              "3          3.0       0.0       3.0       0.0\n",
              "4          2.0       0.0       0.0       0.0\n",
              "...        ...       ...       ...       ...\n",
              "70687      4.0       0.0       0.0       0.0\n",
              "70688      2.0       0.0       0.0       1.0\n",
              "70689      5.0      15.0       0.0       1.0\n",
              "70690      4.0       0.0       0.0       1.0\n",
              "70691      2.0       0.0       0.0       0.0\n",
              "\n",
              "[70692 rows x 4 columns]"
            ],
            "text/html": [
              "\n",
              "  <div id=\"df-e6e9b082-eeb9-44e4-a044-b45e05e4ca4a\">\n",
              "    <div class=\"colab-df-container\">\n",
              "      <div>\n",
              "<style scoped>\n",
              "    .dataframe tbody tr th:only-of-type {\n",
              "        vertical-align: middle;\n",
              "    }\n",
              "\n",
              "    .dataframe tbody tr th {\n",
              "        vertical-align: top;\n",
              "    }\n",
              "\n",
              "    .dataframe thead th {\n",
              "        text-align: right;\n",
              "    }\n",
              "</style>\n",
              "<table border=\"1\" class=\"dataframe\">\n",
              "  <thead>\n",
              "    <tr style=\"text-align: right;\">\n",
              "      <th></th>\n",
              "      <th>GenHlth</th>\n",
              "      <th>MentHlth</th>\n",
              "      <th>PhysHlth</th>\n",
              "      <th>DiffWalk</th>\n",
              "    </tr>\n",
              "  </thead>\n",
              "  <tbody>\n",
              "    <tr>\n",
              "      <th>0</th>\n",
              "      <td>3.0</td>\n",
              "      <td>5.0</td>\n",
              "      <td>30.0</td>\n",
              "      <td>0.0</td>\n",
              "    </tr>\n",
              "    <tr>\n",
              "      <th>1</th>\n",
              "      <td>3.0</td>\n",
              "      <td>0.0</td>\n",
              "      <td>0.0</td>\n",
              "      <td>0.0</td>\n",
              "    </tr>\n",
              "    <tr>\n",
              "      <th>2</th>\n",
              "      <td>1.0</td>\n",
              "      <td>0.0</td>\n",
              "      <td>10.0</td>\n",
              "      <td>0.0</td>\n",
              "    </tr>\n",
              "    <tr>\n",
              "      <th>3</th>\n",
              "      <td>3.0</td>\n",
              "      <td>0.0</td>\n",
              "      <td>3.0</td>\n",
              "      <td>0.0</td>\n",
              "    </tr>\n",
              "    <tr>\n",
              "      <th>4</th>\n",
              "      <td>2.0</td>\n",
              "      <td>0.0</td>\n",
              "      <td>0.0</td>\n",
              "      <td>0.0</td>\n",
              "    </tr>\n",
              "    <tr>\n",
              "      <th>...</th>\n",
              "      <td>...</td>\n",
              "      <td>...</td>\n",
              "      <td>...</td>\n",
              "      <td>...</td>\n",
              "    </tr>\n",
              "    <tr>\n",
              "      <th>70687</th>\n",
              "      <td>4.0</td>\n",
              "      <td>0.0</td>\n",
              "      <td>0.0</td>\n",
              "      <td>0.0</td>\n",
              "    </tr>\n",
              "    <tr>\n",
              "      <th>70688</th>\n",
              "      <td>2.0</td>\n",
              "      <td>0.0</td>\n",
              "      <td>0.0</td>\n",
              "      <td>1.0</td>\n",
              "    </tr>\n",
              "    <tr>\n",
              "      <th>70689</th>\n",
              "      <td>5.0</td>\n",
              "      <td>15.0</td>\n",
              "      <td>0.0</td>\n",
              "      <td>1.0</td>\n",
              "    </tr>\n",
              "    <tr>\n",
              "      <th>70690</th>\n",
              "      <td>4.0</td>\n",
              "      <td>0.0</td>\n",
              "      <td>0.0</td>\n",
              "      <td>1.0</td>\n",
              "    </tr>\n",
              "    <tr>\n",
              "      <th>70691</th>\n",
              "      <td>2.0</td>\n",
              "      <td>0.0</td>\n",
              "      <td>0.0</td>\n",
              "      <td>0.0</td>\n",
              "    </tr>\n",
              "  </tbody>\n",
              "</table>\n",
              "<p>70692 rows × 4 columns</p>\n",
              "</div>\n",
              "      <button class=\"colab-df-convert\" onclick=\"convertToInteractive('df-e6e9b082-eeb9-44e4-a044-b45e05e4ca4a')\"\n",
              "              title=\"Convert this dataframe to an interactive table.\"\n",
              "              style=\"display:none;\">\n",
              "        \n",
              "  <svg xmlns=\"http://www.w3.org/2000/svg\" height=\"24px\"viewBox=\"0 0 24 24\"\n",
              "       width=\"24px\">\n",
              "    <path d=\"M0 0h24v24H0V0z\" fill=\"none\"/>\n",
              "    <path d=\"M18.56 5.44l.94 2.06.94-2.06 2.06-.94-2.06-.94-.94-2.06-.94 2.06-2.06.94zm-11 1L8.5 8.5l.94-2.06 2.06-.94-2.06-.94L8.5 2.5l-.94 2.06-2.06.94zm10 10l.94 2.06.94-2.06 2.06-.94-2.06-.94-.94-2.06-.94 2.06-2.06.94z\"/><path d=\"M17.41 7.96l-1.37-1.37c-.4-.4-.92-.59-1.43-.59-.52 0-1.04.2-1.43.59L10.3 9.45l-7.72 7.72c-.78.78-.78 2.05 0 2.83L4 21.41c.39.39.9.59 1.41.59.51 0 1.02-.2 1.41-.59l7.78-7.78 2.81-2.81c.8-.78.8-2.07 0-2.86zM5.41 20L4 18.59l7.72-7.72 1.47 1.35L5.41 20z\"/>\n",
              "  </svg>\n",
              "      </button>\n",
              "      \n",
              "  <style>\n",
              "    .colab-df-container {\n",
              "      display:flex;\n",
              "      flex-wrap:wrap;\n",
              "      gap: 12px;\n",
              "    }\n",
              "\n",
              "    .colab-df-convert {\n",
              "      background-color: #E8F0FE;\n",
              "      border: none;\n",
              "      border-radius: 50%;\n",
              "      cursor: pointer;\n",
              "      display: none;\n",
              "      fill: #1967D2;\n",
              "      height: 32px;\n",
              "      padding: 0 0 0 0;\n",
              "      width: 32px;\n",
              "    }\n",
              "\n",
              "    .colab-df-convert:hover {\n",
              "      background-color: #E2EBFA;\n",
              "      box-shadow: 0px 1px 2px rgba(60, 64, 67, 0.3), 0px 1px 3px 1px rgba(60, 64, 67, 0.15);\n",
              "      fill: #174EA6;\n",
              "    }\n",
              "\n",
              "    [theme=dark] .colab-df-convert {\n",
              "      background-color: #3B4455;\n",
              "      fill: #D2E3FC;\n",
              "    }\n",
              "\n",
              "    [theme=dark] .colab-df-convert:hover {\n",
              "      background-color: #434B5C;\n",
              "      box-shadow: 0px 1px 3px 1px rgba(0, 0, 0, 0.15);\n",
              "      filter: drop-shadow(0px 1px 2px rgba(0, 0, 0, 0.3));\n",
              "      fill: #FFFFFF;\n",
              "    }\n",
              "  </style>\n",
              "\n",
              "      <script>\n",
              "        const buttonEl =\n",
              "          document.querySelector('#df-e6e9b082-eeb9-44e4-a044-b45e05e4ca4a button.colab-df-convert');\n",
              "        buttonEl.style.display =\n",
              "          google.colab.kernel.accessAllowed ? 'block' : 'none';\n",
              "\n",
              "        async function convertToInteractive(key) {\n",
              "          const element = document.querySelector('#df-e6e9b082-eeb9-44e4-a044-b45e05e4ca4a');\n",
              "          const dataTable =\n",
              "            await google.colab.kernel.invokeFunction('convertToInteractive',\n",
              "                                                     [key], {});\n",
              "          if (!dataTable) return;\n",
              "\n",
              "          const docLinkHtml = 'Like what you see? Visit the ' +\n",
              "            '<a target=\"_blank\" href=https://colab.research.google.com/notebooks/data_table.ipynb>data table notebook</a>'\n",
              "            + ' to learn more about interactive tables.';\n",
              "          element.innerHTML = '';\n",
              "          dataTable['output_type'] = 'display_data';\n",
              "          await google.colab.output.renderOutput(dataTable, element);\n",
              "          const docLink = document.createElement('div');\n",
              "          docLink.innerHTML = docLinkHtml;\n",
              "          element.appendChild(docLink);\n",
              "        }\n",
              "      </script>\n",
              "    </div>\n",
              "  </div>\n",
              "  "
            ]
          },
          "metadata": {},
          "execution_count": 325
        }
      ]
    },
    {
      "cell_type": "markdown",
      "source": [
        "LIFESTYLE: Smoker, PhysActivity, Fruits, Veggies, HvyAlcoholConsump\n"
      ],
      "metadata": {
        "id": "0_QeWTGKYIy2"
      }
    },
    {
      "cell_type": "code",
      "source": [
        "data_lifestyle = data_cut[['Smoker',\t'PhysActivity',\t'Fruits',\t'Veggies', 'HvyAlcoholConsump']]\n",
        "data_lifestyle"
      ],
      "metadata": {
        "colab": {
          "base_uri": "https://localhost:8080/",
          "height": 423
        },
        "id": "usZWCGFainPJ",
        "outputId": "8d31b4a6-ea3a-448f-b4ea-68ed245aeb42"
      },
      "execution_count": 326,
      "outputs": [
        {
          "output_type": "execute_result",
          "data": {
            "text/plain": [
              "       Smoker  PhysActivity  Fruits  Veggies  HvyAlcoholConsump\n",
              "0         0.0           1.0     0.0      1.0                0.0\n",
              "1         1.0           0.0     1.0      0.0                0.0\n",
              "2         0.0           1.0     1.0      1.0                0.0\n",
              "3         1.0           1.0     1.0      1.0                0.0\n",
              "4         1.0           1.0     1.0      1.0                0.0\n",
              "...       ...           ...     ...      ...                ...\n",
              "70687     0.0           0.0     0.0      1.0                0.0\n",
              "70688     1.0           0.0     1.0      1.0                0.0\n",
              "70689     0.0           0.0     1.0      0.0                0.0\n",
              "70690     0.0           0.0     0.0      0.0                0.0\n",
              "70691     0.0           1.0     1.0      0.0                0.0\n",
              "\n",
              "[70692 rows x 5 columns]"
            ],
            "text/html": [
              "\n",
              "  <div id=\"df-33390b18-7b3a-4f16-9a80-22dfaaeb0a34\">\n",
              "    <div class=\"colab-df-container\">\n",
              "      <div>\n",
              "<style scoped>\n",
              "    .dataframe tbody tr th:only-of-type {\n",
              "        vertical-align: middle;\n",
              "    }\n",
              "\n",
              "    .dataframe tbody tr th {\n",
              "        vertical-align: top;\n",
              "    }\n",
              "\n",
              "    .dataframe thead th {\n",
              "        text-align: right;\n",
              "    }\n",
              "</style>\n",
              "<table border=\"1\" class=\"dataframe\">\n",
              "  <thead>\n",
              "    <tr style=\"text-align: right;\">\n",
              "      <th></th>\n",
              "      <th>Smoker</th>\n",
              "      <th>PhysActivity</th>\n",
              "      <th>Fruits</th>\n",
              "      <th>Veggies</th>\n",
              "      <th>HvyAlcoholConsump</th>\n",
              "    </tr>\n",
              "  </thead>\n",
              "  <tbody>\n",
              "    <tr>\n",
              "      <th>0</th>\n",
              "      <td>0.0</td>\n",
              "      <td>1.0</td>\n",
              "      <td>0.0</td>\n",
              "      <td>1.0</td>\n",
              "      <td>0.0</td>\n",
              "    </tr>\n",
              "    <tr>\n",
              "      <th>1</th>\n",
              "      <td>1.0</td>\n",
              "      <td>0.0</td>\n",
              "      <td>1.0</td>\n",
              "      <td>0.0</td>\n",
              "      <td>0.0</td>\n",
              "    </tr>\n",
              "    <tr>\n",
              "      <th>2</th>\n",
              "      <td>0.0</td>\n",
              "      <td>1.0</td>\n",
              "      <td>1.0</td>\n",
              "      <td>1.0</td>\n",
              "      <td>0.0</td>\n",
              "    </tr>\n",
              "    <tr>\n",
              "      <th>3</th>\n",
              "      <td>1.0</td>\n",
              "      <td>1.0</td>\n",
              "      <td>1.0</td>\n",
              "      <td>1.0</td>\n",
              "      <td>0.0</td>\n",
              "    </tr>\n",
              "    <tr>\n",
              "      <th>4</th>\n",
              "      <td>1.0</td>\n",
              "      <td>1.0</td>\n",
              "      <td>1.0</td>\n",
              "      <td>1.0</td>\n",
              "      <td>0.0</td>\n",
              "    </tr>\n",
              "    <tr>\n",
              "      <th>...</th>\n",
              "      <td>...</td>\n",
              "      <td>...</td>\n",
              "      <td>...</td>\n",
              "      <td>...</td>\n",
              "      <td>...</td>\n",
              "    </tr>\n",
              "    <tr>\n",
              "      <th>70687</th>\n",
              "      <td>0.0</td>\n",
              "      <td>0.0</td>\n",
              "      <td>0.0</td>\n",
              "      <td>1.0</td>\n",
              "      <td>0.0</td>\n",
              "    </tr>\n",
              "    <tr>\n",
              "      <th>70688</th>\n",
              "      <td>1.0</td>\n",
              "      <td>0.0</td>\n",
              "      <td>1.0</td>\n",
              "      <td>1.0</td>\n",
              "      <td>0.0</td>\n",
              "    </tr>\n",
              "    <tr>\n",
              "      <th>70689</th>\n",
              "      <td>0.0</td>\n",
              "      <td>0.0</td>\n",
              "      <td>1.0</td>\n",
              "      <td>0.0</td>\n",
              "      <td>0.0</td>\n",
              "    </tr>\n",
              "    <tr>\n",
              "      <th>70690</th>\n",
              "      <td>0.0</td>\n",
              "      <td>0.0</td>\n",
              "      <td>0.0</td>\n",
              "      <td>0.0</td>\n",
              "      <td>0.0</td>\n",
              "    </tr>\n",
              "    <tr>\n",
              "      <th>70691</th>\n",
              "      <td>0.0</td>\n",
              "      <td>1.0</td>\n",
              "      <td>1.0</td>\n",
              "      <td>0.0</td>\n",
              "      <td>0.0</td>\n",
              "    </tr>\n",
              "  </tbody>\n",
              "</table>\n",
              "<p>70692 rows × 5 columns</p>\n",
              "</div>\n",
              "      <button class=\"colab-df-convert\" onclick=\"convertToInteractive('df-33390b18-7b3a-4f16-9a80-22dfaaeb0a34')\"\n",
              "              title=\"Convert this dataframe to an interactive table.\"\n",
              "              style=\"display:none;\">\n",
              "        \n",
              "  <svg xmlns=\"http://www.w3.org/2000/svg\" height=\"24px\"viewBox=\"0 0 24 24\"\n",
              "       width=\"24px\">\n",
              "    <path d=\"M0 0h24v24H0V0z\" fill=\"none\"/>\n",
              "    <path d=\"M18.56 5.44l.94 2.06.94-2.06 2.06-.94-2.06-.94-.94-2.06-.94 2.06-2.06.94zm-11 1L8.5 8.5l.94-2.06 2.06-.94-2.06-.94L8.5 2.5l-.94 2.06-2.06.94zm10 10l.94 2.06.94-2.06 2.06-.94-2.06-.94-.94-2.06-.94 2.06-2.06.94z\"/><path d=\"M17.41 7.96l-1.37-1.37c-.4-.4-.92-.59-1.43-.59-.52 0-1.04.2-1.43.59L10.3 9.45l-7.72 7.72c-.78.78-.78 2.05 0 2.83L4 21.41c.39.39.9.59 1.41.59.51 0 1.02-.2 1.41-.59l7.78-7.78 2.81-2.81c.8-.78.8-2.07 0-2.86zM5.41 20L4 18.59l7.72-7.72 1.47 1.35L5.41 20z\"/>\n",
              "  </svg>\n",
              "      </button>\n",
              "      \n",
              "  <style>\n",
              "    .colab-df-container {\n",
              "      display:flex;\n",
              "      flex-wrap:wrap;\n",
              "      gap: 12px;\n",
              "    }\n",
              "\n",
              "    .colab-df-convert {\n",
              "      background-color: #E8F0FE;\n",
              "      border: none;\n",
              "      border-radius: 50%;\n",
              "      cursor: pointer;\n",
              "      display: none;\n",
              "      fill: #1967D2;\n",
              "      height: 32px;\n",
              "      padding: 0 0 0 0;\n",
              "      width: 32px;\n",
              "    }\n",
              "\n",
              "    .colab-df-convert:hover {\n",
              "      background-color: #E2EBFA;\n",
              "      box-shadow: 0px 1px 2px rgba(60, 64, 67, 0.3), 0px 1px 3px 1px rgba(60, 64, 67, 0.15);\n",
              "      fill: #174EA6;\n",
              "    }\n",
              "\n",
              "    [theme=dark] .colab-df-convert {\n",
              "      background-color: #3B4455;\n",
              "      fill: #D2E3FC;\n",
              "    }\n",
              "\n",
              "    [theme=dark] .colab-df-convert:hover {\n",
              "      background-color: #434B5C;\n",
              "      box-shadow: 0px 1px 3px 1px rgba(0, 0, 0, 0.15);\n",
              "      filter: drop-shadow(0px 1px 2px rgba(0, 0, 0, 0.3));\n",
              "      fill: #FFFFFF;\n",
              "    }\n",
              "  </style>\n",
              "\n",
              "      <script>\n",
              "        const buttonEl =\n",
              "          document.querySelector('#df-33390b18-7b3a-4f16-9a80-22dfaaeb0a34 button.colab-df-convert');\n",
              "        buttonEl.style.display =\n",
              "          google.colab.kernel.accessAllowed ? 'block' : 'none';\n",
              "\n",
              "        async function convertToInteractive(key) {\n",
              "          const element = document.querySelector('#df-33390b18-7b3a-4f16-9a80-22dfaaeb0a34');\n",
              "          const dataTable =\n",
              "            await google.colab.kernel.invokeFunction('convertToInteractive',\n",
              "                                                     [key], {});\n",
              "          if (!dataTable) return;\n",
              "\n",
              "          const docLinkHtml = 'Like what you see? Visit the ' +\n",
              "            '<a target=\"_blank\" href=https://colab.research.google.com/notebooks/data_table.ipynb>data table notebook</a>'\n",
              "            + ' to learn more about interactive tables.';\n",
              "          element.innerHTML = '';\n",
              "          dataTable['output_type'] = 'display_data';\n",
              "          await google.colab.output.renderOutput(dataTable, element);\n",
              "          const docLink = document.createElement('div');\n",
              "          docLink.innerHTML = docLinkHtml;\n",
              "          element.appendChild(docLink);\n",
              "        }\n",
              "      </script>\n",
              "    </div>\n",
              "  </div>\n",
              "  "
            ]
          },
          "metadata": {},
          "execution_count": 326
        }
      ]
    },
    {
      "cell_type": "markdown",
      "source": [
        "MEDICAL: GenHlth, MentHlth, PhysHlth, DiffWalk"
      ],
      "metadata": {
        "id": "AYembDzIYJHu"
      }
    },
    {
      "cell_type": "code",
      "source": [
        "data_medical = data_cut[['GenHlth',\t'MentHlth', 'PhysHlth', 'DiffWalk']]\n",
        "data_medical"
      ],
      "metadata": {
        "colab": {
          "base_uri": "https://localhost:8080/",
          "height": 423
        },
        "id": "RTWt6grGjMvt",
        "outputId": "619ea33d-52bc-4ba3-8d72-3cd090c644b7"
      },
      "execution_count": 327,
      "outputs": [
        {
          "output_type": "execute_result",
          "data": {
            "text/plain": [
              "       GenHlth  MentHlth  PhysHlth  DiffWalk\n",
              "0          3.0       5.0      30.0       0.0\n",
              "1          3.0       0.0       0.0       0.0\n",
              "2          1.0       0.0      10.0       0.0\n",
              "3          3.0       0.0       3.0       0.0\n",
              "4          2.0       0.0       0.0       0.0\n",
              "...        ...       ...       ...       ...\n",
              "70687      4.0       0.0       0.0       0.0\n",
              "70688      2.0       0.0       0.0       1.0\n",
              "70689      5.0      15.0       0.0       1.0\n",
              "70690      4.0       0.0       0.0       1.0\n",
              "70691      2.0       0.0       0.0       0.0\n",
              "\n",
              "[70692 rows x 4 columns]"
            ],
            "text/html": [
              "\n",
              "  <div id=\"df-2121829d-0256-4b8a-8cb7-1a836f01c660\">\n",
              "    <div class=\"colab-df-container\">\n",
              "      <div>\n",
              "<style scoped>\n",
              "    .dataframe tbody tr th:only-of-type {\n",
              "        vertical-align: middle;\n",
              "    }\n",
              "\n",
              "    .dataframe tbody tr th {\n",
              "        vertical-align: top;\n",
              "    }\n",
              "\n",
              "    .dataframe thead th {\n",
              "        text-align: right;\n",
              "    }\n",
              "</style>\n",
              "<table border=\"1\" class=\"dataframe\">\n",
              "  <thead>\n",
              "    <tr style=\"text-align: right;\">\n",
              "      <th></th>\n",
              "      <th>GenHlth</th>\n",
              "      <th>MentHlth</th>\n",
              "      <th>PhysHlth</th>\n",
              "      <th>DiffWalk</th>\n",
              "    </tr>\n",
              "  </thead>\n",
              "  <tbody>\n",
              "    <tr>\n",
              "      <th>0</th>\n",
              "      <td>3.0</td>\n",
              "      <td>5.0</td>\n",
              "      <td>30.0</td>\n",
              "      <td>0.0</td>\n",
              "    </tr>\n",
              "    <tr>\n",
              "      <th>1</th>\n",
              "      <td>3.0</td>\n",
              "      <td>0.0</td>\n",
              "      <td>0.0</td>\n",
              "      <td>0.0</td>\n",
              "    </tr>\n",
              "    <tr>\n",
              "      <th>2</th>\n",
              "      <td>1.0</td>\n",
              "      <td>0.0</td>\n",
              "      <td>10.0</td>\n",
              "      <td>0.0</td>\n",
              "    </tr>\n",
              "    <tr>\n",
              "      <th>3</th>\n",
              "      <td>3.0</td>\n",
              "      <td>0.0</td>\n",
              "      <td>3.0</td>\n",
              "      <td>0.0</td>\n",
              "    </tr>\n",
              "    <tr>\n",
              "      <th>4</th>\n",
              "      <td>2.0</td>\n",
              "      <td>0.0</td>\n",
              "      <td>0.0</td>\n",
              "      <td>0.0</td>\n",
              "    </tr>\n",
              "    <tr>\n",
              "      <th>...</th>\n",
              "      <td>...</td>\n",
              "      <td>...</td>\n",
              "      <td>...</td>\n",
              "      <td>...</td>\n",
              "    </tr>\n",
              "    <tr>\n",
              "      <th>70687</th>\n",
              "      <td>4.0</td>\n",
              "      <td>0.0</td>\n",
              "      <td>0.0</td>\n",
              "      <td>0.0</td>\n",
              "    </tr>\n",
              "    <tr>\n",
              "      <th>70688</th>\n",
              "      <td>2.0</td>\n",
              "      <td>0.0</td>\n",
              "      <td>0.0</td>\n",
              "      <td>1.0</td>\n",
              "    </tr>\n",
              "    <tr>\n",
              "      <th>70689</th>\n",
              "      <td>5.0</td>\n",
              "      <td>15.0</td>\n",
              "      <td>0.0</td>\n",
              "      <td>1.0</td>\n",
              "    </tr>\n",
              "    <tr>\n",
              "      <th>70690</th>\n",
              "      <td>4.0</td>\n",
              "      <td>0.0</td>\n",
              "      <td>0.0</td>\n",
              "      <td>1.0</td>\n",
              "    </tr>\n",
              "    <tr>\n",
              "      <th>70691</th>\n",
              "      <td>2.0</td>\n",
              "      <td>0.0</td>\n",
              "      <td>0.0</td>\n",
              "      <td>0.0</td>\n",
              "    </tr>\n",
              "  </tbody>\n",
              "</table>\n",
              "<p>70692 rows × 4 columns</p>\n",
              "</div>\n",
              "      <button class=\"colab-df-convert\" onclick=\"convertToInteractive('df-2121829d-0256-4b8a-8cb7-1a836f01c660')\"\n",
              "              title=\"Convert this dataframe to an interactive table.\"\n",
              "              style=\"display:none;\">\n",
              "        \n",
              "  <svg xmlns=\"http://www.w3.org/2000/svg\" height=\"24px\"viewBox=\"0 0 24 24\"\n",
              "       width=\"24px\">\n",
              "    <path d=\"M0 0h24v24H0V0z\" fill=\"none\"/>\n",
              "    <path d=\"M18.56 5.44l.94 2.06.94-2.06 2.06-.94-2.06-.94-.94-2.06-.94 2.06-2.06.94zm-11 1L8.5 8.5l.94-2.06 2.06-.94-2.06-.94L8.5 2.5l-.94 2.06-2.06.94zm10 10l.94 2.06.94-2.06 2.06-.94-2.06-.94-.94-2.06-.94 2.06-2.06.94z\"/><path d=\"M17.41 7.96l-1.37-1.37c-.4-.4-.92-.59-1.43-.59-.52 0-1.04.2-1.43.59L10.3 9.45l-7.72 7.72c-.78.78-.78 2.05 0 2.83L4 21.41c.39.39.9.59 1.41.59.51 0 1.02-.2 1.41-.59l7.78-7.78 2.81-2.81c.8-.78.8-2.07 0-2.86zM5.41 20L4 18.59l7.72-7.72 1.47 1.35L5.41 20z\"/>\n",
              "  </svg>\n",
              "      </button>\n",
              "      \n",
              "  <style>\n",
              "    .colab-df-container {\n",
              "      display:flex;\n",
              "      flex-wrap:wrap;\n",
              "      gap: 12px;\n",
              "    }\n",
              "\n",
              "    .colab-df-convert {\n",
              "      background-color: #E8F0FE;\n",
              "      border: none;\n",
              "      border-radius: 50%;\n",
              "      cursor: pointer;\n",
              "      display: none;\n",
              "      fill: #1967D2;\n",
              "      height: 32px;\n",
              "      padding: 0 0 0 0;\n",
              "      width: 32px;\n",
              "    }\n",
              "\n",
              "    .colab-df-convert:hover {\n",
              "      background-color: #E2EBFA;\n",
              "      box-shadow: 0px 1px 2px rgba(60, 64, 67, 0.3), 0px 1px 3px 1px rgba(60, 64, 67, 0.15);\n",
              "      fill: #174EA6;\n",
              "    }\n",
              "\n",
              "    [theme=dark] .colab-df-convert {\n",
              "      background-color: #3B4455;\n",
              "      fill: #D2E3FC;\n",
              "    }\n",
              "\n",
              "    [theme=dark] .colab-df-convert:hover {\n",
              "      background-color: #434B5C;\n",
              "      box-shadow: 0px 1px 3px 1px rgba(0, 0, 0, 0.15);\n",
              "      filter: drop-shadow(0px 1px 2px rgba(0, 0, 0, 0.3));\n",
              "      fill: #FFFFFF;\n",
              "    }\n",
              "  </style>\n",
              "\n",
              "      <script>\n",
              "        const buttonEl =\n",
              "          document.querySelector('#df-2121829d-0256-4b8a-8cb7-1a836f01c660 button.colab-df-convert');\n",
              "        buttonEl.style.display =\n",
              "          google.colab.kernel.accessAllowed ? 'block' : 'none';\n",
              "\n",
              "        async function convertToInteractive(key) {\n",
              "          const element = document.querySelector('#df-2121829d-0256-4b8a-8cb7-1a836f01c660');\n",
              "          const dataTable =\n",
              "            await google.colab.kernel.invokeFunction('convertToInteractive',\n",
              "                                                     [key], {});\n",
              "          if (!dataTable) return;\n",
              "\n",
              "          const docLinkHtml = 'Like what you see? Visit the ' +\n",
              "            '<a target=\"_blank\" href=https://colab.research.google.com/notebooks/data_table.ipynb>data table notebook</a>'\n",
              "            + ' to learn more about interactive tables.';\n",
              "          element.innerHTML = '';\n",
              "          dataTable['output_type'] = 'display_data';\n",
              "          await google.colab.output.renderOutput(dataTable, element);\n",
              "          const docLink = document.createElement('div');\n",
              "          docLink.innerHTML = docLinkHtml;\n",
              "          element.appendChild(docLink);\n",
              "        }\n",
              "      </script>\n",
              "    </div>\n",
              "  </div>\n",
              "  "
            ]
          },
          "metadata": {},
          "execution_count": 327
        }
      ]
    },
    {
      "cell_type": "markdown",
      "source": [
        "SOCIOECONOMIC: Education, Income"
      ],
      "metadata": {
        "id": "OKhhli0WYI91"
      }
    },
    {
      "cell_type": "code",
      "source": [
        "data_socioeconomic = data_cut[['Education',\t'Income']]\n",
        "data_socioeconomic"
      ],
      "metadata": {
        "colab": {
          "base_uri": "https://localhost:8080/",
          "height": 423
        },
        "id": "CISpmQ5Hjs4k",
        "outputId": "2da493b1-d24e-44bd-f184-280da4f527cd"
      },
      "execution_count": 328,
      "outputs": [
        {
          "output_type": "execute_result",
          "data": {
            "text/plain": [
              "       Education  Income\n",
              "0            6.0     8.0\n",
              "1            6.0     8.0\n",
              "2            6.0     8.0\n",
              "3            6.0     8.0\n",
              "4            5.0     8.0\n",
              "...          ...     ...\n",
              "70687        4.0     1.0\n",
              "70688        3.0     6.0\n",
              "70689        6.0     4.0\n",
              "70690        2.0     4.0\n",
              "70691        6.0     2.0\n",
              "\n",
              "[70692 rows x 2 columns]"
            ],
            "text/html": [
              "\n",
              "  <div id=\"df-bcfc3b55-c521-4227-9214-c84c35d9b0eb\">\n",
              "    <div class=\"colab-df-container\">\n",
              "      <div>\n",
              "<style scoped>\n",
              "    .dataframe tbody tr th:only-of-type {\n",
              "        vertical-align: middle;\n",
              "    }\n",
              "\n",
              "    .dataframe tbody tr th {\n",
              "        vertical-align: top;\n",
              "    }\n",
              "\n",
              "    .dataframe thead th {\n",
              "        text-align: right;\n",
              "    }\n",
              "</style>\n",
              "<table border=\"1\" class=\"dataframe\">\n",
              "  <thead>\n",
              "    <tr style=\"text-align: right;\">\n",
              "      <th></th>\n",
              "      <th>Education</th>\n",
              "      <th>Income</th>\n",
              "    </tr>\n",
              "  </thead>\n",
              "  <tbody>\n",
              "    <tr>\n",
              "      <th>0</th>\n",
              "      <td>6.0</td>\n",
              "      <td>8.0</td>\n",
              "    </tr>\n",
              "    <tr>\n",
              "      <th>1</th>\n",
              "      <td>6.0</td>\n",
              "      <td>8.0</td>\n",
              "    </tr>\n",
              "    <tr>\n",
              "      <th>2</th>\n",
              "      <td>6.0</td>\n",
              "      <td>8.0</td>\n",
              "    </tr>\n",
              "    <tr>\n",
              "      <th>3</th>\n",
              "      <td>6.0</td>\n",
              "      <td>8.0</td>\n",
              "    </tr>\n",
              "    <tr>\n",
              "      <th>4</th>\n",
              "      <td>5.0</td>\n",
              "      <td>8.0</td>\n",
              "    </tr>\n",
              "    <tr>\n",
              "      <th>...</th>\n",
              "      <td>...</td>\n",
              "      <td>...</td>\n",
              "    </tr>\n",
              "    <tr>\n",
              "      <th>70687</th>\n",
              "      <td>4.0</td>\n",
              "      <td>1.0</td>\n",
              "    </tr>\n",
              "    <tr>\n",
              "      <th>70688</th>\n",
              "      <td>3.0</td>\n",
              "      <td>6.0</td>\n",
              "    </tr>\n",
              "    <tr>\n",
              "      <th>70689</th>\n",
              "      <td>6.0</td>\n",
              "      <td>4.0</td>\n",
              "    </tr>\n",
              "    <tr>\n",
              "      <th>70690</th>\n",
              "      <td>2.0</td>\n",
              "      <td>4.0</td>\n",
              "    </tr>\n",
              "    <tr>\n",
              "      <th>70691</th>\n",
              "      <td>6.0</td>\n",
              "      <td>2.0</td>\n",
              "    </tr>\n",
              "  </tbody>\n",
              "</table>\n",
              "<p>70692 rows × 2 columns</p>\n",
              "</div>\n",
              "      <button class=\"colab-df-convert\" onclick=\"convertToInteractive('df-bcfc3b55-c521-4227-9214-c84c35d9b0eb')\"\n",
              "              title=\"Convert this dataframe to an interactive table.\"\n",
              "              style=\"display:none;\">\n",
              "        \n",
              "  <svg xmlns=\"http://www.w3.org/2000/svg\" height=\"24px\"viewBox=\"0 0 24 24\"\n",
              "       width=\"24px\">\n",
              "    <path d=\"M0 0h24v24H0V0z\" fill=\"none\"/>\n",
              "    <path d=\"M18.56 5.44l.94 2.06.94-2.06 2.06-.94-2.06-.94-.94-2.06-.94 2.06-2.06.94zm-11 1L8.5 8.5l.94-2.06 2.06-.94-2.06-.94L8.5 2.5l-.94 2.06-2.06.94zm10 10l.94 2.06.94-2.06 2.06-.94-2.06-.94-.94-2.06-.94 2.06-2.06.94z\"/><path d=\"M17.41 7.96l-1.37-1.37c-.4-.4-.92-.59-1.43-.59-.52 0-1.04.2-1.43.59L10.3 9.45l-7.72 7.72c-.78.78-.78 2.05 0 2.83L4 21.41c.39.39.9.59 1.41.59.51 0 1.02-.2 1.41-.59l7.78-7.78 2.81-2.81c.8-.78.8-2.07 0-2.86zM5.41 20L4 18.59l7.72-7.72 1.47 1.35L5.41 20z\"/>\n",
              "  </svg>\n",
              "      </button>\n",
              "      \n",
              "  <style>\n",
              "    .colab-df-container {\n",
              "      display:flex;\n",
              "      flex-wrap:wrap;\n",
              "      gap: 12px;\n",
              "    }\n",
              "\n",
              "    .colab-df-convert {\n",
              "      background-color: #E8F0FE;\n",
              "      border: none;\n",
              "      border-radius: 50%;\n",
              "      cursor: pointer;\n",
              "      display: none;\n",
              "      fill: #1967D2;\n",
              "      height: 32px;\n",
              "      padding: 0 0 0 0;\n",
              "      width: 32px;\n",
              "    }\n",
              "\n",
              "    .colab-df-convert:hover {\n",
              "      background-color: #E2EBFA;\n",
              "      box-shadow: 0px 1px 2px rgba(60, 64, 67, 0.3), 0px 1px 3px 1px rgba(60, 64, 67, 0.15);\n",
              "      fill: #174EA6;\n",
              "    }\n",
              "\n",
              "    [theme=dark] .colab-df-convert {\n",
              "      background-color: #3B4455;\n",
              "      fill: #D2E3FC;\n",
              "    }\n",
              "\n",
              "    [theme=dark] .colab-df-convert:hover {\n",
              "      background-color: #434B5C;\n",
              "      box-shadow: 0px 1px 3px 1px rgba(0, 0, 0, 0.15);\n",
              "      filter: drop-shadow(0px 1px 2px rgba(0, 0, 0, 0.3));\n",
              "      fill: #FFFFFF;\n",
              "    }\n",
              "  </style>\n",
              "\n",
              "      <script>\n",
              "        const buttonEl =\n",
              "          document.querySelector('#df-bcfc3b55-c521-4227-9214-c84c35d9b0eb button.colab-df-convert');\n",
              "        buttonEl.style.display =\n",
              "          google.colab.kernel.accessAllowed ? 'block' : 'none';\n",
              "\n",
              "        async function convertToInteractive(key) {\n",
              "          const element = document.querySelector('#df-bcfc3b55-c521-4227-9214-c84c35d9b0eb');\n",
              "          const dataTable =\n",
              "            await google.colab.kernel.invokeFunction('convertToInteractive',\n",
              "                                                     [key], {});\n",
              "          if (!dataTable) return;\n",
              "\n",
              "          const docLinkHtml = 'Like what you see? Visit the ' +\n",
              "            '<a target=\"_blank\" href=https://colab.research.google.com/notebooks/data_table.ipynb>data table notebook</a>'\n",
              "            + ' to learn more about interactive tables.';\n",
              "          element.innerHTML = '';\n",
              "          dataTable['output_type'] = 'display_data';\n",
              "          await google.colab.output.renderOutput(dataTable, element);\n",
              "          const docLink = document.createElement('div');\n",
              "          docLink.innerHTML = docLinkHtml;\n",
              "          element.appendChild(docLink);\n",
              "        }\n",
              "      </script>\n",
              "    </div>\n",
              "  </div>\n",
              "  "
            ]
          },
          "metadata": {},
          "execution_count": 328
        }
      ]
    },
    {
      "cell_type": "markdown",
      "source": [
        "## Categorical data tests - Chi-Square"
      ],
      "metadata": {
        "id": "Mb7MkoEXaDKt"
      }
    },
    {
      "cell_type": "markdown",
      "source": [
        "#### Function to calculate p-value for a binary feature parameter\n",
        "\n",
        "These features have values [1, 0], e.g. denoting [Y, N], [Female, Male], etc.\n",
        "\n",
        "Example:\n",
        "\n",
        ">Diabetes Flag | \t# IV values 0 | #\tIV values 1\n",
        ">--- | --- | --- \n",
        ">0 | 80\t| 220 \n",
        ">1| 50\t| 5 \n",
        " "
      ],
      "metadata": {
        "id": "d82VZ_i5-KL2"
      }
    },
    {
      "cell_type": "code",
      "source": [
        "# Create a new dataframe to hold Chi-Square scores for each feature\n",
        "chi_sq_scores = []\n",
        "chi_sq_scores = pd.DataFrame(columns = ['Feature', 'Chi_Sq_Stat', 'P_Value'])"
      ],
      "metadata": {
        "id": "6VH6jeMEfV0A"
      },
      "execution_count": 329,
      "outputs": []
    },
    {
      "cell_type": "code",
      "source": [
        "def calcPValueBinary(independent_variable, chi_sq_scores):\n",
        "\n",
        "  # Temp copy of main scores dataframe. To be used for scores processing - we return calculations out of this function to main scores dataframe1.\n",
        "  # Python can be tempermental about passing dataframes as pararmeters and updating within functions.\n",
        "  temp_df = chi_sq_scores.copy()\n",
        "\n",
        "  diabetes_N0_var_N0 = data_cut[(data_cut['Diabetes_binary'] == 0) & (data_cut[independent_variable] == 0)]['Diabetes_binary'].count()\n",
        "  diabetes_N0_var_Y1 = data_cut[(data_cut['Diabetes_binary'] == 0) & (data_cut[independent_variable] == 1)]['Diabetes_binary'].count()\n",
        "  diabetes_Y1_var_N0 = data_cut[(data_cut['Diabetes_binary'] == 1) & (data_cut[independent_variable] == 0)]['Diabetes_binary'].count()\n",
        "  diabetes_Y1_var_Y1 = data_cut[(data_cut['Diabetes_binary'] == 1) & (data_cut[independent_variable] == 1)]['Diabetes_binary'].count()\n",
        "\n",
        "  print(\"Independent variable: \" + independent_variable)\n",
        "  # print(\"Diabetes N, Var N: \" + str(diabetes_N0_var_N0))\n",
        "  # print(\"Diabetes N, Var Y: \" + str(diabetes_N0_var_Y1))\n",
        "  # print(\"Diabetes Y, Var N: \" + str(diabetes_Y1_var_N0))\n",
        "  # print(\"Diabetes Y, Var Y: \" + str(diabetes_Y1_var_Y1))\n",
        "\n",
        "  diabetes_N0 = [diabetes_N0_var_N0, diabetes_N0_var_Y1]\n",
        "  diabetes_Y1 = [diabetes_Y1_var_N0, diabetes_Y1_var_Y1]\n",
        "  diabetes = np.array([diabetes_N0, diabetes_Y1])\n",
        "  chi2_stat, p_val, dof, ex = stats.chi2_contingency(diabetes)\n",
        "  print(\"=== P-Value: \" + str(p_val))\n",
        "  print(\"=== chi2_stat: \" + str(chi2_stat))\n",
        "\n",
        "  # Add result to the overall Chi Square results - for feature analysis\n",
        "  new_score_results_row  = {'Feature': independent_variable, 'Chi_Sq_Stat': chi2_stat, 'P_Value': p_val}\n",
        "  temp_df = temp_df.append(new_score_results_row, ignore_index=True)\n",
        "\n",
        "  return temp_df"
      ],
      "metadata": {
        "id": "X83sZ5OSvXv1"
      },
      "execution_count": 330,
      "outputs": []
    },
    {
      "cell_type": "code",
      "source": [
        "chi_sq_scores"
      ],
      "metadata": {
        "colab": {
          "base_uri": "https://localhost:8080/",
          "height": 50
        },
        "id": "M0rg2cUxxaT8",
        "outputId": "b085ed7b-8577-4fb3-837f-3e182746f380"
      },
      "execution_count": 331,
      "outputs": [
        {
          "output_type": "execute_result",
          "data": {
            "text/plain": [
              "Empty DataFrame\n",
              "Columns: [Feature, Chi_Sq_Stat, P_Value]\n",
              "Index: []"
            ],
            "text/html": [
              "\n",
              "  <div id=\"df-50830e65-1f8d-4252-b06b-766162437c09\">\n",
              "    <div class=\"colab-df-container\">\n",
              "      <div>\n",
              "<style scoped>\n",
              "    .dataframe tbody tr th:only-of-type {\n",
              "        vertical-align: middle;\n",
              "    }\n",
              "\n",
              "    .dataframe tbody tr th {\n",
              "        vertical-align: top;\n",
              "    }\n",
              "\n",
              "    .dataframe thead th {\n",
              "        text-align: right;\n",
              "    }\n",
              "</style>\n",
              "<table border=\"1\" class=\"dataframe\">\n",
              "  <thead>\n",
              "    <tr style=\"text-align: right;\">\n",
              "      <th></th>\n",
              "      <th>Feature</th>\n",
              "      <th>Chi_Sq_Stat</th>\n",
              "      <th>P_Value</th>\n",
              "    </tr>\n",
              "  </thead>\n",
              "  <tbody>\n",
              "  </tbody>\n",
              "</table>\n",
              "</div>\n",
              "      <button class=\"colab-df-convert\" onclick=\"convertToInteractive('df-50830e65-1f8d-4252-b06b-766162437c09')\"\n",
              "              title=\"Convert this dataframe to an interactive table.\"\n",
              "              style=\"display:none;\">\n",
              "        \n",
              "  <svg xmlns=\"http://www.w3.org/2000/svg\" height=\"24px\"viewBox=\"0 0 24 24\"\n",
              "       width=\"24px\">\n",
              "    <path d=\"M0 0h24v24H0V0z\" fill=\"none\"/>\n",
              "    <path d=\"M18.56 5.44l.94 2.06.94-2.06 2.06-.94-2.06-.94-.94-2.06-.94 2.06-2.06.94zm-11 1L8.5 8.5l.94-2.06 2.06-.94-2.06-.94L8.5 2.5l-.94 2.06-2.06.94zm10 10l.94 2.06.94-2.06 2.06-.94-2.06-.94-.94-2.06-.94 2.06-2.06.94z\"/><path d=\"M17.41 7.96l-1.37-1.37c-.4-.4-.92-.59-1.43-.59-.52 0-1.04.2-1.43.59L10.3 9.45l-7.72 7.72c-.78.78-.78 2.05 0 2.83L4 21.41c.39.39.9.59 1.41.59.51 0 1.02-.2 1.41-.59l7.78-7.78 2.81-2.81c.8-.78.8-2.07 0-2.86zM5.41 20L4 18.59l7.72-7.72 1.47 1.35L5.41 20z\"/>\n",
              "  </svg>\n",
              "      </button>\n",
              "      \n",
              "  <style>\n",
              "    .colab-df-container {\n",
              "      display:flex;\n",
              "      flex-wrap:wrap;\n",
              "      gap: 12px;\n",
              "    }\n",
              "\n",
              "    .colab-df-convert {\n",
              "      background-color: #E8F0FE;\n",
              "      border: none;\n",
              "      border-radius: 50%;\n",
              "      cursor: pointer;\n",
              "      display: none;\n",
              "      fill: #1967D2;\n",
              "      height: 32px;\n",
              "      padding: 0 0 0 0;\n",
              "      width: 32px;\n",
              "    }\n",
              "\n",
              "    .colab-df-convert:hover {\n",
              "      background-color: #E2EBFA;\n",
              "      box-shadow: 0px 1px 2px rgba(60, 64, 67, 0.3), 0px 1px 3px 1px rgba(60, 64, 67, 0.15);\n",
              "      fill: #174EA6;\n",
              "    }\n",
              "\n",
              "    [theme=dark] .colab-df-convert {\n",
              "      background-color: #3B4455;\n",
              "      fill: #D2E3FC;\n",
              "    }\n",
              "\n",
              "    [theme=dark] .colab-df-convert:hover {\n",
              "      background-color: #434B5C;\n",
              "      box-shadow: 0px 1px 3px 1px rgba(0, 0, 0, 0.15);\n",
              "      filter: drop-shadow(0px 1px 2px rgba(0, 0, 0, 0.3));\n",
              "      fill: #FFFFFF;\n",
              "    }\n",
              "  </style>\n",
              "\n",
              "      <script>\n",
              "        const buttonEl =\n",
              "          document.querySelector('#df-50830e65-1f8d-4252-b06b-766162437c09 button.colab-df-convert');\n",
              "        buttonEl.style.display =\n",
              "          google.colab.kernel.accessAllowed ? 'block' : 'none';\n",
              "\n",
              "        async function convertToInteractive(key) {\n",
              "          const element = document.querySelector('#df-50830e65-1f8d-4252-b06b-766162437c09');\n",
              "          const dataTable =\n",
              "            await google.colab.kernel.invokeFunction('convertToInteractive',\n",
              "                                                     [key], {});\n",
              "          if (!dataTable) return;\n",
              "\n",
              "          const docLinkHtml = 'Like what you see? Visit the ' +\n",
              "            '<a target=\"_blank\" href=https://colab.research.google.com/notebooks/data_table.ipynb>data table notebook</a>'\n",
              "            + ' to learn more about interactive tables.';\n",
              "          element.innerHTML = '';\n",
              "          dataTable['output_type'] = 'display_data';\n",
              "          await google.colab.output.renderOutput(dataTable, element);\n",
              "          const docLink = document.createElement('div');\n",
              "          docLink.innerHTML = docLinkHtml;\n",
              "          element.appendChild(docLink);\n",
              "        }\n",
              "      </script>\n",
              "    </div>\n",
              "  </div>\n",
              "  "
            ]
          },
          "metadata": {},
          "execution_count": 331
        }
      ]
    },
    {
      "cell_type": "markdown",
      "source": [
        "#### Binary categorical features\n",
        "\n",
        "Read all binary feature names into array"
      ],
      "metadata": {
        "id": "RXUKhmdkvXv2"
      }
    },
    {
      "cell_type": "code",
      "source": [
        "binary_features = ['HighBP', 'HighChol', 'Smoker', 'Stroke', 'HeartDiseaseorAttack', 'PhysActivity', \n",
        "                   'Fruits', 'Veggies', 'HvyAlcoholConsump', 'NoDocbcCost', 'DiffWalk', 'Sex']"
      ],
      "metadata": {
        "id": "yIImCdtCvXv2"
      },
      "execution_count": 332,
      "outputs": []
    },
    {
      "cell_type": "markdown",
      "source": [
        "Calculate p-values for each binary variable and output to scores table"
      ],
      "metadata": {
        "id": "zMIm8jHlvXv2"
      }
    },
    {
      "cell_type": "code",
      "source": [
        "for i in binary_features:\n",
        "  chi_sq_scores = calcPValueBinary(i, chi_sq_scores)"
      ],
      "metadata": {
        "colab": {
          "base_uri": "https://localhost:8080/"
        },
        "outputId": "1062e279-b437-4fab-8924-34af35a9668e",
        "id": "7T52Py4CvXv2"
      },
      "execution_count": 333,
      "outputs": [
        {
          "output_type": "stream",
          "name": "stdout",
          "text": [
            "Independent variable: HighBP\n",
            "=== P-Value: 0.0\n",
            "=== chi2_stat: 10287.972984997781\n",
            "Independent variable: HighChol\n",
            "=== P-Value: 0.0\n",
            "=== chi2_stat: 5911.8066998822505\n",
            "Independent variable: Smoker\n",
            "=== P-Value: 1.2211053080400827e-115\n",
            "=== chi2_stat: 522.4810772937883\n",
            "Independent variable: Stroke\n",
            "=== P-Value: 1.290837098922016e-243\n",
            "=== chi2_stat: 1111.0793074560897\n",
            "Independent variable: HeartDiseaseorAttack\n",
            "=== P-Value: 0.0\n",
            "=== chi2_stat: 3161.7202445322782\n",
            "Independent variable: PhysActivity\n",
            "=== P-Value: 0.0\n",
            "=== chi2_stat: 1778.9607035956992\n",
            "Independent variable: Fruits\n",
            "=== P-Value: 7.967064756507964e-47\n",
            "=== chi2_stat: 206.50090830615105\n",
            "Independent variable: Veggies\n",
            "=== P-Value: 1.4007103685991128e-98\n",
            "=== chi2_stat: 444.0806516898606\n",
            "Independent variable: HvyAlcoholConsump\n",
            "=== P-Value: 3.9133962745676324e-140\n",
            "=== chi2_stat: 635.0865339749427\n",
            "Independent variable: NoDocbcCost\n",
            "=== P-Value: 1.4053255735064045e-27\n",
            "=== chi2_stat: 118.4167174482265\n",
            "Independent variable: DiffWalk\n",
            "=== P-Value: 0.0\n",
            "=== chi2_stat: 5253.694843161374\n",
            "Independent variable: Sex\n",
            "=== P-Value: 3.860395909809483e-32\n",
            "=== chi2_stat: 139.26185542886512\n"
          ]
        }
      ]
    },
    {
      "cell_type": "markdown",
      "source": [
        "#### General Health\n",
        "This is an ordinal feature with five possible values 1-5. Can't use the binary calculation function - creating a custom calculation for 5 values."
      ],
      "metadata": {
        "id": "Ov8H_0g-uW0n"
      }
    },
    {
      "cell_type": "code",
      "source": [
        "independent_variable = \"GenHlth\"\n",
        "\n",
        "diabetes_N0_var_1 = data_cut[(data_cut['Diabetes_binary'] == 0) & (data_cut[independent_variable] == 1)]['Diabetes_binary'].count()\n",
        "diabetes_N0_var_2 = data_cut[(data_cut['Diabetes_binary'] == 0) & (data_cut[independent_variable] == 2)]['Diabetes_binary'].count()\n",
        "diabetes_N0_var_3 = data_cut[(data_cut['Diabetes_binary'] == 0) & (data_cut[independent_variable] == 3)]['Diabetes_binary'].count()\n",
        "diabetes_N0_var_4 = data_cut[(data_cut['Diabetes_binary'] == 0) & (data_cut[independent_variable] == 4)]['Diabetes_binary'].count()\n",
        "diabetes_N0_var_5 = data_cut[(data_cut['Diabetes_binary'] == 0) & (data_cut[independent_variable] == 5)]['Diabetes_binary'].count()\n",
        "diabetes_Y1_var_1 = data_cut[(data_cut['Diabetes_binary'] == 1) & (data_cut[independent_variable] == 1)]['Diabetes_binary'].count()\n",
        "diabetes_Y1_var_2 = data_cut[(data_cut['Diabetes_binary'] == 1) & (data_cut[independent_variable] == 2)]['Diabetes_binary'].count()\n",
        "diabetes_Y1_var_3 = data_cut[(data_cut['Diabetes_binary'] == 1) & (data_cut[independent_variable] == 3)]['Diabetes_binary'].count()\n",
        "diabetes_Y1_var_4 = data_cut[(data_cut['Diabetes_binary'] == 1) & (data_cut[independent_variable] == 4)]['Diabetes_binary'].count()\n",
        "diabetes_Y1_var_5 = data_cut[(data_cut['Diabetes_binary'] == 1) & (data_cut[independent_variable] == 5)]['Diabetes_binary'].count()\n",
        "\n",
        "print(\"Independent variable: \" + independent_variable)\n",
        "# print(\"Diabetes N, Var 1: \" + str(diabetes_N0_var_1))\n",
        "# print(\"Diabetes N, Var 2: \" + str(diabetes_N0_var_2))\n",
        "# print(\"Diabetes N, Var 3: \" + str(diabetes_N0_var_3))\n",
        "# print(\"Diabetes N, Var 4: \" + str(diabetes_N0_var_4))\n",
        "# print(\"Diabetes N, Var 5: \" + str(diabetes_N0_var_5))\n",
        "# print(\"Diabetes Y, Var 1: \" + str(diabetes_Y1_var_1))\n",
        "# print(\"Diabetes Y, Var 2: \" + str(diabetes_Y1_var_2))\n",
        "# print(\"Diabetes Y, Var 3: \" + str(diabetes_Y1_var_3))\n",
        "# print(\"Diabetes Y, Var 4: \" + str(diabetes_Y1_var_4))\n",
        "# print(\"Diabetes Y, Var 5: \" + str(diabetes_Y1_var_5))\n",
        "\n",
        "diabetes_N0 = [diabetes_N0_var_1, diabetes_N0_var_2, diabetes_N0_var_3, diabetes_N0_var_4, diabetes_N0_var_5]\n",
        "diabetes_Y1 = [diabetes_Y1_var_1, diabetes_Y1_var_2, diabetes_Y1_var_3, diabetes_Y1_var_4, diabetes_Y1_var_5]\n",
        "diabetes = np.array([diabetes_N0, diabetes_Y1])\n",
        "chi2_stat, p_val, dof, ex = stats.chi2_contingency(diabetes)\n",
        "print(\"=== chi2_stat: \" + str(p_val))\n",
        "print(\"=== P-Value: \" + str(p_val))\n",
        "\n",
        "# Add result to the overall Chi Square results - for feature analysis\n",
        "new_score_results_row  = {'Feature': independent_variable, 'Chi_Sq_Stat': chi2_stat, 'P_Value': p_val}\n",
        "chi_sq_scores = chi_sq_scores.append(new_score_results_row, ignore_index=True)"
      ],
      "metadata": {
        "colab": {
          "base_uri": "https://localhost:8080/"
        },
        "id": "E7xRqDJJuOpC",
        "outputId": "a6f8ecbd-000e-4ecc-b159-8e6cb5c46a73"
      },
      "execution_count": 334,
      "outputs": [
        {
          "output_type": "stream",
          "name": "stdout",
          "text": [
            "Independent variable: GenHlth\n",
            "=== chi2_stat: 0.0\n",
            "=== P-Value: 0.0\n"
          ]
        }
      ]
    },
    {
      "cell_type": "markdown",
      "source": [
        "#### Education\n",
        "This is an ordinal feature with six possible values 1-6. Can't use the binary calculation function - creating a custom calculation for 6 values."
      ],
      "metadata": {
        "id": "UcnxyTO_vXvm"
      }
    },
    {
      "cell_type": "code",
      "source": [
        "independent_variable = \"Education\"\n",
        "\n",
        "diabetes_N0_var_1 = data_cut[(data_cut['Diabetes_binary'] == 0) & (data_cut[independent_variable] == 1)]['Diabetes_binary'].count()\n",
        "diabetes_N0_var_2 = data_cut[(data_cut['Diabetes_binary'] == 0) & (data_cut[independent_variable] == 2)]['Diabetes_binary'].count()\n",
        "diabetes_N0_var_3 = data_cut[(data_cut['Diabetes_binary'] == 0) & (data_cut[independent_variable] == 3)]['Diabetes_binary'].count()\n",
        "diabetes_N0_var_4 = data_cut[(data_cut['Diabetes_binary'] == 0) & (data_cut[independent_variable] == 4)]['Diabetes_binary'].count()\n",
        "diabetes_N0_var_5 = data_cut[(data_cut['Diabetes_binary'] == 0) & (data_cut[independent_variable] == 5)]['Diabetes_binary'].count()\n",
        "diabetes_N0_var_6 = data_cut[(data_cut['Diabetes_binary'] == 0) & (data_cut[independent_variable] == 6)]['Diabetes_binary'].count()\n",
        "diabetes_Y1_var_1 = data_cut[(data_cut['Diabetes_binary'] == 1) & (data_cut[independent_variable] == 1)]['Diabetes_binary'].count()\n",
        "diabetes_Y1_var_2 = data_cut[(data_cut['Diabetes_binary'] == 1) & (data_cut[independent_variable] == 2)]['Diabetes_binary'].count()\n",
        "diabetes_Y1_var_3 = data_cut[(data_cut['Diabetes_binary'] == 1) & (data_cut[independent_variable] == 3)]['Diabetes_binary'].count()\n",
        "diabetes_Y1_var_4 = data_cut[(data_cut['Diabetes_binary'] == 1) & (data_cut[independent_variable] == 4)]['Diabetes_binary'].count()\n",
        "diabetes_Y1_var_5 = data_cut[(data_cut['Diabetes_binary'] == 1) & (data_cut[independent_variable] == 5)]['Diabetes_binary'].count()\n",
        "diabetes_Y1_var_6 = data_cut[(data_cut['Diabetes_binary'] == 1) & (data_cut[independent_variable] == 6)]['Diabetes_binary'].count()\n",
        "\n",
        "print(\"Independent variable: \" + independent_variable)\n",
        "print(\"Diabetes N, Var 1: \" + str(diabetes_N0_var_1))\n",
        "print(\"Diabetes N, Var 2: \" + str(diabetes_N0_var_2))\n",
        "print(\"Diabetes N, Var 3: \" + str(diabetes_N0_var_3))\n",
        "print(\"Diabetes N, Var 4: \" + str(diabetes_N0_var_4))\n",
        "print(\"Diabetes N, Var 5: \" + str(diabetes_N0_var_5))\n",
        "print(\"Diabetes N, Var 6: \" + str(diabetes_N0_var_6))\n",
        "print(\"Diabetes Y, Var 1: \" + str(diabetes_Y1_var_1))\n",
        "print(\"Diabetes Y, Var 2: \" + str(diabetes_Y1_var_2))\n",
        "print(\"Diabetes Y, Var 3: \" + str(diabetes_Y1_var_3))\n",
        "print(\"Diabetes Y, Var 4: \" + str(diabetes_Y1_var_4))\n",
        "print(\"Diabetes Y, Var 5: \" + str(diabetes_Y1_var_5))\n",
        "print(\"Diabetes Y, Var 6: \" + str(diabetes_Y1_var_6))\n",
        "\n",
        "diabetes_N0 = [diabetes_N0_var_1, diabetes_N0_var_2, diabetes_N0_var_3, diabetes_N0_var_4, diabetes_N0_var_5]\n",
        "diabetes_Y1 = [diabetes_Y1_var_1, diabetes_Y1_var_2, diabetes_Y1_var_3, diabetes_Y1_var_4, diabetes_Y1_var_5]\n",
        "diabetes = np.array([diabetes_N0, diabetes_Y1])\n",
        "chi2_stat, p_val, dof, ex = stats.chi2_contingency(diabetes)\n",
        "print(\"=== chi2_stat: \" + str(p_val))\n",
        "print(\"=== P-Value: \" + str(p_val))\n",
        "\n",
        "# Add result to the overall Chi Square results - for feature analysis\n",
        "new_score_results_row  = {'Feature': independent_variable, 'Chi_Sq_Stat': chi2_stat, 'P_Value': p_val}\n",
        "chi_sq_scores = chi_sq_scores.append(new_score_results_row, ignore_index=True)"
      ],
      "metadata": {
        "colab": {
          "base_uri": "https://localhost:8080/"
        },
        "outputId": "46257072-a93e-4dc3-9c9b-f475b6669338",
        "id": "IKdPR2VuvXv0"
      },
      "execution_count": 335,
      "outputs": [
        {
          "output_type": "stream",
          "name": "stdout",
          "text": [
            "Independent variable: Education\n",
            "Diabetes N, Var 1: 28\n",
            "Diabetes N, Var 2: 464\n",
            "Diabetes N, Var 3: 1151\n",
            "Diabetes N, Var 4: 8407\n",
            "Diabetes N, Var 5: 9676\n",
            "Diabetes N, Var 6: 15620\n",
            "Diabetes Y, Var 1: 47\n",
            "Diabetes Y, Var 2: 1183\n",
            "Diabetes Y, Var 3: 2296\n",
            "Diabetes Y, Var 4: 11066\n",
            "Diabetes Y, Var 5: 10354\n",
            "Diabetes Y, Var 6: 10400\n",
            "=== chi2_stat: 6.15764388347325e-103\n",
            "=== P-Value: 6.15764388347325e-103\n"
          ]
        }
      ]
    },
    {
      "cell_type": "markdown",
      "source": [
        "#### Final Chi-Square scores\n",
        "\n",
        "Here we can see the Chi-Squares results in descending order of Chi-Square Stat scores - highest or most \"important\" features at the top"
      ],
      "metadata": {
        "id": "mRifKYJSxpwk"
      }
    },
    {
      "cell_type": "code",
      "source": [
        "f = plt.figure()\n",
        "fig = plt.figure()"
      ],
      "metadata": {
        "colab": {
          "base_uri": "https://localhost:8080/",
          "height": 52
        },
        "id": "N6Z0WNfj8-CR",
        "outputId": "9b45fea0-16ec-4ae3-807d-e11dbfbe0de4"
      },
      "execution_count": 336,
      "outputs": [
        {
          "output_type": "display_data",
          "data": {
            "text/plain": [
              "<Figure size 432x288 with 0 Axes>"
            ]
          },
          "metadata": {}
        },
        {
          "output_type": "display_data",
          "data": {
            "text/plain": [
              "<Figure size 432x288 with 0 Axes>"
            ]
          },
          "metadata": {}
        }
      ]
    },
    {
      "cell_type": "code",
      "source": [
        "chi_sq_scores = chi_sq_scores.sort_values(by='Chi_Sq_Stat', ascending=False)\n",
        "chi_sq_scores"
      ],
      "metadata": {
        "colab": {
          "base_uri": "https://localhost:8080/",
          "height": 488
        },
        "id": "SXxqD76sf5FS",
        "outputId": "99d9afc0-d30e-41c4-9f13-c335bfbd5df9"
      },
      "execution_count": 337,
      "outputs": [
        {
          "output_type": "execute_result",
          "data": {
            "text/plain": [
              "                 Feature   Chi_Sq_Stat        P_Value\n",
              "12               GenHlth  12304.318980   0.000000e+00\n",
              "0                 HighBP  10287.972985   0.000000e+00\n",
              "1               HighChol   5911.806700   0.000000e+00\n",
              "10              DiffWalk   5253.694843   0.000000e+00\n",
              "4   HeartDiseaseorAttack   3161.720245   0.000000e+00\n",
              "5           PhysActivity   1778.960704   0.000000e+00\n",
              "3                 Stroke   1111.079307  1.290837e-243\n",
              "8      HvyAlcoholConsump    635.086534  3.913396e-140\n",
              "2                 Smoker    522.481077  1.221105e-115\n",
              "13             Education    481.673667  6.157644e-103\n",
              "7                Veggies    444.080652   1.400710e-98\n",
              "6                 Fruits    206.500908   7.967065e-47\n",
              "11                   Sex    139.261855   3.860396e-32\n",
              "9            NoDocbcCost    118.416717   1.405326e-27"
            ],
            "text/html": [
              "\n",
              "  <div id=\"df-168270f6-9987-4ba8-a03b-e138eee5b0bb\">\n",
              "    <div class=\"colab-df-container\">\n",
              "      <div>\n",
              "<style scoped>\n",
              "    .dataframe tbody tr th:only-of-type {\n",
              "        vertical-align: middle;\n",
              "    }\n",
              "\n",
              "    .dataframe tbody tr th {\n",
              "        vertical-align: top;\n",
              "    }\n",
              "\n",
              "    .dataframe thead th {\n",
              "        text-align: right;\n",
              "    }\n",
              "</style>\n",
              "<table border=\"1\" class=\"dataframe\">\n",
              "  <thead>\n",
              "    <tr style=\"text-align: right;\">\n",
              "      <th></th>\n",
              "      <th>Feature</th>\n",
              "      <th>Chi_Sq_Stat</th>\n",
              "      <th>P_Value</th>\n",
              "    </tr>\n",
              "  </thead>\n",
              "  <tbody>\n",
              "    <tr>\n",
              "      <th>12</th>\n",
              "      <td>GenHlth</td>\n",
              "      <td>12304.318980</td>\n",
              "      <td>0.000000e+00</td>\n",
              "    </tr>\n",
              "    <tr>\n",
              "      <th>0</th>\n",
              "      <td>HighBP</td>\n",
              "      <td>10287.972985</td>\n",
              "      <td>0.000000e+00</td>\n",
              "    </tr>\n",
              "    <tr>\n",
              "      <th>1</th>\n",
              "      <td>HighChol</td>\n",
              "      <td>5911.806700</td>\n",
              "      <td>0.000000e+00</td>\n",
              "    </tr>\n",
              "    <tr>\n",
              "      <th>10</th>\n",
              "      <td>DiffWalk</td>\n",
              "      <td>5253.694843</td>\n",
              "      <td>0.000000e+00</td>\n",
              "    </tr>\n",
              "    <tr>\n",
              "      <th>4</th>\n",
              "      <td>HeartDiseaseorAttack</td>\n",
              "      <td>3161.720245</td>\n",
              "      <td>0.000000e+00</td>\n",
              "    </tr>\n",
              "    <tr>\n",
              "      <th>5</th>\n",
              "      <td>PhysActivity</td>\n",
              "      <td>1778.960704</td>\n",
              "      <td>0.000000e+00</td>\n",
              "    </tr>\n",
              "    <tr>\n",
              "      <th>3</th>\n",
              "      <td>Stroke</td>\n",
              "      <td>1111.079307</td>\n",
              "      <td>1.290837e-243</td>\n",
              "    </tr>\n",
              "    <tr>\n",
              "      <th>8</th>\n",
              "      <td>HvyAlcoholConsump</td>\n",
              "      <td>635.086534</td>\n",
              "      <td>3.913396e-140</td>\n",
              "    </tr>\n",
              "    <tr>\n",
              "      <th>2</th>\n",
              "      <td>Smoker</td>\n",
              "      <td>522.481077</td>\n",
              "      <td>1.221105e-115</td>\n",
              "    </tr>\n",
              "    <tr>\n",
              "      <th>13</th>\n",
              "      <td>Education</td>\n",
              "      <td>481.673667</td>\n",
              "      <td>6.157644e-103</td>\n",
              "    </tr>\n",
              "    <tr>\n",
              "      <th>7</th>\n",
              "      <td>Veggies</td>\n",
              "      <td>444.080652</td>\n",
              "      <td>1.400710e-98</td>\n",
              "    </tr>\n",
              "    <tr>\n",
              "      <th>6</th>\n",
              "      <td>Fruits</td>\n",
              "      <td>206.500908</td>\n",
              "      <td>7.967065e-47</td>\n",
              "    </tr>\n",
              "    <tr>\n",
              "      <th>11</th>\n",
              "      <td>Sex</td>\n",
              "      <td>139.261855</td>\n",
              "      <td>3.860396e-32</td>\n",
              "    </tr>\n",
              "    <tr>\n",
              "      <th>9</th>\n",
              "      <td>NoDocbcCost</td>\n",
              "      <td>118.416717</td>\n",
              "      <td>1.405326e-27</td>\n",
              "    </tr>\n",
              "  </tbody>\n",
              "</table>\n",
              "</div>\n",
              "      <button class=\"colab-df-convert\" onclick=\"convertToInteractive('df-168270f6-9987-4ba8-a03b-e138eee5b0bb')\"\n",
              "              title=\"Convert this dataframe to an interactive table.\"\n",
              "              style=\"display:none;\">\n",
              "        \n",
              "  <svg xmlns=\"http://www.w3.org/2000/svg\" height=\"24px\"viewBox=\"0 0 24 24\"\n",
              "       width=\"24px\">\n",
              "    <path d=\"M0 0h24v24H0V0z\" fill=\"none\"/>\n",
              "    <path d=\"M18.56 5.44l.94 2.06.94-2.06 2.06-.94-2.06-.94-.94-2.06-.94 2.06-2.06.94zm-11 1L8.5 8.5l.94-2.06 2.06-.94-2.06-.94L8.5 2.5l-.94 2.06-2.06.94zm10 10l.94 2.06.94-2.06 2.06-.94-2.06-.94-.94-2.06-.94 2.06-2.06.94z\"/><path d=\"M17.41 7.96l-1.37-1.37c-.4-.4-.92-.59-1.43-.59-.52 0-1.04.2-1.43.59L10.3 9.45l-7.72 7.72c-.78.78-.78 2.05 0 2.83L4 21.41c.39.39.9.59 1.41.59.51 0 1.02-.2 1.41-.59l7.78-7.78 2.81-2.81c.8-.78.8-2.07 0-2.86zM5.41 20L4 18.59l7.72-7.72 1.47 1.35L5.41 20z\"/>\n",
              "  </svg>\n",
              "      </button>\n",
              "      \n",
              "  <style>\n",
              "    .colab-df-container {\n",
              "      display:flex;\n",
              "      flex-wrap:wrap;\n",
              "      gap: 12px;\n",
              "    }\n",
              "\n",
              "    .colab-df-convert {\n",
              "      background-color: #E8F0FE;\n",
              "      border: none;\n",
              "      border-radius: 50%;\n",
              "      cursor: pointer;\n",
              "      display: none;\n",
              "      fill: #1967D2;\n",
              "      height: 32px;\n",
              "      padding: 0 0 0 0;\n",
              "      width: 32px;\n",
              "    }\n",
              "\n",
              "    .colab-df-convert:hover {\n",
              "      background-color: #E2EBFA;\n",
              "      box-shadow: 0px 1px 2px rgba(60, 64, 67, 0.3), 0px 1px 3px 1px rgba(60, 64, 67, 0.15);\n",
              "      fill: #174EA6;\n",
              "    }\n",
              "\n",
              "    [theme=dark] .colab-df-convert {\n",
              "      background-color: #3B4455;\n",
              "      fill: #D2E3FC;\n",
              "    }\n",
              "\n",
              "    [theme=dark] .colab-df-convert:hover {\n",
              "      background-color: #434B5C;\n",
              "      box-shadow: 0px 1px 3px 1px rgba(0, 0, 0, 0.15);\n",
              "      filter: drop-shadow(0px 1px 2px rgba(0, 0, 0, 0.3));\n",
              "      fill: #FFFFFF;\n",
              "    }\n",
              "  </style>\n",
              "\n",
              "      <script>\n",
              "        const buttonEl =\n",
              "          document.querySelector('#df-168270f6-9987-4ba8-a03b-e138eee5b0bb button.colab-df-convert');\n",
              "        buttonEl.style.display =\n",
              "          google.colab.kernel.accessAllowed ? 'block' : 'none';\n",
              "\n",
              "        async function convertToInteractive(key) {\n",
              "          const element = document.querySelector('#df-168270f6-9987-4ba8-a03b-e138eee5b0bb');\n",
              "          const dataTable =\n",
              "            await google.colab.kernel.invokeFunction('convertToInteractive',\n",
              "                                                     [key], {});\n",
              "          if (!dataTable) return;\n",
              "\n",
              "          const docLinkHtml = 'Like what you see? Visit the ' +\n",
              "            '<a target=\"_blank\" href=https://colab.research.google.com/notebooks/data_table.ipynb>data table notebook</a>'\n",
              "            + ' to learn more about interactive tables.';\n",
              "          element.innerHTML = '';\n",
              "          dataTable['output_type'] = 'display_data';\n",
              "          await google.colab.output.renderOutput(dataTable, element);\n",
              "          const docLink = document.createElement('div');\n",
              "          docLink.innerHTML = docLinkHtml;\n",
              "          element.appendChild(docLink);\n",
              "        }\n",
              "      </script>\n",
              "    </div>\n",
              "  </div>\n",
              "  "
            ]
          },
          "metadata": {},
          "execution_count": 337
        }
      ]
    },
    {
      "cell_type": "code",
      "source": [
        "features = chi_sq_scores['Feature']\n",
        "features"
      ],
      "metadata": {
        "colab": {
          "base_uri": "https://localhost:8080/"
        },
        "id": "3z8DLvwD6lv1",
        "outputId": "207d61ca-c4bd-48c4-b955-a59ae2f3e06c"
      },
      "execution_count": 338,
      "outputs": [
        {
          "output_type": "execute_result",
          "data": {
            "text/plain": [
              "12                 GenHlth\n",
              "0                   HighBP\n",
              "1                 HighChol\n",
              "10                DiffWalk\n",
              "4     HeartDiseaseorAttack\n",
              "5             PhysActivity\n",
              "3                   Stroke\n",
              "8        HvyAlcoholConsump\n",
              "2                   Smoker\n",
              "13               Education\n",
              "7                  Veggies\n",
              "6                   Fruits\n",
              "11                     Sex\n",
              "9              NoDocbcCost\n",
              "Name: Feature, dtype: object"
            ]
          },
          "metadata": {},
          "execution_count": 338
        }
      ]
    },
    {
      "cell_type": "code",
      "source": [
        "scores = chi_sq_scores['Chi_Sq_Stat']\n",
        "scores"
      ],
      "metadata": {
        "colab": {
          "base_uri": "https://localhost:8080/"
        },
        "id": "0vDkiPyz64Vn",
        "outputId": "bf4fb57f-ced6-4075-c61c-af59282b6fe9"
      },
      "execution_count": 339,
      "outputs": [
        {
          "output_type": "execute_result",
          "data": {
            "text/plain": [
              "12    12304.318980\n",
              "0     10287.972985\n",
              "1      5911.806700\n",
              "10     5253.694843\n",
              "4      3161.720245\n",
              "5      1778.960704\n",
              "3      1111.079307\n",
              "8       635.086534\n",
              "2       522.481077\n",
              "13      481.673667\n",
              "7       444.080652\n",
              "6       206.500908\n",
              "11      139.261855\n",
              "9       118.416717\n",
              "Name: Chi_Sq_Stat, dtype: float64"
            ]
          },
          "metadata": {},
          "execution_count": 339
        }
      ]
    },
    {
      "cell_type": "code",
      "source": [
        "y_axis = scores.to_numpy()"
      ],
      "metadata": {
        "id": "y_jANBtW7ren"
      },
      "execution_count": 340,
      "outputs": []
    },
    {
      "cell_type": "code",
      "source": [
        "x_axis = features.to_numpy()"
      ],
      "metadata": {
        "id": "jT-rbUN08AhG"
      },
      "execution_count": 341,
      "outputs": []
    },
    {
      "cell_type": "code",
      "source": [
        "f = plt.figure()"
      ],
      "metadata": {
        "colab": {
          "base_uri": "https://localhost:8080/",
          "height": 34
        },
        "id": "XFvzDzAq6nrW",
        "outputId": "19ab5713-5794-40b1-9558-9446e7ac69f7"
      },
      "execution_count": 342,
      "outputs": [
        {
          "output_type": "display_data",
          "data": {
            "text/plain": [
              "<Figure size 432x288 with 0 Axes>"
            ]
          },
          "metadata": {}
        }
      ]
    },
    {
      "cell_type": "code",
      "source": [
        "f.set_figwidth(10)\n",
        "f.set_figheight(5)\n",
        "plt.bar(x_axis, y_axis)\n",
        "plt.xticks(rotation=90)\n",
        "plt.title('Chi-square stat scores by feature')\n",
        "plt.xlabel('Feature')\n",
        "plt.ylabel('Score')\n",
        "plt.show()"
      ],
      "metadata": {
        "colab": {
          "base_uri": "https://localhost:8080/",
          "height": 412
        },
        "id": "ttttVtw55cfu",
        "outputId": "038c67dd-d903-4a5f-8b2e-0b95c8cd0c55"
      },
      "execution_count": 343,
      "outputs": [
        {
          "output_type": "display_data",
          "data": {
            "text/plain": [
              "<Figure size 432x288 with 1 Axes>"
            ],
            "image/png": "[encoded data removed]"
          },
          "metadata": {
            "needs_background": "light"
          }
        }
      ]
    },
    {
      "cell_type": "markdown",
      "source": [
        "#### Let's take a further look at some high scoring and interesting features"
      ],
      "metadata": {
        "id": "GGvBPAILT1qg"
      }
    },
    {
      "cell_type": "markdown",
      "source": [
        "**General Health:** This is the highest scoring feature, an ordinal variable. We can see an obvious correlation with diabetes, diabetics are more likely to suffer from poorer general health.\n",
        "\n",
        "1 = excellent\n",
        "\n",
        "2 = very good\n",
        "\n",
        "3 = good\n",
        "\n",
        "4 = fair\n",
        "\n",
        "5 = poor"
      ],
      "metadata": {
        "id": "rumtTey54Ean"
      }
    },
    {
      "cell_type": "code",
      "source": [
        "independent_variable = \"GenHlth\"\n",
        "\n",
        "diabetes_N0_var_1 = data_cut[(data_cut['Diabetes_binary'] == 0) & (data_cut[independent_variable] == 1)]['Diabetes_binary'].count()\n",
        "diabetes_N0_var_2 = data_cut[(data_cut['Diabetes_binary'] == 0) & (data_cut[independent_variable] == 2)]['Diabetes_binary'].count()\n",
        "diabetes_N0_var_3 = data_cut[(data_cut['Diabetes_binary'] == 0) & (data_cut[independent_variable] == 3)]['Diabetes_binary'].count()\n",
        "diabetes_N0_var_4 = data_cut[(data_cut['Diabetes_binary'] == 0) & (data_cut[independent_variable] == 4)]['Diabetes_binary'].count()\n",
        "diabetes_N0_var_5 = data_cut[(data_cut['Diabetes_binary'] == 0) & (data_cut[independent_variable] == 5)]['Diabetes_binary'].count()\n",
        "diabetes_Y1_var_1 = data_cut[(data_cut['Diabetes_binary'] == 1) & (data_cut[independent_variable] == 1)]['Diabetes_binary'].count()\n",
        "diabetes_Y1_var_2 = data_cut[(data_cut['Diabetes_binary'] == 1) & (data_cut[independent_variable] == 2)]['Diabetes_binary'].count()\n",
        "diabetes_Y1_var_3 = data_cut[(data_cut['Diabetes_binary'] == 1) & (data_cut[independent_variable] == 3)]['Diabetes_binary'].count()\n",
        "diabetes_Y1_var_4 = data_cut[(data_cut['Diabetes_binary'] == 1) & (data_cut[independent_variable] == 4)]['Diabetes_binary'].count()\n",
        "diabetes_Y1_var_5 = data_cut[(data_cut['Diabetes_binary'] == 1) & (data_cut[independent_variable] == 5)]['Diabetes_binary'].count()"
      ],
      "metadata": {
        "id": "xaShb1Dd4Eao"
      },
      "execution_count": 344,
      "outputs": []
    },
    {
      "cell_type": "code",
      "source": [
        "width1 = 10\n",
        "height1 = 5\n",
        "width_height_1 = (width1, height1)\n",
        "\n",
        "plt.figure(figsize=width_height_1)\n",
        "\n",
        "plt.xticks(rotation=90)\n",
        "\n",
        "ax = fig.add_axes([0,0,1,1])\n",
        "x_axis = ['Excellent', 'Excellent', 'Very good', 'Very good', 'Good', 'Good', 'Fair', 'Fair', 'Poor', 'Poor']\n",
        "y_axis = [diabetes_N0_var_1 ,diabetes_Y1_var_1, diabetes_N0_var_2, diabetes_Y1_var_2, diabetes_N0_var_3, diabetes_Y1_var_3,\n",
        "          diabetes_N0_var_4, diabetes_Y1_var_4, diabetes_N0_var_5, diabetes_Y1_var_5]\n",
        "\n",
        "x_pos = np.arange(len(x_axis))\n",
        "\n",
        "# Create bars with different colors\n",
        "plt.bar(x_pos, y_axis, color=['green', 'red', 'green', 'red', 'green', 'red', 'green', 'red', 'green', 'red'])\n",
        "# Create names on the x-axis\n",
        "plt.xticks(x_pos, x_axis)\n",
        "\n",
        "green_patch = mpatches.Patch(color='green', label='Non-Diabetic')\n",
        "red_patch = mpatches.Patch(color='red', label='Diabetic')\n",
        "plt.legend(handles=[green_patch, red_patch])\n",
        "plt.title('General Health Vs Diabetes')\n",
        "\n",
        "plt.show()"
      ],
      "metadata": {
        "colab": {
          "base_uri": "https://localhost:8080/",
          "height": 384
        },
        "outputId": "6fad5e85-3da4-41ed-dc12-0dfec6274d6d",
        "id": "UqOTUELLx4P-"
      },
      "execution_count": 345,
      "outputs": [
        {
          "output_type": "display_data",
          "data": {
            "text/plain": [
              "<Figure size 720x360 with 1 Axes>"
            ],
            "image/png": "[encoded data removed]"
          },
          "metadata": {
            "needs_background": "light"
          }
        }
      ]
    },
    {
      "cell_type": "code",
      "source": [
        "xindependent_variable = \"HighBP\"\n",
        "\n",
        "diabetes_N0_var_N0 = data_cut[(data_cut['Diabetes_binary'] == 0) & (data_cut[independent_variable] == 0)]['Diabetes_binary'].count()\n",
        "diabetes_N0_var_Y1 = data_cut[(data_cut['Diabetes_binary'] == 0) & (data_cut[independent_variable] == 1)]['Diabetes_binary'].count()\n",
        "diabetes_Y1_var_N0 = data_cut[(data_cut['Diabetes_binary'] == 1) & (data_cut[independent_variable] == 0)]['Diabetes_binary'].count()\n",
        "diabetes_Y1_var_Y1 = data_cut[(data_cut['Diabetes_binary'] == 1) & (data_cut[independent_variable] == 1)]['Diabetes_binary'].count()"
      ],
      "metadata": {
        "id": "ohqTbwWJUcVC"
      },
      "execution_count": 346,
      "outputs": []
    },
    {
      "cell_type": "markdown",
      "source": [
        "**High blood pressure:** The higest scoring binarty feature - again another obvious correlation with diabetes."
      ],
      "metadata": {
        "id": "KNS7VI_2Apxy"
      }
    },
    {
      "cell_type": "code",
      "source": [
        "ax = fig.add_axes([0,0,1,1])\n",
        "x_axis = ['Normal BP', 'Normal BP', 'High BP', 'High BP']\n",
        "y_axis = [diabetes_N0_var_N0 ,diabetes_Y1_var_N0, diabetes_N0_var_Y1, diabetes_Y1_var_Y1]\n",
        "\n",
        "x_pos = np.arange(len(x_axis))\n",
        "\n",
        "# Create bars with different colors\n",
        "plt.bar(x_pos, y_axis, color=['green', 'red', 'green', 'red'])\n",
        "# Create names on the x-axis\n",
        "plt.xticks(x_pos, x_axis)\n",
        "\n",
        "green_patch = mpatches.Patch(color='green', label='Non-Diabetic')\n",
        "red_patch = mpatches.Patch(color='red', label='Diabetic')\n",
        "plt.legend(handles=[green_patch, red_patch])\n",
        "plt.title('Blood Pressure Vs Diabetes')\n",
        "\n",
        "\n",
        "plt.show()"
      ],
      "metadata": {
        "id": "vyS_EWqMUcsG",
        "colab": {
          "base_uri": "https://localhost:8080/",
          "height": 338
        },
        "outputId": "bf3b6147-681f-4486-d3a3-790229062684"
      },
      "execution_count": 347,
      "outputs": [
        {
          "output_type": "stream",
          "name": "stderr",
          "text": [
            "/usr/local/lib/python3.7/dist-packages/ipykernel_launcher.py:1: MatplotlibDeprecationWarning: Adding an axes using the same arguments as a previous axes currently reuses the earlier instance.  In a future version, a new instance will always be created and returned.  Meanwhile, this warning can be suppressed, and the future behavior ensured, by passing a unique label to each axes instance.\n",
            "  \"\"\"Entry point for launching an IPython kernel.\n"
          ]
        },
        {
          "output_type": "display_data",
          "data": {
            "text/plain": [
              "<Figure size 432x288 with 1 Axes>"
            ],
            "image/png": "[encoded data removed]"
          },
          "metadata": {
            "needs_background": "light"
          }
        }
      ]
    },
    {
      "cell_type": "markdown",
      "source": [
        "**Education:** Another ordinal variable, not as influential as general health or high cholesterol above. However, there is some evidence to suggest people with higher education are less likely to suffer from diabetes.\n",
        "\n",
        "1 = Never attended school or only kindergarten\n",
        "\n",
        "2 = Grades 1 through 8 (Elementary)\n",
        "\n",
        "3 = Grades 9 through 11 (Some high school)\n",
        "\n",
        "4 = Grade 12 or GED (High school graduate)\n",
        "\n",
        "5 = College 1 year to 3 years (Some college or technical school)\n",
        "\n",
        "6 = College 4 years or more (College graduate)"
      ],
      "metadata": {
        "id": "49QtL-bDBM3H"
      }
    },
    {
      "cell_type": "code",
      "source": [
        "independent_variable = \"Education\"\n",
        "\n",
        "diabetes_N0_var_1 = data_cut[(data_cut['Diabetes_binary'] == 0) & (data_cut[independent_variable] == 1)]['Diabetes_binary'].count()\n",
        "diabetes_N0_var_2 = data_cut[(data_cut['Diabetes_binary'] == 0) & (data_cut[independent_variable] == 2)]['Diabetes_binary'].count()\n",
        "diabetes_N0_var_3 = data_cut[(data_cut['Diabetes_binary'] == 0) & (data_cut[independent_variable] == 3)]['Diabetes_binary'].count()\n",
        "diabetes_N0_var_4 = data_cut[(data_cut['Diabetes_binary'] == 0) & (data_cut[independent_variable] == 4)]['Diabetes_binary'].count()\n",
        "diabetes_N0_var_5 = data_cut[(data_cut['Diabetes_binary'] == 0) & (data_cut[independent_variable] == 5)]['Diabetes_binary'].count()\n",
        "diabetes_N0_var_6 = data_cut[(data_cut['Diabetes_binary'] == 0) & (data_cut[independent_variable] == 6)]['Diabetes_binary'].count()\n",
        "diabetes_Y1_var_1 = data_cut[(data_cut['Diabetes_binary'] == 1) & (data_cut[independent_variable] == 1)]['Diabetes_binary'].count()\n",
        "diabetes_Y1_var_2 = data_cut[(data_cut['Diabetes_binary'] == 1) & (data_cut[independent_variable] == 2)]['Diabetes_binary'].count()\n",
        "diabetes_Y1_var_3 = data_cut[(data_cut['Diabetes_binary'] == 1) & (data_cut[independent_variable] == 3)]['Diabetes_binary'].count()\n",
        "diabetes_Y1_var_4 = data_cut[(data_cut['Diabetes_binary'] == 1) & (data_cut[independent_variable] == 4)]['Diabetes_binary'].count()\n",
        "diabetes_Y1_var_5 = data_cut[(data_cut['Diabetes_binary'] == 1) & (data_cut[independent_variable] == 5)]['Diabetes_binary'].count()\n",
        "diabetes_Y1_var_6 = data_cut[(data_cut['Diabetes_binary'] == 1) & (data_cut[independent_variable] == 6)]['Diabetes_binary'].count()"
      ],
      "metadata": {
        "id": "8OY49W_2BL-k"
      },
      "execution_count": 348,
      "outputs": []
    },
    {
      "cell_type": "code",
      "source": [
        "width1 = 10\n",
        "height1 = 5\n",
        "width_height_1 = (width1, height1)\n",
        "\n",
        "plt.figure(figsize=width_height_1)\n",
        "\n",
        "ax = fig.add_axes([0,0,1,1])\n",
        "x_axis = ['Level 1', 'Level 1', 'Level 2', 'Level 2', 'Level 3', 'Level 3', 'Level 4', 'Level 4', 'Level 5', 'Level 5', 'Level 6', 'Level 6']\n",
        "y_axis = [diabetes_N0_var_1 ,diabetes_Y1_var_1, diabetes_N0_var_2, diabetes_Y1_var_2, diabetes_N0_var_3, diabetes_Y1_var_3,\n",
        "          diabetes_N0_var_4, diabetes_Y1_var_4, diabetes_N0_var_5, diabetes_Y1_var_5, diabetes_N0_var_6, diabetes_Y1_var_6]\n",
        "\n",
        "x_pos = np.arange(len(x_axis))\n",
        "\n",
        "# Create bars with different colors\n",
        "plt.bar(x_pos, y_axis, color=['green', 'red', 'green', 'red', 'green', 'red', 'green', 'red', 'green', 'red', 'green', 'red'])\n",
        "# Create names on the x-axis\n",
        "plt.xticks(x_pos, x_axis)\n",
        "plt.xticks(rotation=90)\n",
        "plt.title('Education Vs Diabetes')\n",
        "\n",
        "green_patch = mpatches.Patch(color='green', label='Non-Diabetic')\n",
        "red_patch = mpatches.Patch(color='red', label='Diabetic')\n",
        "plt.legend(handles=[green_patch, red_patch])\n",
        "\n",
        "plt.show()"
      ],
      "metadata": {
        "id": "vIR1iOEQCCyM",
        "colab": {
          "base_uri": "https://localhost:8080/",
          "height": 422
        },
        "outputId": "9e060453-27ae-42ce-9874-09569d9effb9"
      },
      "execution_count": 349,
      "outputs": [
        {
          "output_type": "stream",
          "name": "stderr",
          "text": [
            "/usr/local/lib/python3.7/dist-packages/ipykernel_launcher.py:7: MatplotlibDeprecationWarning: Adding an axes using the same arguments as a previous axes currently reuses the earlier instance.  In a future version, a new instance will always be created and returned.  Meanwhile, this warning can be suppressed, and the future behavior ensured, by passing a unique label to each axes instance.\n",
            "  import sys\n"
          ]
        },
        {
          "output_type": "display_data",
          "data": {
            "text/plain": [
              "<Figure size 720x360 with 1 Axes>"
            ],
            "image/png": "[encoded data removed]"
          },
          "metadata": {
            "needs_background": "light"
          }
        }
      ]
    },
    {
      "cell_type": "markdown",
      "source": [
        "**Gender:** Just taking a look out of interest. Even though it doesn't rate much against most other features in the Chi-Square Stats, you can still see the imbalance of female Vs male."
      ],
      "metadata": {
        "id": "LikEutFsD-QJ"
      }
    },
    {
      "cell_type": "code",
      "source": [
        "independent_variable = \"Sex\"\n",
        "\n",
        "diabetes_N0_var_F0 = data_cut[(data_cut['Diabetes_binary'] == 0) & (data_cut[independent_variable] == 0)]['Diabetes_binary'].count()\n",
        "diabetes_N0_var_M1 = data_cut[(data_cut['Diabetes_binary'] == 0) & (data_cut[independent_variable] == 1)]['Diabetes_binary'].count()\n",
        "diabetes_Y1_var_F0 = data_cut[(data_cut['Diabetes_binary'] == 1) & (data_cut[independent_variable] == 0)]['Diabetes_binary'].count()\n",
        "diabetes_Y1_var_M1 = data_cut[(data_cut['Diabetes_binary'] == 1) & (data_cut[independent_variable] == 1)]['Diabetes_binary'].count()"
      ],
      "metadata": {
        "id": "_wMAzh56ziVr"
      },
      "execution_count": 350,
      "outputs": []
    },
    {
      "cell_type": "code",
      "source": [
        "ax = fig.add_axes([0,0,1,1])\n",
        "x_axis = ['Female', 'Female', 'Male', 'Male']\n",
        "y_axis = [diabetes_N0_var_F0, diabetes_Y1_var_F0, diabetes_N0_var_M1, diabetes_Y1_var_M1]\n",
        "\n",
        "x_pos = np.arange(len(x_axis))\n",
        "\n",
        "# Create bars with different colors\n",
        "plt.bar(x_pos, y_axis, color=['green', 'red', 'green', 'red'])\n",
        "# Create names on the x-axis\n",
        "plt.xticks(x_pos, x_axis)\n",
        "\n",
        "green_patch = mpatches.Patch(color='green', label='Non-Diabetic')\n",
        "red_patch = mpatches.Patch(color='red', label='Diabetic')\n",
        "plt.legend(handles=[green_patch, red_patch])\n",
        "plt.title('Gender Vs Diabetes')\n",
        "\n",
        "\n",
        "plt.show()"
      ],
      "metadata": {
        "id": "ZC22lRPWD-QK",
        "colab": {
          "base_uri": "https://localhost:8080/",
          "height": 338
        },
        "outputId": "2aca0826-12e3-43f0-d940-b58fa30ae2fd"
      },
      "execution_count": 351,
      "outputs": [
        {
          "output_type": "stream",
          "name": "stderr",
          "text": [
            "/usr/local/lib/python3.7/dist-packages/ipykernel_launcher.py:1: MatplotlibDeprecationWarning: Adding an axes using the same arguments as a previous axes currently reuses the earlier instance.  In a future version, a new instance will always be created and returned.  Meanwhile, this warning can be suppressed, and the future behavior ensured, by passing a unique label to each axes instance.\n",
            "  \"\"\"Entry point for launching an IPython kernel.\n"
          ]
        },
        {
          "output_type": "display_data",
          "data": {
            "text/plain": [
              "<Figure size 432x288 with 1 Axes>"
            ],
            "image/png": "[encoded data removed]"
          },
          "metadata": {
            "needs_background": "light"
          }
        }
      ]
    },
    {
      "cell_type": "markdown",
      "source": [
        "## Numeric data  tests - Logistic Regression"
      ],
      "metadata": {
        "id": "ROd441_g8OPq"
      }
    },
    {
      "cell_type": "markdown",
      "source": [
        "### Read in our data_numeric dataset"
      ],
      "metadata": {
        "id": "8PdieuAY_k4f"
      }
    },
    {
      "cell_type": "code",
      "source": [
        "data_numeric"
      ],
      "metadata": {
        "id": "pL46Qmbh-hEu",
        "colab": {
          "base_uri": "https://localhost:8080/",
          "height": 423
        },
        "outputId": "552e0440-c20a-45b6-ab72-99a208c61fb9"
      },
      "execution_count": 352,
      "outputs": [
        {
          "output_type": "execute_result",
          "data": {
            "text/plain": [
              "       Diabetes_binary  MentHlth  PhysHlth   Age  Income\n",
              "0                  0.0       5.0      30.0   4.0     8.0\n",
              "1                  0.0       0.0       0.0  12.0     8.0\n",
              "2                  0.0       0.0      10.0  13.0     8.0\n",
              "3                  0.0       0.0       3.0  11.0     8.0\n",
              "4                  0.0       0.0       0.0   8.0     8.0\n",
              "...                ...       ...       ...   ...     ...\n",
              "70687              1.0       0.0       0.0   6.0     1.0\n",
              "70688              1.0       0.0       0.0  10.0     6.0\n",
              "70689              1.0      15.0       0.0  13.0     4.0\n",
              "70690              1.0       0.0       0.0  11.0     4.0\n",
              "70691              1.0       0.0       0.0   9.0     2.0\n",
              "\n",
              "[70692 rows x 5 columns]"
            ],
            "text/html": [
              "\n",
              "  <div id=\"df-dabf98e3-c33a-4e05-a866-ac2cbbee356f\">\n",
              "    <div class=\"colab-df-container\">\n",
              "      <div>\n",
              "<style scoped>\n",
              "    .dataframe tbody tr th:only-of-type {\n",
              "        vertical-align: middle;\n",
              "    }\n",
              "\n",
              "    .dataframe tbody tr th {\n",
              "        vertical-align: top;\n",
              "    }\n",
              "\n",
              "    .dataframe thead th {\n",
              "        text-align: right;\n",
              "    }\n",
              "</style>\n",
              "<table border=\"1\" class=\"dataframe\">\n",
              "  <thead>\n",
              "    <tr style=\"text-align: right;\">\n",
              "      <th></th>\n",
              "      <th>Diabetes_binary</th>\n",
              "      <th>MentHlth</th>\n",
              "      <th>PhysHlth</th>\n",
              "      <th>Age</th>\n",
              "      <th>Income</th>\n",
              "    </tr>\n",
              "  </thead>\n",
              "  <tbody>\n",
              "    <tr>\n",
              "      <th>0</th>\n",
              "      <td>0.0</td>\n",
              "      <td>5.0</td>\n",
              "      <td>30.0</td>\n",
              "      <td>4.0</td>\n",
              "      <td>8.0</td>\n",
              "    </tr>\n",
              "    <tr>\n",
              "      <th>1</th>\n",
              "      <td>0.0</td>\n",
              "      <td>0.0</td>\n",
              "      <td>0.0</td>\n",
              "      <td>12.0</td>\n",
              "      <td>8.0</td>\n",
              "    </tr>\n",
              "    <tr>\n",
              "      <th>2</th>\n",
              "      <td>0.0</td>\n",
              "      <td>0.0</td>\n",
              "      <td>10.0</td>\n",
              "      <td>13.0</td>\n",
              "      <td>8.0</td>\n",
              "    </tr>\n",
              "    <tr>\n",
              "      <th>3</th>\n",
              "      <td>0.0</td>\n",
              "      <td>0.0</td>\n",
              "      <td>3.0</td>\n",
              "      <td>11.0</td>\n",
              "      <td>8.0</td>\n",
              "    </tr>\n",
              "    <tr>\n",
              "      <th>4</th>\n",
              "      <td>0.0</td>\n",
              "      <td>0.0</td>\n",
              "      <td>0.0</td>\n",
              "      <td>8.0</td>\n",
              "      <td>8.0</td>\n",
              "    </tr>\n",
              "    <tr>\n",
              "      <th>...</th>\n",
              "      <td>...</td>\n",
              "      <td>...</td>\n",
              "      <td>...</td>\n",
              "      <td>...</td>\n",
              "      <td>...</td>\n",
              "    </tr>\n",
              "    <tr>\n",
              "      <th>70687</th>\n",
              "      <td>1.0</td>\n",
              "      <td>0.0</td>\n",
              "      <td>0.0</td>\n",
              "      <td>6.0</td>\n",
              "      <td>1.0</td>\n",
              "    </tr>\n",
              "    <tr>\n",
              "      <th>70688</th>\n",
              "      <td>1.0</td>\n",
              "      <td>0.0</td>\n",
              "      <td>0.0</td>\n",
              "      <td>10.0</td>\n",
              "      <td>6.0</td>\n",
              "    </tr>\n",
              "    <tr>\n",
              "      <th>70689</th>\n",
              "      <td>1.0</td>\n",
              "      <td>15.0</td>\n",
              "      <td>0.0</td>\n",
              "      <td>13.0</td>\n",
              "      <td>4.0</td>\n",
              "    </tr>\n",
              "    <tr>\n",
              "      <th>70690</th>\n",
              "      <td>1.0</td>\n",
              "      <td>0.0</td>\n",
              "      <td>0.0</td>\n",
              "      <td>11.0</td>\n",
              "      <td>4.0</td>\n",
              "    </tr>\n",
              "    <tr>\n",
              "      <th>70691</th>\n",
              "      <td>1.0</td>\n",
              "      <td>0.0</td>\n",
              "      <td>0.0</td>\n",
              "      <td>9.0</td>\n",
              "      <td>2.0</td>\n",
              "    </tr>\n",
              "  </tbody>\n",
              "</table>\n",
              "<p>70692 rows × 5 columns</p>\n",
              "</div>\n",
              "      <button class=\"colab-df-convert\" onclick=\"convertToInteractive('df-dabf98e3-c33a-4e05-a866-ac2cbbee356f')\"\n",
              "              title=\"Convert this dataframe to an interactive table.\"\n",
              "              style=\"display:none;\">\n",
              "        \n",
              "  <svg xmlns=\"http://www.w3.org/2000/svg\" height=\"24px\"viewBox=\"0 0 24 24\"\n",
              "       width=\"24px\">\n",
              "    <path d=\"M0 0h24v24H0V0z\" fill=\"none\"/>\n",
              "    <path d=\"M18.56 5.44l.94 2.06.94-2.06 2.06-.94-2.06-.94-.94-2.06-.94 2.06-2.06.94zm-11 1L8.5 8.5l.94-2.06 2.06-.94-2.06-.94L8.5 2.5l-.94 2.06-2.06.94zm10 10l.94 2.06.94-2.06 2.06-.94-2.06-.94-.94-2.06-.94 2.06-2.06.94z\"/><path d=\"M17.41 7.96l-1.37-1.37c-.4-.4-.92-.59-1.43-.59-.52 0-1.04.2-1.43.59L10.3 9.45l-7.72 7.72c-.78.78-.78 2.05 0 2.83L4 21.41c.39.39.9.59 1.41.59.51 0 1.02-.2 1.41-.59l7.78-7.78 2.81-2.81c.8-.78.8-2.07 0-2.86zM5.41 20L4 18.59l7.72-7.72 1.47 1.35L5.41 20z\"/>\n",
              "  </svg>\n",
              "      </button>\n",
              "      \n",
              "  <style>\n",
              "    .colab-df-container {\n",
              "      display:flex;\n",
              "      flex-wrap:wrap;\n",
              "      gap: 12px;\n",
              "    }\n",
              "\n",
              "    .colab-df-convert {\n",
              "      background-color: #E8F0FE;\n",
              "      border: none;\n",
              "      border-radius: 50%;\n",
              "      cursor: pointer;\n",
              "      display: none;\n",
              "      fill: #1967D2;\n",
              "      height: 32px;\n",
              "      padding: 0 0 0 0;\n",
              "      width: 32px;\n",
              "    }\n",
              "\n",
              "    .colab-df-convert:hover {\n",
              "      background-color: #E2EBFA;\n",
              "      box-shadow: 0px 1px 2px rgba(60, 64, 67, 0.3), 0px 1px 3px 1px rgba(60, 64, 67, 0.15);\n",
              "      fill: #174EA6;\n",
              "    }\n",
              "\n",
              "    [theme=dark] .colab-df-convert {\n",
              "      background-color: #3B4455;\n",
              "      fill: #D2E3FC;\n",
              "    }\n",
              "\n",
              "    [theme=dark] .colab-df-convert:hover {\n",
              "      background-color: #434B5C;\n",
              "      box-shadow: 0px 1px 3px 1px rgba(0, 0, 0, 0.15);\n",
              "      filter: drop-shadow(0px 1px 2px rgba(0, 0, 0, 0.3));\n",
              "      fill: #FFFFFF;\n",
              "    }\n",
              "  </style>\n",
              "\n",
              "      <script>\n",
              "        const buttonEl =\n",
              "          document.querySelector('#df-dabf98e3-c33a-4e05-a866-ac2cbbee356f button.colab-df-convert');\n",
              "        buttonEl.style.display =\n",
              "          google.colab.kernel.accessAllowed ? 'block' : 'none';\n",
              "\n",
              "        async function convertToInteractive(key) {\n",
              "          const element = document.querySelector('#df-dabf98e3-c33a-4e05-a866-ac2cbbee356f');\n",
              "          const dataTable =\n",
              "            await google.colab.kernel.invokeFunction('convertToInteractive',\n",
              "                                                     [key], {});\n",
              "          if (!dataTable) return;\n",
              "\n",
              "          const docLinkHtml = 'Like what you see? Visit the ' +\n",
              "            '<a target=\"_blank\" href=https://colab.research.google.com/notebooks/data_table.ipynb>data table notebook</a>'\n",
              "            + ' to learn more about interactive tables.';\n",
              "          element.innerHTML = '';\n",
              "          dataTable['output_type'] = 'display_data';\n",
              "          await google.colab.output.renderOutput(dataTable, element);\n",
              "          const docLink = document.createElement('div');\n",
              "          docLink.innerHTML = docLinkHtml;\n",
              "          element.appendChild(docLink);\n",
              "        }\n",
              "      </script>\n",
              "    </div>\n",
              "  </div>\n",
              "  "
            ]
          },
          "metadata": {},
          "execution_count": 352
        }
      ]
    },
    {
      "cell_type": "code",
      "source": [
        "plt.rc(\"font\", size=14)\n",
        "sns.set(style=\"white\")\n",
        "sns.set(style=\"whitegrid\", color_codes=True)\n",
        "\n",
        "data_numeric.describe()"
      ],
      "metadata": {
        "id": "GUC9Uc_X-QqA",
        "colab": {
          "base_uri": "https://localhost:8080/",
          "height": 300
        },
        "outputId": "61687aff-c021-4f35-df61-4216f0f3912d"
      },
      "execution_count": 353,
      "outputs": [
        {
          "output_type": "execute_result",
          "data": {
            "text/plain": [
              "       Diabetes_binary      MentHlth      PhysHlth           Age        Income\n",
              "count     70692.000000  70692.000000  70692.000000  70692.000000  70692.000000\n",
              "mean          0.500000      3.752037      5.810417      8.584055      5.698311\n",
              "std           0.500004      8.155627     10.062261      2.852153      2.175196\n",
              "min           0.000000      0.000000      0.000000      1.000000      1.000000\n",
              "25%           0.000000      0.000000      0.000000      7.000000      4.000000\n",
              "50%           0.500000      0.000000      0.000000      9.000000      6.000000\n",
              "75%           1.000000      2.000000      6.000000     11.000000      8.000000\n",
              "max           1.000000     30.000000     30.000000     13.000000      8.000000"
            ],
            "text/html": [
              "\n",
              "  <div id=\"df-2f9f6c9a-0eca-4874-ba3c-49ccdb14a394\">\n",
              "    <div class=\"colab-df-container\">\n",
              "      <div>\n",
              "<style scoped>\n",
              "    .dataframe tbody tr th:only-of-type {\n",
              "        vertical-align: middle;\n",
              "    }\n",
              "\n",
              "    .dataframe tbody tr th {\n",
              "        vertical-align: top;\n",
              "    }\n",
              "\n",
              "    .dataframe thead th {\n",
              "        text-align: right;\n",
              "    }\n",
              "</style>\n",
              "<table border=\"1\" class=\"dataframe\">\n",
              "  <thead>\n",
              "    <tr style=\"text-align: right;\">\n",
              "      <th></th>\n",
              "      <th>Diabetes_binary</th>\n",
              "      <th>MentHlth</th>\n",
              "      <th>PhysHlth</th>\n",
              "      <th>Age</th>\n",
              "      <th>Income</th>\n",
              "    </tr>\n",
              "  </thead>\n",
              "  <tbody>\n",
              "    <tr>\n",
              "      <th>count</th>\n",
              "      <td>70692.000000</td>\n",
              "      <td>70692.000000</td>\n",
              "      <td>70692.000000</td>\n",
              "      <td>70692.000000</td>\n",
              "      <td>70692.000000</td>\n",
              "    </tr>\n",
              "    <tr>\n",
              "      <th>mean</th>\n",
              "      <td>0.500000</td>\n",
              "      <td>3.752037</td>\n",
              "      <td>5.810417</td>\n",
              "      <td>8.584055</td>\n",
              "      <td>5.698311</td>\n",
              "    </tr>\n",
              "    <tr>\n",
              "      <th>std</th>\n",
              "      <td>0.500004</td>\n",
              "      <td>8.155627</td>\n",
              "      <td>10.062261</td>\n",
              "      <td>2.852153</td>\n",
              "      <td>2.175196</td>\n",
              "    </tr>\n",
              "    <tr>\n",
              "      <th>min</th>\n",
              "      <td>0.000000</td>\n",
              "      <td>0.000000</td>\n",
              "      <td>0.000000</td>\n",
              "      <td>1.000000</td>\n",
              "      <td>1.000000</td>\n",
              "    </tr>\n",
              "    <tr>\n",
              "      <th>25%</th>\n",
              "      <td>0.000000</td>\n",
              "      <td>0.000000</td>\n",
              "      <td>0.000000</td>\n",
              "      <td>7.000000</td>\n",
              "      <td>4.000000</td>\n",
              "    </tr>\n",
              "    <tr>\n",
              "      <th>50%</th>\n",
              "      <td>0.500000</td>\n",
              "      <td>0.000000</td>\n",
              "      <td>0.000000</td>\n",
              "      <td>9.000000</td>\n",
              "      <td>6.000000</td>\n",
              "    </tr>\n",
              "    <tr>\n",
              "      <th>75%</th>\n",
              "      <td>1.000000</td>\n",
              "      <td>2.000000</td>\n",
              "      <td>6.000000</td>\n",
              "      <td>11.000000</td>\n",
              "      <td>8.000000</td>\n",
              "    </tr>\n",
              "    <tr>\n",
              "      <th>max</th>\n",
              "      <td>1.000000</td>\n",
              "      <td>30.000000</td>\n",
              "      <td>30.000000</td>\n",
              "      <td>13.000000</td>\n",
              "      <td>8.000000</td>\n",
              "    </tr>\n",
              "  </tbody>\n",
              "</table>\n",
              "</div>\n",
              "      <button class=\"colab-df-convert\" onclick=\"convertToInteractive('df-2f9f6c9a-0eca-4874-ba3c-49ccdb14a394')\"\n",
              "              title=\"Convert this dataframe to an interactive table.\"\n",
              "              style=\"display:none;\">\n",
              "        \n",
              "  <svg xmlns=\"http://www.w3.org/2000/svg\" height=\"24px\"viewBox=\"0 0 24 24\"\n",
              "       width=\"24px\">\n",
              "    <path d=\"M0 0h24v24H0V0z\" fill=\"none\"/>\n",
              "    <path d=\"M18.56 5.44l.94 2.06.94-2.06 2.06-.94-2.06-.94-.94-2.06-.94 2.06-2.06.94zm-11 1L8.5 8.5l.94-2.06 2.06-.94-2.06-.94L8.5 2.5l-.94 2.06-2.06.94zm10 10l.94 2.06.94-2.06 2.06-.94-2.06-.94-.94-2.06-.94 2.06-2.06.94z\"/><path d=\"M17.41 7.96l-1.37-1.37c-.4-.4-.92-.59-1.43-.59-.52 0-1.04.2-1.43.59L10.3 9.45l-7.72 7.72c-.78.78-.78 2.05 0 2.83L4 21.41c.39.39.9.59 1.41.59.51 0 1.02-.2 1.41-.59l7.78-7.78 2.81-2.81c.8-.78.8-2.07 0-2.86zM5.41 20L4 18.59l7.72-7.72 1.47 1.35L5.41 20z\"/>\n",
              "  </svg>\n",
              "      </button>\n",
              "      \n",
              "  <style>\n",
              "    .colab-df-container {\n",
              "      display:flex;\n",
              "      flex-wrap:wrap;\n",
              "      gap: 12px;\n",
              "    }\n",
              "\n",
              "    .colab-df-convert {\n",
              "      background-color: #E8F0FE;\n",
              "      border: none;\n",
              "      border-radius: 50%;\n",
              "      cursor: pointer;\n",
              "      display: none;\n",
              "      fill: #1967D2;\n",
              "      height: 32px;\n",
              "      padding: 0 0 0 0;\n",
              "      width: 32px;\n",
              "    }\n",
              "\n",
              "    .colab-df-convert:hover {\n",
              "      background-color: #E2EBFA;\n",
              "      box-shadow: 0px 1px 2px rgba(60, 64, 67, 0.3), 0px 1px 3px 1px rgba(60, 64, 67, 0.15);\n",
              "      fill: #174EA6;\n",
              "    }\n",
              "\n",
              "    [theme=dark] .colab-df-convert {\n",
              "      background-color: #3B4455;\n",
              "      fill: #D2E3FC;\n",
              "    }\n",
              "\n",
              "    [theme=dark] .colab-df-convert:hover {\n",
              "      background-color: #434B5C;\n",
              "      box-shadow: 0px 1px 3px 1px rgba(0, 0, 0, 0.15);\n",
              "      filter: drop-shadow(0px 1px 2px rgba(0, 0, 0, 0.3));\n",
              "      fill: #FFFFFF;\n",
              "    }\n",
              "  </style>\n",
              "\n",
              "      <script>\n",
              "        const buttonEl =\n",
              "          document.querySelector('#df-2f9f6c9a-0eca-4874-ba3c-49ccdb14a394 button.colab-df-convert');\n",
              "        buttonEl.style.display =\n",
              "          google.colab.kernel.accessAllowed ? 'block' : 'none';\n",
              "\n",
              "        async function convertToInteractive(key) {\n",
              "          const element = document.querySelector('#df-2f9f6c9a-0eca-4874-ba3c-49ccdb14a394');\n",
              "          const dataTable =\n",
              "            await google.colab.kernel.invokeFunction('convertToInteractive',\n",
              "                                                     [key], {});\n",
              "          if (!dataTable) return;\n",
              "\n",
              "          const docLinkHtml = 'Like what you see? Visit the ' +\n",
              "            '<a target=\"_blank\" href=https://colab.research.google.com/notebooks/data_table.ipynb>data table notebook</a>'\n",
              "            + ' to learn more about interactive tables.';\n",
              "          element.innerHTML = '';\n",
              "          dataTable['output_type'] = 'display_data';\n",
              "          await google.colab.output.renderOutput(dataTable, element);\n",
              "          const docLink = document.createElement('div');\n",
              "          docLink.innerHTML = docLinkHtml;\n",
              "          element.appendChild(docLink);\n",
              "        }\n",
              "      </script>\n",
              "    </div>\n",
              "  </div>\n",
              "  "
            ]
          },
          "metadata": {},
          "execution_count": 353
        }
      ]
    },
    {
      "cell_type": "markdown",
      "source": [
        "Show that it's balanced - even diabetes Y/N"
      ],
      "metadata": {
        "id": "qrfm8gdx_tum"
      }
    },
    {
      "cell_type": "code",
      "source": [
        "sns.countplot(x='Diabetes_binary',data=data_numeric,palette='hls')\n",
        "plt.show()\n",
        "plt.savefig('count_plot')"
      ],
      "metadata": {
        "id": "9fmjuz3a8lJz",
        "colab": {
          "base_uri": "https://localhost:8080/",
          "height": 302
        },
        "outputId": "e5152206-2a4e-4d72-ba22-bb9937ff4c1d"
      },
      "execution_count": 354,
      "outputs": [
        {
          "output_type": "display_data",
          "data": {
            "text/plain": [
              "<Figure size 432x288 with 1 Axes>"
            ],
            "image/png": "[encoded data removed]"
          },
          "metadata": {}
        },
        {
          "output_type": "display_data",
          "data": {
            "text/plain": [
              "<Figure size 432x288 with 0 Axes>"
            ]
          },
          "metadata": {}
        }
      ]
    },
    {
      "cell_type": "markdown",
      "source": [
        "Let's check correlations"
      ],
      "metadata": {
        "id": "ebVIxUxbAFE3"
      }
    },
    {
      "cell_type": "code",
      "source": [
        "data_numeric.plot.scatter(x='MentHlth', y='PhysHlth')"
      ],
      "metadata": {
        "id": "Ueid5hyKALRN",
        "colab": {
          "base_uri": "https://localhost:8080/",
          "height": 340
        },
        "outputId": "6b65c9be-8c93-4adf-b698-dcf6abce426a"
      },
      "execution_count": 355,
      "outputs": [
        {
          "output_type": "stream",
          "name": "stderr",
          "text": [
            "*c* argument looks like a single numeric RGB or RGBA sequence, which should be avoided as value-mapping will have precedence in case its length matches with *x* & *y*.  Please use the *color* keyword-argument or provide a 2-D array with a single row if you intend to specify the same RGB or RGBA value for all points.\n"
          ]
        },
        {
          "output_type": "execute_result",
          "data": {
            "text/plain": [
              "<matplotlib.axes._subplots.AxesSubplot at 0x7f7a1961b4d0>"
            ]
          },
          "metadata": {},
          "execution_count": 355
        },
        {
          "output_type": "display_data",
          "data": {
            "text/plain": [
              "<Figure size 432x288 with 1 Axes>"
            ],
            "image/png": "[encoded data removed]"
          },
          "metadata": {}
        }
      ]
    },
    {
      "cell_type": "code",
      "source": [
        "data_numeric.plot.scatter(x='Age', y='PhysHlth')"
      ],
      "metadata": {
        "id": "r0vcX1DcALTb",
        "colab": {
          "base_uri": "https://localhost:8080/",
          "height": 340
        },
        "outputId": "459b1adb-4ae5-4ca2-e2f6-eab0bbd482b5"
      },
      "execution_count": 356,
      "outputs": [
        {
          "output_type": "stream",
          "name": "stderr",
          "text": [
            "*c* argument looks like a single numeric RGB or RGBA sequence, which should be avoided as value-mapping will have precedence in case its length matches with *x* & *y*.  Please use the *color* keyword-argument or provide a 2-D array with a single row if you intend to specify the same RGB or RGBA value for all points.\n"
          ]
        },
        {
          "output_type": "execute_result",
          "data": {
            "text/plain": [
              "<matplotlib.axes._subplots.AxesSubplot at 0x7f7a195be3d0>"
            ]
          },
          "metadata": {},
          "execution_count": 356
        },
        {
          "output_type": "display_data",
          "data": {
            "text/plain": [
              "<Figure size 432x288 with 1 Axes>"
            ],
            "image/png": "[encoded data removed]"
          },
          "metadata": {}
        }
      ]
    },
    {
      "cell_type": "code",
      "source": [
        "sns.set()\n",
        "%matplotlib inline\n",
        "data_numeric.plot.scatter(x='Age', y='MentHlth')"
      ],
      "metadata": {
        "id": "kyUV9N_FALKS",
        "colab": {
          "base_uri": "https://localhost:8080/",
          "height": 340
        },
        "outputId": "72f729f1-815f-4a27-851b-27bdd97bc66a"
      },
      "execution_count": 357,
      "outputs": [
        {
          "output_type": "stream",
          "name": "stderr",
          "text": [
            "*c* argument looks like a single numeric RGB or RGBA sequence, which should be avoided as value-mapping will have precedence in case its length matches with *x* & *y*.  Please use the *color* keyword-argument or provide a 2-D array with a single row if you intend to specify the same RGB or RGBA value for all points.\n"
          ]
        },
        {
          "output_type": "execute_result",
          "data": {
            "text/plain": [
              "<matplotlib.axes._subplots.AxesSubplot at 0x7f7a1953b4d0>"
            ]
          },
          "metadata": {},
          "execution_count": 357
        },
        {
          "output_type": "display_data",
          "data": {
            "text/plain": [
              "<Figure size 432x288 with 1 Axes>"
            ],
            "image/png": "[encoded data removed]"
          },
          "metadata": {
            "needs_background": "light"
          }
        }
      ]
    },
    {
      "cell_type": "code",
      "source": [
        "data_numeric.plot.scatter(x='Age', y='Income')"
      ],
      "metadata": {
        "id": "mceY_uzJALWs",
        "colab": {
          "base_uri": "https://localhost:8080/",
          "height": 340
        },
        "outputId": "6140aacb-b0a6-466b-d205-df90a45a6908"
      },
      "execution_count": 358,
      "outputs": [
        {
          "output_type": "stream",
          "name": "stderr",
          "text": [
            "*c* argument looks like a single numeric RGB or RGBA sequence, which should be avoided as value-mapping will have precedence in case its length matches with *x* & *y*.  Please use the *color* keyword-argument or provide a 2-D array with a single row if you intend to specify the same RGB or RGBA value for all points.\n"
          ]
        },
        {
          "output_type": "execute_result",
          "data": {
            "text/plain": [
              "<matplotlib.axes._subplots.AxesSubplot at 0x7f7a195b1e50>"
            ]
          },
          "metadata": {},
          "execution_count": 358
        },
        {
          "output_type": "display_data",
          "data": {
            "text/plain": [
              "<Figure size 432x288 with 1 Axes>"
            ],
            "image/png": "[encoded data removed]"
          },
          "metadata": {
            "needs_background": "light"
          }
        }
      ]
    },
    {
      "cell_type": "code",
      "source": [
        "from statsmodels.stats.outliers_influence import variance_inflation_factor\n",
        "from patsy import dmatrices\n",
        "from statsmodels.api import add_constant\n",
        "corr = data_numeric[['MentHlth','PhysHlth','Age', 'Income']].corr()\n",
        "corr.style.background_gradient(cmap='coolwarm')"
      ],
      "metadata": {
        "id": "0Gepp_OTCOc6",
        "colab": {
          "base_uri": "https://localhost:8080/",
          "height": 174
        },
        "outputId": "f065139c-8d0e-4573-a8a4-03ff8010692c"
      },
      "execution_count": 359,
      "outputs": [
        {
          "output_type": "execute_result",
          "data": {
            "text/plain": [
              "<pandas.io.formats.style.Styler at 0x7f7a19529710>"
            ],
            "text/html": [
              "<style type=\"text/css\">\n",
              "#T_03d07_row0_col0, #T_03d07_row1_col1, #T_03d07_row2_col2, #T_03d07_row3_col3 {\n",
              "  background-color: #b40426;\n",
              "  color: #f1f1f1;\n",
              "}\n",
              "#T_03d07_row0_col1 {\n",
              "  background-color: #e0dbd8;\n",
              "  color: #000000;\n",
              "}\n",
              "#T_03d07_row0_col2 {\n",
              "  background-color: #4257c9;\n",
              "  color: #f1f1f1;\n",
              "}\n",
              "#T_03d07_row0_col3 {\n",
              "  background-color: #4961d2;\n",
              "  color: #f1f1f1;\n",
              "}\n",
              "#T_03d07_row1_col0 {\n",
              "  background-color: #dadce0;\n",
              "  color: #000000;\n",
              "}\n",
              "#T_03d07_row1_col2 {\n",
              "  background-color: #779af7;\n",
              "  color: #f1f1f1;\n",
              "}\n",
              "#T_03d07_row1_col3, #T_03d07_row3_col0, #T_03d07_row3_col1, #T_03d07_row3_col2 {\n",
              "  background-color: #3b4cc0;\n",
              "  color: #f1f1f1;\n",
              "}\n",
              "#T_03d07_row2_col0 {\n",
              "  background-color: #5875e1;\n",
              "  color: #f1f1f1;\n",
              "}\n",
              "#T_03d07_row2_col1 {\n",
              "  background-color: #98b9ff;\n",
              "  color: #000000;\n",
              "}\n",
              "#T_03d07_row2_col3 {\n",
              "  background-color: #5e7de7;\n",
              "  color: #f1f1f1;\n",
              "}\n",
              "</style>\n",
              "<table id=\"T_03d07_\" class=\"dataframe\">\n",
              "  <thead>\n",
              "    <tr>\n",
              "      <th class=\"blank level0\" >&nbsp;</th>\n",
              "      <th class=\"col_heading level0 col0\" >MentHlth</th>\n",
              "      <th class=\"col_heading level0 col1\" >PhysHlth</th>\n",
              "      <th class=\"col_heading level0 col2\" >Age</th>\n",
              "      <th class=\"col_heading level0 col3\" >Income</th>\n",
              "    </tr>\n",
              "  </thead>\n",
              "  <tbody>\n",
              "    <tr>\n",
              "      <th id=\"T_03d07_level0_row0\" class=\"row_heading level0 row0\" >MentHlth</th>\n",
              "      <td id=\"T_03d07_row0_col0\" class=\"data row0 col0\" >1.000000</td>\n",
              "      <td id=\"T_03d07_row0_col1\" class=\"data row0 col1\" >0.380272</td>\n",
              "      <td id=\"T_03d07_row0_col2\" class=\"data row0 col2\" >-0.101746</td>\n",
              "      <td id=\"T_03d07_row0_col3\" class=\"data row0 col3\" >-0.219070</td>\n",
              "    </tr>\n",
              "    <tr>\n",
              "      <th id=\"T_03d07_level0_row1\" class=\"row_heading level0 row1\" >PhysHlth</th>\n",
              "      <td id=\"T_03d07_row1_col0\" class=\"data row1 col0\" >0.380272</td>\n",
              "      <td id=\"T_03d07_row1_col1\" class=\"data row1 col1\" >1.000000</td>\n",
              "      <td id=\"T_03d07_row1_col2\" class=\"data row1 col2\" >0.084852</td>\n",
              "      <td id=\"T_03d07_row1_col3\" class=\"data row1 col3\" >-0.279326</td>\n",
              "    </tr>\n",
              "    <tr>\n",
              "      <th id=\"T_03d07_level0_row2\" class=\"row_heading level0 row2\" >Age</th>\n",
              "      <td id=\"T_03d07_row2_col0\" class=\"data row2 col0\" >-0.101746</td>\n",
              "      <td id=\"T_03d07_row2_col1\" class=\"data row2 col1\" >0.084852</td>\n",
              "      <td id=\"T_03d07_row2_col2\" class=\"data row2 col2\" >1.000000</td>\n",
              "      <td id=\"T_03d07_row2_col3\" class=\"data row2 col3\" >-0.130140</td>\n",
              "    </tr>\n",
              "    <tr>\n",
              "      <th id=\"T_03d07_level0_row3\" class=\"row_heading level0 row3\" >Income</th>\n",
              "      <td id=\"T_03d07_row3_col0\" class=\"data row3 col0\" >-0.219070</td>\n",
              "      <td id=\"T_03d07_row3_col1\" class=\"data row3 col1\" >-0.279326</td>\n",
              "      <td id=\"T_03d07_row3_col2\" class=\"data row3 col2\" >-0.130140</td>\n",
              "      <td id=\"T_03d07_row3_col3\" class=\"data row3 col3\" >1.000000</td>\n",
              "    </tr>\n",
              "  </tbody>\n",
              "</table>\n"
            ]
          },
          "metadata": {},
          "execution_count": 359
        }
      ]
    },
    {
      "cell_type": "markdown",
      "source": [
        "There is some correlation between between age and physical health, as expected, so let's do a futher check for multicollinearity using VIF to be certain."
      ],
      "metadata": {
        "id": "yfONaaNmBzni"
      }
    },
    {
      "cell_type": "code",
      "source": [
        "X=data_numeric[['MentHlth','PhysHlth','Age', 'Income']]\n",
        "X = add_constant(X)\n",
        "y=data_numeric['Diabetes_binary']\n",
        "vif = [variance_inflation_factor(X.to_numpy(), i) for i in range(X.to_numpy().shape[1])]\n",
        "\n",
        "print(vif[1:])"
      ],
      "metadata": {
        "id": "F3d2DXY8BQnr",
        "colab": {
          "base_uri": "https://localhost:8080/"
        },
        "outputId": "57d1ffc3-2e4a-4f15-8b79-83f6d2c8dbec"
      },
      "execution_count": 360,
      "outputs": [
        {
          "output_type": "stream",
          "name": "stdout",
          "text": [
            "[1.2202116759699817, 1.240334820900413, 1.0473162869688768, 1.1220361886411128]\n"
          ]
        },
        {
          "output_type": "stream",
          "name": "stderr",
          "text": [
            "/usr/local/lib/python3.7/dist-packages/statsmodels/tsa/tsatools.py:117: FutureWarning: In a future version of pandas all arguments of concat except for the argument 'objs' will be keyword-only\n",
            "  x = pd.concat(x[::order], 1)\n"
          ]
        }
      ]
    },
    {
      "cell_type": "markdown",
      "source": [
        "As we can see, there's no VIF > 10 and, in fact, all approximately 1 so we're good to use all four independent variables for our logistic regression."
      ],
      "metadata": {
        "id": "aCse6WFHDsMK"
      }
    },
    {
      "cell_type": "markdown",
      "source": [
        "### Run logistic regression models"
      ],
      "metadata": {
        "id": "FsQf41ZzEJ7k"
      }
    },
    {
      "cell_type": "code",
      "source": [
        "import statsmodels.api as sm\n",
        " \n",
        "import statsmodels.discrete.discrete_model as sml\n",
        "\n",
        "X=data_numeric[['MentHlth','PhysHlth','Age', 'Income']]\n",
        "logit = sml.Logit(y, X).fit()\n",
        "print(logit.summary())"
      ],
      "metadata": {
        "id": "Mra0c6uuALZl",
        "colab": {
          "base_uri": "https://localhost:8080/"
        },
        "outputId": "38bcfe17-d6d6-4e58-e58d-2b4d42f04c7b"
      },
      "execution_count": 361,
      "outputs": [
        {
          "output_type": "stream",
          "name": "stdout",
          "text": [
            "Optimization terminated successfully.\n",
            "         Current function value: 0.626808\n",
            "         Iterations 5\n",
            "                           Logit Regression Results                           \n",
            "==============================================================================\n",
            "Dep. Variable:        Diabetes_binary   No. Observations:                70692\n",
            "Model:                          Logit   Df Residuals:                    70688\n",
            "Method:                           MLE   Df Model:                            3\n",
            "Date:                Sun, 03 Apr 2022   Pseudo R-squ.:                 0.09571\n",
            "Time:                        16:41:52   Log-Likelihood:                -44310.\n",
            "converged:                       True   LL-Null:                       -49000.\n",
            "Covariance Type:            nonrobust   LLR p-value:                     0.000\n",
            "==============================================================================\n",
            "                 coef    std err          z      P>|z|      [0.025      0.975]\n",
            "------------------------------------------------------------------------------\n",
            "MentHlth      -0.0003      0.001     -0.261      0.794      -0.002       0.002\n",
            "PhysHlth       0.0289      0.001     31.352      0.000       0.027       0.031\n",
            "Age            0.1375      0.002     67.245      0.000       0.134       0.142\n",
            "Income        -0.2262      0.003    -78.265      0.000      -0.232      -0.221\n",
            "==============================================================================\n"
          ]
        }
      ]
    },
    {
      "cell_type": "markdown",
      "source": [
        "High level scores at a glance:\n",
        "\n",
        "*   LLR p-value is is signficant (0 < 0.05) which tells us our logistic regression is better than null model.\n",
        "*   However, we don't have a great pseudo r-squared value of 0.0957: this should ideally be between 0.2 and 0.4 for a good result.\n",
        "\n",
        "We need to run a confusion matrix to get more information.\n",
        "\n"
      ],
      "metadata": {
        "id": "SOh3iLiJFLSJ"
      }
    },
    {
      "cell_type": "code",
      "source": [
        "confusion_matrix = pd.crosstab(y, np.round_(logit.predict(),0), rownames=['Actual'], colnames=['Predicted'])\n",
        "sns.heatmap(confusion_matrix, annot=True)"
      ],
      "metadata": {
        "id": "adbbde5DEQmt",
        "colab": {
          "base_uri": "https://localhost:8080/",
          "height": 302
        },
        "outputId": "fce085bb-f204-4f8c-e9e2-de473b48bebc"
      },
      "execution_count": 362,
      "outputs": [
        {
          "output_type": "execute_result",
          "data": {
            "text/plain": [
              "<matplotlib.axes._subplots.AxesSubplot at 0x7f7a19640550>"
            ]
          },
          "metadata": {},
          "execution_count": 362
        },
        {
          "output_type": "display_data",
          "data": {
            "text/plain": [
              "<Figure size 432x288 with 2 Axes>"
            ],
            "image/png": "[encoded data removed]"
          },
          "metadata": {
            "needs_background": "light"
          }
        }
      ]
    },
    {
      "cell_type": "markdown",
      "source": [
        "Looking at the confusion matrix, the approximate breakdown % of TP, TN, FP, FN is:\n",
        "\n",
        "32.5, 32.5, 18, 17\n",
        "\n",
        "This is not great."
      ],
      "metadata": {
        "id": "I3OoEYHmXtAZ"
      }
    },
    {
      "cell_type": "markdown",
      "source": [
        "Let's run some accuracy stats..."
      ],
      "metadata": {
        "id": "ZZhjtVbYY-ik"
      }
    },
    {
      "cell_type": "code",
      "source": [
        "from sklearn.metrics import classification_report\n",
        "print(classification_report(y, np.round_(logit.predict(),0)))"
      ],
      "metadata": {
        "id": "GmdiwgNPEQpL",
        "colab": {
          "base_uri": "https://localhost:8080/"
        },
        "outputId": "edd675b0-c87f-4412-d453-772a0787fa18"
      },
      "execution_count": 363,
      "outputs": [
        {
          "output_type": "stream",
          "name": "stdout",
          "text": [
            "              precision    recall  f1-score   support\n",
            "\n",
            "         0.0       0.65      0.65      0.65     35346\n",
            "         1.0       0.65      0.64      0.65     35346\n",
            "\n",
            "    accuracy                           0.65     70692\n",
            "   macro avg       0.65      0.65      0.65     70692\n",
            "weighted avg       0.65      0.65      0.65     70692\n",
            "\n"
          ]
        }
      ]
    },
    {
      "cell_type": "markdown",
      "source": [
        "As expected, precision only 65%, as is the f1-score.\n",
        "\n",
        "**Conclusion:** Logisitic regression model for these features is better than nothing but not good enough for reliable prediction"
      ],
      "metadata": {
        "id": "Xad7y0YBZEPZ"
      }
    },
    {
      "cell_type": "markdown",
      "source": [
        "### Tweak the data and retest - remove Mental Health (bad scoring p-value)"
      ],
      "metadata": {
        "id": "VLoTSfLcBRxA"
      }
    },
    {
      "cell_type": "code",
      "source": [
        "X=data_numeric[['PhysHlth', 'Age', 'Income']]\n",
        "logit = sml.Logit(y, X).fit()\n",
        "print(logit.summary())"
      ],
      "metadata": {
        "id": "YMsaG5oVBRa0",
        "colab": {
          "base_uri": "https://localhost:8080/"
        },
        "outputId": "8d3c6758-e17c-415d-f49d-557c419fa9f8"
      },
      "execution_count": 364,
      "outputs": [
        {
          "output_type": "stream",
          "name": "stdout",
          "text": [
            "Optimization terminated successfully.\n",
            "         Current function value: 0.626809\n",
            "         Iterations 5\n",
            "                           Logit Regression Results                           \n",
            "==============================================================================\n",
            "Dep. Variable:        Diabetes_binary   No. Observations:                70692\n",
            "Model:                          Logit   Df Residuals:                    70689\n",
            "Method:                           MLE   Df Model:                            2\n",
            "Date:                Sun, 03 Apr 2022   Pseudo R-squ.:                 0.09571\n",
            "Time:                        16:41:53   Log-Likelihood:                -44310.\n",
            "converged:                       True   LL-Null:                       -49000.\n",
            "Covariance Type:            nonrobust   LLR p-value:                     0.000\n",
            "==============================================================================\n",
            "                 coef    std err          z      P>|z|      [0.025      0.975]\n",
            "------------------------------------------------------------------------------\n",
            "PhysHlth       0.0288      0.001     34.044      0.000       0.027       0.031\n",
            "Age            0.1375      0.002     67.289      0.000       0.133       0.142\n",
            "Income        -0.2263      0.003    -78.364      0.000      -0.232      -0.221\n",
            "==============================================================================\n"
          ]
        }
      ]
    },
    {
      "cell_type": "code",
      "source": [
        "confusion_matrix = pd.crosstab(y, np.round_(logit.predict(),0), rownames=['Actual'], colnames=['Predicted'])\n",
        "sns.heatmap(confusion_matrix, annot=True)"
      ],
      "metadata": {
        "id": "sWEuA-cHMwhK",
        "colab": {
          "base_uri": "https://localhost:8080/",
          "height": 302
        },
        "outputId": "fa8300bd-4bba-4c0b-9fba-62f6a92672ce"
      },
      "execution_count": 365,
      "outputs": [
        {
          "output_type": "execute_result",
          "data": {
            "text/plain": [
              "<matplotlib.axes._subplots.AxesSubplot at 0x7f7a197091d0>"
            ]
          },
          "metadata": {},
          "execution_count": 365
        },
        {
          "output_type": "display_data",
          "data": {
            "text/plain": [
              "<Figure size 432x288 with 2 Axes>"
            ],
            "image/png": "[encoded data removed]"
          },
          "metadata": {
            "needs_background": "light"
          }
        }
      ]
    },
    {
      "cell_type": "code",
      "source": [
        "from sklearn.metrics import classification_report\n",
        "print(classification_report(y, np.round_(logit.predict(),0)))"
      ],
      "metadata": {
        "colab": {
          "base_uri": "https://localhost:8080/"
        },
        "outputId": "a346fc81-8fe2-415a-c0f2-88c4f8443f76",
        "id": "IChgCN0LOk5i"
      },
      "execution_count": 366,
      "outputs": [
        {
          "output_type": "stream",
          "name": "stdout",
          "text": [
            "              precision    recall  f1-score   support\n",
            "\n",
            "         0.0       0.65      0.65      0.65     35346\n",
            "         1.0       0.65      0.64      0.65     35346\n",
            "\n",
            "    accuracy                           0.65     70692\n",
            "   macro avg       0.65      0.65      0.65     70692\n",
            "weighted avg       0.65      0.65      0.65     70692\n",
            "\n"
          ]
        }
      ]
    },
    {
      "cell_type": "markdown",
      "source": [
        "**Conclusion:** Results not any better, let's go with original evaluation, i.e. logistical regression not great for this model."
      ],
      "metadata": {
        "id": "aaoYuForM5Ia"
      }
    },
    {
      "cell_type": "markdown",
      "source": [
        "### Tweak the data and retest - remove Age (highly correlated with income)"
      ],
      "metadata": {
        "id": "m9O0IWjOcEBR"
      }
    },
    {
      "cell_type": "code",
      "source": [
        "X=data_numeric[['MentHlth','PhysHlth','Income']]\n",
        "logit = sml.Logit(y, X).fit()\n",
        "print(logit.summary())"
      ],
      "metadata": {
        "colab": {
          "base_uri": "https://localhost:8080/"
        },
        "outputId": "d8c934bf-391c-440a-8a40-5639b667921c",
        "id": "Ujzg2b4UcEBS"
      },
      "execution_count": 367,
      "outputs": [
        {
          "output_type": "stream",
          "name": "stdout",
          "text": [
            "Optimization terminated successfully.\n",
            "         Current function value: 0.661868\n",
            "         Iterations 5\n",
            "                           Logit Regression Results                           \n",
            "==============================================================================\n",
            "Dep. Variable:        Diabetes_binary   No. Observations:                70692\n",
            "Model:                          Logit   Df Residuals:                    70689\n",
            "Method:                           MLE   Df Model:                            2\n",
            "Date:                Sun, 03 Apr 2022   Pseudo R-squ.:                 0.04513\n",
            "Time:                        16:41:54   Log-Likelihood:                -46789.\n",
            "converged:                       True   LL-Null:                       -49000.\n",
            "Covariance Type:            nonrobust   LLR p-value:                     0.000\n",
            "==============================================================================\n",
            "                 coef    std err          z      P>|z|      [0.025      0.975]\n",
            "------------------------------------------------------------------------------\n",
            "MentHlth       0.0027      0.001      2.559      0.010       0.001       0.005\n",
            "PhysHlth       0.0458      0.001     52.722      0.000       0.044       0.048\n",
            "Income        -0.0600      0.001    -43.215      0.000      -0.063      -0.057\n",
            "==============================================================================\n"
          ]
        }
      ]
    },
    {
      "cell_type": "code",
      "source": [
        "confusion_matrix = pd.crosstab(y, np.round_(logit.predict(),0), rownames=['Actual'], colnames=['Predicted'])\n",
        "sns.heatmap(confusion_matrix, annot=True)"
      ],
      "metadata": {
        "colab": {
          "base_uri": "https://localhost:8080/",
          "height": 302
        },
        "outputId": "dc650dff-0928-4124-ab37-1e0db44eb87c",
        "id": "mCWjLyyNcEBT"
      },
      "execution_count": 368,
      "outputs": [
        {
          "output_type": "execute_result",
          "data": {
            "text/plain": [
              "<matplotlib.axes._subplots.AxesSubplot at 0x7f7a19815d10>"
            ]
          },
          "metadata": {},
          "execution_count": 368
        },
        {
          "output_type": "display_data",
          "data": {
            "text/plain": [
              "<Figure size 432x288 with 2 Axes>"
            ],
            "image/png": "[encoded data removed]"
          },
          "metadata": {
            "needs_background": "light"
          }
        }
      ]
    },
    {
      "cell_type": "code",
      "source": [
        "from sklearn.metrics import classification_report\n",
        "print(classification_report(y, np.round_(logit.predict(),0)))"
      ],
      "metadata": {
        "colab": {
          "base_uri": "https://localhost:8080/"
        },
        "outputId": "acbb7ee3-3968-4c6d-8010-0b928799054b",
        "id": "5Gta-eoZcEBT"
      },
      "execution_count": 369,
      "outputs": [
        {
          "output_type": "stream",
          "name": "stdout",
          "text": [
            "              precision    recall  f1-score   support\n",
            "\n",
            "         0.0       0.56      0.85      0.68     35346\n",
            "         1.0       0.69      0.35      0.46     35346\n",
            "\n",
            "    accuracy                           0.60     70692\n",
            "   macro avg       0.63      0.60      0.57     70692\n",
            "weighted avg       0.63      0.60      0.57     70692\n",
            "\n"
          ]
        }
      ]
    },
    {
      "cell_type": "markdown",
      "source": [
        "**Conclusion:** Results not any better, let's go with original evaluation, i.e. logistical regression not great for this model."
      ],
      "metadata": {
        "id": "K0RglghBcEBU"
      }
    },
    {
      "cell_type": "markdown",
      "source": [
        "### Tweak the data and retest - remove Income (highly correlated with Age)"
      ],
      "metadata": {
        "id": "SNo40Lh0jtGB"
      }
    },
    {
      "cell_type": "code",
      "source": [
        "X=data_numeric[['MentHlth','PhysHlth','Age']]\n",
        "logit = sml.Logit(y, X).fit()\n",
        "print(logit.summary())"
      ],
      "metadata": {
        "colab": {
          "base_uri": "https://localhost:8080/"
        },
        "outputId": "661d2bc1-50cf-426b-8a29-8d4501d3905f",
        "id": "xlaZuN2DjtGC"
      },
      "execution_count": 370,
      "outputs": [
        {
          "output_type": "stream",
          "name": "stdout",
          "text": [
            "Optimization terminated successfully.\n",
            "         Current function value: 0.675355\n",
            "         Iterations 4\n",
            "                           Logit Regression Results                           \n",
            "==============================================================================\n",
            "Dep. Variable:        Diabetes_binary   No. Observations:                70692\n",
            "Model:                          Logit   Df Residuals:                    70689\n",
            "Method:                           MLE   Df Model:                            2\n",
            "Date:                Sun, 03 Apr 2022   Pseudo R-squ.:                 0.02567\n",
            "Time:                        16:41:54   Log-Likelihood:                -47742.\n",
            "converged:                       True   LL-Null:                       -49000.\n",
            "Covariance Type:            nonrobust   LLR p-value:                     0.000\n",
            "==============================================================================\n",
            "                 coef    std err          z      P>|z|      [0.025      0.975]\n",
            "------------------------------------------------------------------------------\n",
            "MentHlth      -0.0048      0.001     -4.713      0.000      -0.007      -0.003\n",
            "PhysHlth       0.0363      0.001     40.655      0.000       0.035       0.038\n",
            "Age           -0.0008      0.001     -0.783      0.434      -0.003       0.001\n",
            "==============================================================================\n"
          ]
        }
      ]
    },
    {
      "cell_type": "code",
      "source": [
        "confusion_matrix = pd.crosstab(y, np.round_(logit.predict(),0), rownames=['Actual'], colnames=['Predicted'])\n",
        "sns.heatmap(confusion_matrix, annot=True)"
      ],
      "metadata": {
        "colab": {
          "base_uri": "https://localhost:8080/",
          "height": 302
        },
        "outputId": "c8bcd3a0-8052-4c3a-a6da-d48146e0c21f",
        "id": "XfYGpSxZjtGC"
      },
      "execution_count": 371,
      "outputs": [
        {
          "output_type": "execute_result",
          "data": {
            "text/plain": [
              "<matplotlib.axes._subplots.AxesSubplot at 0x7f7a1a2fe2d0>"
            ]
          },
          "metadata": {},
          "execution_count": 371
        },
        {
          "output_type": "display_data",
          "data": {
            "text/plain": [
              "<Figure size 432x288 with 2 Axes>"
            ],
            "image/png": "[encoded data removed]"
          },
          "metadata": {
            "needs_background": "light"
          }
        }
      ]
    },
    {
      "cell_type": "code",
      "source": [
        "from sklearn.metrics import classification_report\n",
        "print(classification_report(y, np.round_(logit.predict(),0)))"
      ],
      "metadata": {
        "colab": {
          "base_uri": "https://localhost:8080/"
        },
        "outputId": "09840829-0d03-420f-b29a-5a2b9dd08df6",
        "id": "VMq9mjfpjtGD"
      },
      "execution_count": 372,
      "outputs": [
        {
          "output_type": "stream",
          "name": "stdout",
          "text": [
            "              precision    recall  f1-score   support\n",
            "\n",
            "         0.0       0.58      0.67      0.62     35346\n",
            "         1.0       0.61      0.52      0.56     35346\n",
            "\n",
            "    accuracy                           0.59     70692\n",
            "   macro avg       0.59      0.59      0.59     70692\n",
            "weighted avg       0.59      0.59      0.59     70692\n",
            "\n"
          ]
        }
      ]
    },
    {
      "cell_type": "markdown",
      "source": [
        "**Conclusion:** Results not any better, let's go with original evaluation, i.e. logistical regression not great for this model."
      ],
      "metadata": {
        "id": "qgSUI0ynjtGD"
      }
    },
    {
      "cell_type": "markdown",
      "source": [
        "## Prediction Models - WIP"
      ],
      "metadata": {
        "id": "gRp7QKYp8Y1z"
      }
    },
    {
      "cell_type": "markdown",
      "source": [
        "### Split the dataset"
      ],
      "metadata": {
        "id": "X1DWC_gp8Y1z"
      }
    },
    {
      "cell_type": "code",
      "source": [
        "X = data_cut.drop(['Diabetes_binary'], axis=1)\n",
        "y = data_cut['Diabetes_binary']"
      ],
      "metadata": {
        "id": "wlaHgjn68Y10"
      },
      "execution_count": 385,
      "outputs": []
    },
    {
      "cell_type": "code",
      "source": [
        "from sklearn.model_selection import train_test_split\n",
        "Xtrain, Xtest, ytrain, ytest = train_test_split(X, y, test_size=0.2, random_state=1)"
      ],
      "metadata": {
        "id": "0-TXZ53n8Y11"
      },
      "execution_count": 386,
      "outputs": []
    },
    {
      "cell_type": "markdown",
      "source": [
        "### MODEL: Decision Tree Classifier"
      ],
      "metadata": {
        "id": "ZIXUqZeN8Y14"
      }
    },
    {
      "cell_type": "code",
      "source": [
        "from sklearn import tree                                # 1. Choose model class\n",
        "model = tree.DecisionTreeClassifier()                   # 2. Instantiate model\n",
        "model.fit(Xtrain, ytrain)                               # 3. Fit model to data\n",
        "ytrain_model = model.predict(Xtrain)                    # 4. Predict on training data\n",
        "ytest_model = model.predict(Xtest)                      # 5. Predict on test data"
      ],
      "metadata": {
        "id": "xE8PngG_8Y14"
      },
      "execution_count": 387,
      "outputs": []
    },
    {
      "cell_type": "code",
      "source": [
        "from sklearn.metrics import f1_score,accuracy_score\n",
        "\n",
        "DTC_train_accuracy = accuracy_score(ytrain, ytrain_model)\n",
        "DTC_train_f1_score = f1_score(ytrain, ytrain_model,average='weighted')\n",
        "print(\"--- DTC Training metrics ---\")\n",
        "print(\"F1-Score: \", DTC_train_f1_score*100)\n",
        "print(\"Accuracy Score: \", DTC_train_accuracy*100)\n",
        "\n",
        "DTC_test_accuracy = accuracy_score(ytest, ytest_model)\n",
        "DTC_test_f1_score = f1_score(ytest, ytest_model,average='weighted')\n",
        "print(\"--- DTC Testing metrics ---\")\n",
        "print(\"F1-Score: \", DTC_test_f1_score*100)\n",
        "print(\"Accuracy Score: \", DTC_test_accuracy*100)"
      ],
      "metadata": {
        "colab": {
          "base_uri": "https://localhost:8080/"
        },
        "id": "mdDZutV6LwOq",
        "outputId": "165accf8-6efd-4096-c96f-3792e0c490cd"
      },
      "execution_count": 388,
      "outputs": [
        {
          "output_type": "stream",
          "name": "stdout",
          "text": [
            "--- DTC Training metrics ---\n",
            "F1-Score:  96.69571629349754\n",
            "Accuracy Score:  96.69690378936573\n",
            "--- DTC Testing metrics ---\n",
            "F1-Score:  65.41608851748568\n",
            "Accuracy Score:  65.44310064360988\n"
          ]
        }
      ]
    },
    {
      "cell_type": "markdown",
      "source": [
        "### MODEL: Naive Bayes"
      ],
      "metadata": {
        "id": "LQYypXWH8Y10"
      }
    },
    {
      "cell_type": "code",
      "source": [
        "from sklearn.naive_bayes import GaussianNB    # 1. Choose model class\n",
        "model = GaussianNB()                          # 2. Instantiate model\n",
        "model.fit(Xtrain, ytrain)                     # 3. Fit model to data\n",
        "ytrain_model = model.predict(Xtrain)          # 4. Predict on training data\n",
        "ytest_model = model.predict(Xtest)            # 5. Predict on test data"
      ],
      "metadata": {
        "id": "lpAQxDZe8Y11"
      },
      "execution_count": 389,
      "outputs": []
    },
    {
      "cell_type": "code",
      "source": [
        "from sklearn.metrics import f1_score,accuracy_score\n",
        "\n",
        "GNB_train_accuracy = accuracy_score(ytrain, ytrain_model)\n",
        "GNB_train_f1_score = f1_score(ytrain, ytrain_model,average='weighted')\n",
        "print(\"--- GNB Training metrics ---\")\n",
        "print(\"F1-Score: \", GNB_train_f1_score*100)\n",
        "print(\"Accuracy Score: \", GNB_train_accuracy*100)\n",
        "\n",
        "GNB_test_accuracy = accuracy_score(ytest, ytest_model)\n",
        "GNB_test_f1_score = f1_score(ytest, ytest_model,average='weighted')\n",
        "print(\"--- GNB Testing metrics ---\")\n",
        "print(\"F1-Score: \", GNB_test_f1_score*100)\n",
        "print(\"Accuracy Score: \", GNB_test_accuracy*100)"
      ],
      "metadata": {
        "colab": {
          "base_uri": "https://localhost:8080/"
        },
        "id": "3dQdtpqoD_II",
        "outputId": "e3ecbb08-74cd-414f-8b6a-4a988aa1c1b1"
      },
      "execution_count": 390,
      "outputs": [
        {
          "output_type": "stream",
          "name": "stdout",
          "text": [
            "--- GNB Training metrics ---\n",
            "F1-Score:  69.48429575651578\n",
            "Accuracy Score:  69.62495358336427\n",
            "--- GNB Testing metrics ---\n",
            "F1-Score:  70.13461318562796\n",
            "Accuracy Score:  70.30200155597991\n"
          ]
        }
      ]
    },
    {
      "cell_type": "markdown",
      "source": [
        "### MODEL: KNN"
      ],
      "metadata": {
        "id": "vt-nwQxV8Y13"
      }
    },
    {
      "cell_type": "code",
      "source": [
        "from sklearn.neighbors import KNeighborsClassifier      # 1. Choose model class\n",
        "model = KNeighborsClassifier()                          # 2. Instantiate model\n",
        "model.fit(Xtrain, ytrain)                               # 3. Fit model to data\n",
        "ytrain_model = model.predict(Xtrain)                    # 4. Predict on training data\n",
        "ytest_model = model.predict(Xtest)                      # 5. Predict on test data"
      ],
      "metadata": {
        "id": "KrN_hxdL8Y13"
      },
      "execution_count": 391,
      "outputs": []
    },
    {
      "cell_type": "code",
      "source": [
        "KNN_train_accuracy = accuracy_score(ytrain, ytrain_model)\n",
        "KNN_train_f1_score = f1_score(ytrain, ytrain_model,average='weighted')\n",
        "print(\"--- KNN Training metrics ---\")\n",
        "print(\"F1-Score: \", KNN_train_f1_score*100)\n",
        "print(\"Accuracy Score: \", KNN_train_accuracy*100)\n",
        "\n",
        "KNN_test_accuracy = accuracy_score(ytest, ytest_model)\n",
        "KNN_test_f1_score = f1_score(ytest, ytest_model,average='weighted')\n",
        "print(\"--- KNN Testing metrics ---\")\n",
        "print(\"F1-Score: \", KNN_test_f1_score*100)\n",
        "print(\"Accuracy Score: \", KNN_test_accuracy*100)"
      ],
      "metadata": {
        "colab": {
          "base_uri": "https://localhost:8080/"
        },
        "outputId": "4f3eddf1-bb56-46b8-fcf6-5d32f82bc3fd",
        "id": "iskYEaxP8Y13"
      },
      "execution_count": 392,
      "outputs": [
        {
          "output_type": "stream",
          "name": "stdout",
          "text": [
            "--- KNN Training metrics ---\n",
            "F1-Score:  78.60768697219994\n",
            "Accuracy Score:  78.621823775927\n",
            "--- KNN Testing metrics ---\n",
            "F1-Score:  69.35250588377573\n",
            "Accuracy Score:  69.36134097178018\n"
          ]
        }
      ]
    },
    {
      "cell_type": "markdown",
      "source": [
        "### MODEL: Random Forest"
      ],
      "metadata": {
        "id": "S2QNUx7BPd-q"
      }
    },
    {
      "cell_type": "code",
      "source": [
        "from sklearn.ensemble import RandomForestClassifier     # 1. Choose model class\n",
        "model = RandomForestClassifier()                        # 2. Instantiate model\n",
        "model.fit(Xtrain, ytrain)                               # 3. Fit model to data\n",
        "ytrain_model = model.predict(Xtrain)                    # 4. Predict on training data\n",
        "ytest_model = model.predict(Xtest)                      # 5. Predict on test data"
      ],
      "metadata": {
        "id": "HH42ijnvPd-r"
      },
      "execution_count": 393,
      "outputs": []
    },
    {
      "cell_type": "code",
      "source": [
        "RFC_train_accuracy = accuracy_score(ytrain, ytrain_model)\n",
        "RFC_train_f1_score = f1_score(ytrain, ytrain_model,average='weighted')\n",
        "print(\"--- Random Forest Training metrics ---\")\n",
        "print(\"F1-Score: \", RFC_train_f1_score*100)\n",
        "print(\"Accuracy Score: \", RFC_train_accuracy*100)\n",
        "\n",
        "RFC_test_accuracy = accuracy_score(ytest, ytest_model)\n",
        "RFC_test_f1_score = f1_score(ytest, ytest_model,average='weighted')\n",
        "print(\"--- Random Forest Testing metrics ---\")\n",
        "print(\"F1-Score: \", RFC_test_f1_score*100)\n",
        "print(\"Accuracy Score: \", RFC_test_accuracy*100)"
      ],
      "metadata": {
        "colab": {
          "base_uri": "https://localhost:8080/"
        },
        "outputId": "807452fd-811b-4b50-c13e-6fc652043371",
        "id": "pkU9ClcrPd-r"
      },
      "execution_count": 394,
      "outputs": [
        {
          "output_type": "stream",
          "name": "stdout",
          "text": [
            "--- Random Forest Training metrics ---\n",
            "F1-Score:  96.6950679782163\n",
            "Accuracy Score:  96.6951355365763\n",
            "--- Random Forest Testing metrics ---\n",
            "F1-Score:  71.89657239839694\n",
            "Accuracy Score:  71.92870782940803\n"
          ]
        }
      ]
    },
    {
      "cell_type": "markdown",
      "source": [
        "### Compare the different model scores"
      ],
      "metadata": {
        "id": "OcEN5GTXQiqo"
      }
    },
    {
      "cell_type": "code",
      "source": [
        "print('Decision Tree Classifier training score: ' + str(DTC_train_f1_score*100))\n",
        "print('Decision Tree Classifier testing score: ' + str(DTC_test_f1_score*100))\n",
        "print('Naive Bayes training score: ' + str(GNB_train_f1_score*100))\n",
        "print('Naive Bayes testing score: ' + str(GNB_test_f1_score*100))\n",
        "print('KNN training score: ' + str(KNN_train_f1_score*100))\n",
        "print('KNN testing score: ' + str(KNN_test_f1_score*100))\n",
        "print('Random Forest training score: ' + str(RFC_train_f1_score*100))\n",
        "print('Random Forest testing score: ' + str(RFC_test_f1_score*100))"
      ],
      "metadata": {
        "colab": {
          "base_uri": "https://localhost:8080/"
        },
        "id": "JPLZfO9HQhyF",
        "outputId": "bab5ff0f-6620-473c-8edc-865ddaf16867"
      },
      "execution_count": 395,
      "outputs": [
        {
          "output_type": "stream",
          "name": "stdout",
          "text": [
            "Decision Tree Classifier training score: 96.69571629349754\n",
            "Decision Tree Classifier testing score: 65.41608851748568\n",
            "Naive Bayes training score: 69.48429575651578\n",
            "Naive Bayes testing score: 70.13461318562796\n",
            "KNN training score: 78.60768697219994\n",
            "KNN testing score: 69.35250588377573\n",
            "Random Forest training score: 96.6950679782163\n",
            "Random Forest testing score: 71.89657239839694\n"
          ]
        }
      ]
    },
    {
      "cell_type": "markdown",
      "source": [
        "### **CONCLUSION:** Random Forest fared best, followed by Decision Tree Classification"
      ],
      "metadata": {
        "id": "APblnVOJUD0H"
      }
    }
  ]
}